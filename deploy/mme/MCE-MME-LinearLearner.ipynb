{
 "cells": [
  {
   "cell_type": "markdown",
   "metadata": {},
   "source": [
    "# Amazon SageMaker Multi-Model Endpoints using Linear Learner\n",
    "With [Amazon SageMaker multi-model endpoints](https://docs.aws.amazon.com/sagemaker/latest/dg/multi-model-endpoints.html), customers can create an endpoint that seamlessly hosts up to thousands of models. These endpoints are well suited to use cases where any one of a large number of models, which can be served from a common inference container, needs to be invokable on-demand and where it is acceptable for infrequently invoked models to incur some additional latency. For applications which require consistently low inference latency, a traditional endpoint is still the best choice.\n",
    "\n",
    "At a high level, Amazon SageMaker manages the loading and unloading of models for a multi-model endpoint, as they are needed. When an invocation request is made for a particular model, Amazon SageMaker routes the request to an instance assigned to that model, downloads the model artifacts from S3 onto that instance, and initiates loading of the model into the memory of the container. As soon as the loading is complete, Amazon SageMaker performs the requested invocation and returns the result. If the model is already loaded in memory on the selected instance, the downloading and loading steps are skipped and the invocation is performed immediately.\n",
    "\n",
    "Amazon SageMaker inference pipeline model consists of a sequence of containers that serve inference requests by combining preprocessing, predictions and post-processing data science tasks.  An inference pipeline allows you to apply the same preprocessing code used during model training, to process the inference request data used for predictions.\n",
    "\n",
    "To demonstrate how multi-model endpoints are created and used with inference pipeline, this notebook provides an example using a set of Linear Learner models that each predict housing prices for a single location. This domain is used as a simple example to easily experiment with multi-model endpoints.  \n",
    "\n",
    "This notebook showcases three MME capabilities: \n",
    "* Native MME support with Amazon SageMaker Linear Learner algorithm.  Because of the native support there is no need for you to create a custom container.  \n",
    "* Native MME support with Amazon SageMaker Inference Pipelines.\n",
    "* Granular InvokeModel access to multiple models hosted on the MME using IAM condition key.\n",
    "\n",
    "To demonstrate these capabilities, the notebook discusses the use case of predicting house prices in multiple cities using linear regression.  House prices are predicted based on features like number of bedrooms, number of garages, square footage etc.  Depending on the city, the features affect the house price differently.  For example, small changes in the square footage cause a drastic change in house prices in New York when compared to price changes in Houston.  For accurate house price predictions, we will train multiple linear regression models, a unique location specific model per city.  \n",
    "\n",
    "![](./cw_charts/MCE-MME-LinearLearner.png)\n"
   ]
  },
  {
   "cell_type": "markdown",
   "metadata": {},
   "source": [
    "### Contents\n",
    "\n",
    "1. [Generate synthetic data for housing models](#Generate-synthetic-data-for-housing-models)\n",
    "1. [Preprocess the raw housing data using Scikit Learn model](#Preprocess-synthetic-housing-data-using-scikit-learn)\n",
    "1. [Train multiple house value prediction models for multiple cities](#Train-multiple-house-value-prediction-models)\n",
    "1. [Create model entity with multi model support](#Create-sagemaker-multi-model-support)\n",
    "1. [Create an inference pipeline with sklearn model and MME linear learner model](#Create-inference-pipeline)\n",
    "1. [Exercise the inference pipeline - Get predictions from the different  linear learner models](#Exercise-inference-pipeline)\n",
    "1. [Update Multi Model Endpoint with new models](#update-models)\n",
    "1. [Explore granular access to the target models of MME](#Finegrain-control-invoke-models)\n",
    "1. [Endpoint CloudWatch Metrics Analysis](#CW-metric-analysis)\n",
    "1. [Clean up](#CleanUp)"
   ]
  },
  {
   "cell_type": "markdown",
   "metadata": {},
   "source": [
    "\n",
    "## Section 1 - Generate synthetic data for housing models <a id='Generate-synthetic-data-for-housing-models'></a>\n",
    "\n",
    "In this section, you will generate synthetic data that will be used to train the linear learner models.  The data generated consists of 6 numerical features - the year the house was built in, house size in square feet, number of bedrooms, number of bathroom, the lot size and number of garages and two categorial features - deck and front_porch.  "
   ]
  },
  {
   "cell_type": "code",
   "execution_count": 3,
   "metadata": {},
   "outputs": [],
   "source": [
    "import numpy as np\n",
    "import pandas as pd\n",
    "import json\n",
    "import datetime\n",
    "import time\n",
    "import boto3\n",
    "import sagemaker\n",
    "import os\n",
    "\n",
    "from time import gmtime, strftime\n",
    "from random import choice\n",
    "\n",
    "from sagemaker import get_execution_role\n",
    "\n",
    "from sagemaker.multidatamodel import MULTI_MODEL_CONTAINER_MODE\n",
    "from sagemaker.multidatamodel import MultiDataModel\n",
    "\n",
    "from sklearn.model_selection import train_test_split"
   ]
  },
  {
   "cell_type": "code",
   "execution_count": 4,
   "metadata": {},
   "outputs": [],
   "source": [
    "NUM_HOUSES_PER_LOCATION = 1000\n",
    "LOCATIONS  = ['NewYork_NY',    'LosAngeles_CA',   'Chicago_IL',    'Houston_TX',   'Dallas_TX',\n",
    "              'Phoenix_AZ',    'Philadelphia_PA', 'SanAntonio_TX', 'SanDiego_CA',  'SanFrancisco_CA']\n",
    "MAX_YEAR = 2019"
   ]
  },
  {
   "cell_type": "code",
   "execution_count": 5,
   "metadata": {},
   "outputs": [],
   "source": [
    "def gen_price(house):\n",
    "    \"\"\"Generate price based on features of the house\"\"\"\n",
    "    \n",
    "    if house['FRONT_PORCH'] == 'y':\n",
    "        garage = 1\n",
    "    else:\n",
    "        garage = 0\n",
    "        \n",
    "    if house['FRONT_PORCH'] == 'y':\n",
    "        front_porch = 1\n",
    "    else:\n",
    "        front_porch = 0\n",
    "        \n",
    "    price = int(150 * house['SQUARE_FEET'] + \\\n",
    "                10000 * house['NUM_BEDROOMS'] + \\\n",
    "                15000 * house['NUM_BATHROOMS'] + \\\n",
    "                15000 * house['LOT_ACRES'] + \\\n",
    "                10000 * garage + \\\n",
    "                10000 * front_porch + \\\n",
    "                15000 * house['GARAGE_SPACES'] - \\\n",
    "                5000 * (MAX_YEAR - house['YEAR_BUILT']))\n",
    "    return price"
   ]
  },
  {
   "cell_type": "code",
   "execution_count": 6,
   "metadata": {},
   "outputs": [],
   "source": [
    "def gen_yes_no():\n",
    "    \"\"\"Generate values (y/n) for categorical features\"\"\"\n",
    "    answer = choice(['y', 'n'])\n",
    "    return answer"
   ]
  },
  {
   "cell_type": "code",
   "execution_count": 7,
   "metadata": {},
   "outputs": [],
   "source": [
    "def gen_random_house():\n",
    "    \"\"\"Generate a row of data (single house information)\"\"\"\n",
    "    house = {'SQUARE_FEET':    np.random.normal(3000, 750),\n",
    "             'NUM_BEDROOMS':  np.random.randint(2, 7),\n",
    "             'NUM_BATHROOMS': np.random.randint(2, 7) / 2,\n",
    "             'LOT_ACRES':     round(np.random.normal(1.0, 0.25), 2),\n",
    "             'GARAGE_SPACES': np.random.randint(0, 4),\n",
    "             'YEAR_BUILT':    min(MAX_YEAR, int(np.random.normal(1995, 10))),\n",
    "             'FRONT_PORCH':   gen_yes_no(),\n",
    "             'DECK':          gen_yes_no()\n",
    "            }\n",
    "    \n",
    "    price = gen_price(house)\n",
    "    \n",
    "    return [house['YEAR_BUILT'],   \n",
    "            house['SQUARE_FEET'], \n",
    "            house['NUM_BEDROOMS'], \n",
    "            house['NUM_BATHROOMS'], \n",
    "            house['LOT_ACRES'],    \n",
    "            house['GARAGE_SPACES'],\n",
    "            house['FRONT_PORCH'],    \n",
    "            house['DECK'], \n",
    "            price]"
   ]
  },
  {
   "cell_type": "code",
   "execution_count": 8,
   "metadata": {},
   "outputs": [],
   "source": [
    "def gen_houses(num_houses):\n",
    "    \"\"\"Generate housing dataset\"\"\"\n",
    "    house_list = []\n",
    "    \n",
    "    for _ in range(num_houses):\n",
    "        house_list.append(gen_random_house())\n",
    "        \n",
    "    df = pd.DataFrame(\n",
    "        house_list, \n",
    "        columns=[\n",
    "            'YEAR_BUILT',    \n",
    "            'SQUARE_FEET',  \n",
    "            'NUM_BEDROOMS',            \n",
    "            'NUM_BATHROOMS',\n",
    "            'LOT_ACRES',\n",
    "            'GARAGE_SPACES',\n",
    "            'FRONT_PORCH',\n",
    "            'DECK', \n",
    "            'PRICE']\n",
    "    )\n",
    "    return df"
   ]
  },
  {
   "cell_type": "code",
   "execution_count": 9,
   "metadata": {},
   "outputs": [],
   "source": [
    "def save_data_locally(location, train, test): \n",
    "    \"\"\"Save the housing data locally\"\"\"\n",
    "    os.makedirs('data/{0}/train'.format(location), exist_ok=True)\n",
    "    train.to_csv('data/{0}/train/train.csv'.format(location), sep=',', header=False, index=False)\n",
    "       \n",
    "    os.makedirs('data/{0}/test'.format(location), exist_ok=True)\n",
    "    test.to_csv('data/{0}/test/test.csv'.format(location), sep=',', header=False, index=False) "
   ]
  },
  {
   "cell_type": "code",
   "execution_count": 10,
   "metadata": {},
   "outputs": [],
   "source": [
    "#Generate housing data for multiple locations.\n",
    "#Change \"PARALLEL_TRAINING_JOBS \" to a lower number to limit the number of training jobs and models. Or to a higher value to experiment with more models.\n",
    "\n",
    "PARALLEL_TRAINING_JOBS = 4\n",
    "\n",
    "for loc in LOCATIONS[:PARALLEL_TRAINING_JOBS]:\n",
    "    houses = gen_houses(NUM_HOUSES_PER_LOCATION)\n",
    "    \n",
    "    #Spliting data into train and test in 90:10 ratio\n",
    "    #Not splitting the train data into train and val because its not preprocessed yet\n",
    "    train, test = train_test_split(houses, test_size=0.1)\n",
    "    save_data_locally(loc, train, test)\n"
   ]
  },
  {
   "cell_type": "code",
   "execution_count": 11,
   "metadata": {},
   "outputs": [
    {
     "data": {
      "text/html": [
       "<div>\n",
       "<style scoped>\n",
       "    .dataframe tbody tr th:only-of-type {\n",
       "        vertical-align: middle;\n",
       "    }\n",
       "\n",
       "    .dataframe tbody tr th {\n",
       "        vertical-align: top;\n",
       "    }\n",
       "\n",
       "    .dataframe thead th {\n",
       "        text-align: right;\n",
       "    }\n",
       "</style>\n",
       "<table border=\"1\" class=\"dataframe\">\n",
       "  <thead>\n",
       "    <tr style=\"text-align: right;\">\n",
       "      <th></th>\n",
       "      <th>YEAR_BUILT</th>\n",
       "      <th>SQUARE_FEET</th>\n",
       "      <th>NUM_BEDROOMS</th>\n",
       "      <th>NUM_BATHROOMS</th>\n",
       "      <th>LOT_ACRES</th>\n",
       "      <th>GARAGE_SPACES</th>\n",
       "      <th>FRONT_PORCH</th>\n",
       "      <th>DECK</th>\n",
       "      <th>PRICE</th>\n",
       "    </tr>\n",
       "  </thead>\n",
       "  <tbody>\n",
       "    <tr>\n",
       "      <th>0</th>\n",
       "      <td>2009</td>\n",
       "      <td>2243.756264</td>\n",
       "      <td>6</td>\n",
       "      <td>2.5</td>\n",
       "      <td>0.56</td>\n",
       "      <td>2</td>\n",
       "      <td>y</td>\n",
       "      <td>n</td>\n",
       "      <td>442463</td>\n",
       "    </tr>\n",
       "    <tr>\n",
       "      <th>1</th>\n",
       "      <td>2009</td>\n",
       "      <td>3766.017278</td>\n",
       "      <td>3</td>\n",
       "      <td>2.0</td>\n",
       "      <td>0.58</td>\n",
       "      <td>2</td>\n",
       "      <td>y</td>\n",
       "      <td>n</td>\n",
       "      <td>633602</td>\n",
       "    </tr>\n",
       "    <tr>\n",
       "      <th>2</th>\n",
       "      <td>1978</td>\n",
       "      <td>4607.563995</td>\n",
       "      <td>3</td>\n",
       "      <td>1.0</td>\n",
       "      <td>1.61</td>\n",
       "      <td>0</td>\n",
       "      <td>y</td>\n",
       "      <td>n</td>\n",
       "      <td>575284</td>\n",
       "    </tr>\n",
       "    <tr>\n",
       "      <th>3</th>\n",
       "      <td>1999</td>\n",
       "      <td>2375.051911</td>\n",
       "      <td>6</td>\n",
       "      <td>2.0</td>\n",
       "      <td>1.28</td>\n",
       "      <td>3</td>\n",
       "      <td>n</td>\n",
       "      <td>y</td>\n",
       "      <td>410457</td>\n",
       "    </tr>\n",
       "    <tr>\n",
       "      <th>4</th>\n",
       "      <td>1991</td>\n",
       "      <td>3985.030797</td>\n",
       "      <td>4</td>\n",
       "      <td>2.0</td>\n",
       "      <td>1.14</td>\n",
       "      <td>3</td>\n",
       "      <td>y</td>\n",
       "      <td>n</td>\n",
       "      <td>609854</td>\n",
       "    </tr>\n",
       "  </tbody>\n",
       "</table>\n",
       "</div>"
      ],
      "text/plain": [
       "   YEAR_BUILT  SQUARE_FEET  NUM_BEDROOMS  NUM_BATHROOMS  LOT_ACRES  \\\n",
       "0        2009  2243.756264             6            2.5       0.56   \n",
       "1        2009  3766.017278             3            2.0       0.58   \n",
       "2        1978  4607.563995             3            1.0       1.61   \n",
       "3        1999  2375.051911             6            2.0       1.28   \n",
       "4        1991  3985.030797             4            2.0       1.14   \n",
       "\n",
       "   GARAGE_SPACES FRONT_PORCH DECK   PRICE  \n",
       "0              2           y    n  442463  \n",
       "1              2           y    n  633602  \n",
       "2              0           y    n  575284  \n",
       "3              3           n    y  410457  \n",
       "4              3           y    n  609854  "
      ]
     },
     "execution_count": 11,
     "metadata": {},
     "output_type": "execute_result"
    }
   ],
   "source": [
    "#Shows the first few lines of data.\n",
    "houses.head()"
   ]
  },
  {
   "cell_type": "markdown",
   "metadata": {},
   "source": [
    "## Section 2 - Preprocess the raw housing data using Scikit Learn <a id='Preprocess-synthetic-housing-data-using-scikit-learn'></a>\n",
    "\n",
    "In this section, the categorical features of the data (deck and porch) are pre-processed using sklearn to convert them to one hot encoding representation.  \n",
    "\n",
    "#### We launch 4 PARALLEL jobs and hence we seemingly create 4 Transformers, but in reality they are just the SAME estimator being run again"
   ]
  },
  {
   "cell_type": "code",
   "execution_count": 12,
   "metadata": {},
   "outputs": [
    {
     "name": "stdout",
     "output_type": "stream",
     "text": [
      "Overwriting scripts/sklearn_preprocessor_mce_mme.py\n"
     ]
    }
   ],
   "source": [
    "%%writefile scripts/sklearn_preprocessor_mce_mme.py\n",
    "from __future__ import print_function\n",
    "\n",
    "import argparse\n",
    "import csv\n",
    "import json\n",
    "import os\n",
    "import shutil\n",
    "import sys\n",
    "import time\n",
    "from io import StringIO\n",
    "\n",
    "import numpy as np\n",
    "import pandas as pd\n",
    "from sagemaker_containers.beta.framework import (\n",
    "    content_types,\n",
    "    encoders,\n",
    "    env,\n",
    "    modules,\n",
    "    transformer,\n",
    "    worker,\n",
    ")\n",
    "from sklearn.compose import ColumnTransformer\n",
    "from sklearn.externals import joblib\n",
    "from sklearn.impute import SimpleImputer\n",
    "from sklearn.pipeline import Pipeline\n",
    "from sklearn.preprocessing import Binarizer, OneHotEncoder, StandardScaler\n",
    "\n",
    "# Since we get a headerless CSV file we specify the column names here.\n",
    "feature_columns_names = [\n",
    "    \"YEAR_BUILT\",\n",
    "    \"SQUARE_FEET\",\n",
    "    \"NUM_BEDROOMS\",\n",
    "    \"NUM_BATHROOMS\",\n",
    "    \"LOT_ACRES\",\n",
    "    \"GARAGE_SPACES\",\n",
    "    \"FRONT_PORCH\",\n",
    "    \"DECK\",\n",
    "]\n",
    "\n",
    "label_column = \"PRICE\"\n",
    "\n",
    "feature_columns_dtype = {\n",
    "    \"YEAR_BUILT\": str,\n",
    "    \"SQUARE_FEET\": np.float64,\n",
    "    \"NUM_BEDROOMS\": np.float64,\n",
    "    \"NUM_BATHROOMS\": np.float64,\n",
    "    \"LOT_ACRES\": np.float64,\n",
    "    \"GARAGE_SPACES\": np.float64,\n",
    "    \"FRONT_PORCH\": str,\n",
    "    \"DECK\": str,\n",
    "}\n",
    "\n",
    "label_column_dtype = {\"PRICE\": np.float64}\n",
    "\n",
    "\n",
    "if __name__ == \"__main__\":\n",
    "\n",
    "    parser = argparse.ArgumentParser()\n",
    "\n",
    "    # Sagemaker specific arguments. Defaults are set in the environment variables.\n",
    "    parser.add_argument(\"--output-data-dir\", type=str, default=os.environ[\"SM_OUTPUT_DATA_DIR\"])\n",
    "    parser.add_argument(\"--model-dir\", type=str, default=os.environ[\"SM_MODEL_DIR\"])\n",
    "    parser.add_argument(\"--train\", type=str, default=os.environ[\"SM_CHANNEL_TRAIN\"])\n",
    "\n",
    "    args = parser.parse_args()\n",
    "\n",
    "    # Take the set of files and read them all into a single pandas dataframe\n",
    "    input_files = [os.path.join(args.train, file) for file in os.listdir(args.train)]\n",
    "    if len(input_files) == 0:\n",
    "        raise ValueError(\n",
    "            (\n",
    "                \"There are no files in {}.\\n\"\n",
    "                + \"This usually indicates that the train channel was incorrectly specified,\\n\"\n",
    "                + \"the data specification in S3 was incorrectly specified or the role specified\\n\"\n",
    "                + \"does not have permission to access the data.\".format(args.train)\n",
    "            )\n",
    "        )\n",
    "\n",
    "    for file in input_files:\n",
    "        print(\"file :\", file)\n",
    "\n",
    "    raw_data = [pd.read_csv(file, header=None, names=feature_columns_names + [label_column])]\n",
    "\n",
    "    concat_data = pd.concat(raw_data)\n",
    "\n",
    "    print(concat_data)\n",
    "\n",
    "    # This section is adapted from the scikit-learn example of using preprocessing pipelines:\n",
    "    #\n",
    "    # https://scikit-learn.org/stable/auto_examples/compose/plot_column_transformer_mixed_types.html\n",
    "    #\n",
    "\n",
    "    numeric_features = list(feature_columns_names)\n",
    "    numeric_features.remove(\"FRONT_PORCH\")\n",
    "    numeric_features.remove(\"DECK\")\n",
    "    numeric_transformer = Pipeline(steps=[(\"scaler\", StandardScaler())])\n",
    "\n",
    "    categorical_features = [\"FRONT_PORCH\", \"DECK\"]\n",
    "    categorical_transformer = Pipeline(steps=[(\"onehot\", OneHotEncoder(handle_unknown=\"ignore\"))])\n",
    "\n",
    "    preprocessor = ColumnTransformer(\n",
    "        transformers=[\n",
    "            (\"num\", numeric_transformer, numeric_features),\n",
    "            (\"cat\", categorical_transformer, categorical_features),\n",
    "        ],\n",
    "        remainder=\"drop\",\n",
    "    )\n",
    "\n",
    "    preprocessor.fit(concat_data)\n",
    "\n",
    "    joblib.dump(preprocessor, os.path.join(args.model_dir, \"model.joblib\"))\n",
    "\n",
    "    print(\"saved model!\")\n",
    "\n",
    "\n",
    "def input_fn(input_data, content_type):\n",
    "    \"\"\"Parse input data payload\n",
    "\n",
    "    We currently only take csv input. Since we need to process both labelled\n",
    "    and unlabelled data we first determine whether the label column is present\n",
    "    by looking at how many columns were provided.\n",
    "    \"\"\"\n",
    "    if content_type == \"text/csv\":\n",
    "        # Read the raw input data as CSV.\n",
    "        df = pd.read_csv(StringIO(input_data), header=None)\n",
    "\n",
    "        if len(df.columns) == len(feature_columns_names) + 1:\n",
    "            # This is a labelled example, includes the ring label\n",
    "            df.columns = feature_columns_names + [label_column]\n",
    "        elif len(df.columns) == len(feature_columns_names):\n",
    "            # This is an unlabelled example.\n",
    "            df.columns = feature_columns_names\n",
    "\n",
    "        return df\n",
    "    else:\n",
    "        raise ValueError(\"{} not supported by script!\".format(content_type))\n",
    "\n",
    "\n",
    "def output_fn(prediction, accept):\n",
    "    \"\"\"Format prediction output\n",
    "\n",
    "    The default accept/content-type between containers for serial inference is JSON.\n",
    "    We also want to set the ContentType or mimetype as the same value as accept so the next\n",
    "    container can read the response payload correctly.\n",
    "    \"\"\"\n",
    "    if accept == \"application/json\":\n",
    "        instances = []\n",
    "        for row in prediction.tolist():\n",
    "            instances.append({\"features\": row})\n",
    "\n",
    "        json_output = {\"instances\": instances}\n",
    "\n",
    "        return worker.Response(json.dumps(json_output), mimetype=accept)\n",
    "    elif accept == \"text/csv\":\n",
    "        return worker.Response(encoders.encode(prediction, accept), mimetype=accept)\n",
    "    else:\n",
    "        raise RuntimeException(\"{} accept type is not supported by this script.\".format(accept))\n",
    "\n",
    "\n",
    "def predict_fn(input_data, model):\n",
    "    \"\"\"Preprocess input data\n",
    "\n",
    "    We implement this because the default uses .predict(), but our model is a preprocessor\n",
    "    so we want to use .transform().\n",
    "\n",
    "    The output is returned in the following order:\n",
    "\n",
    "        rest of features either one hot encoded or standardized\n",
    "    \"\"\"\n",
    "\n",
    "    print(\"Input data type \", type(input_data))\n",
    "\n",
    "    print(input_data)\n",
    "\n",
    "    features = model.transform(input_data)\n",
    "\n",
    "    print(\"features type \", type(features))\n",
    "\n",
    "    print(features)\n",
    "\n",
    "    features_array = features\n",
    "\n",
    "    print(\"features_array \", type(features_array))\n",
    "\n",
    "    print(features_array)\n",
    "\n",
    "    if label_column in input_data:\n",
    "        # Return the label (as the first column) and the set of features.\n",
    "        return np.insert(features_array, 0, input_data[label_column], axis=1)\n",
    "    else:\n",
    "        # Return only the set of features\n",
    "        return features\n",
    "\n",
    "\n",
    "def model_fn(model_dir):\n",
    "    \"\"\"Deserialize fitted model\"\"\"\n",
    "    preprocessor = joblib.load(os.path.join(model_dir, \"model.joblib\"))\n",
    "    return preprocessor\n",
    "\n"
   ]
  },
  {
   "cell_type": "code",
   "execution_count": 13,
   "metadata": {},
   "outputs": [
    {
     "name": "stdout",
     "output_type": "stream",
     "text": [
      "BUCKET :  sagemaker-us-east-1-333262794411\n",
      "ROLE :  arn:aws:iam::333262794411:role/CFN-SM-IM-Lambda-Catalog-SageMakerExecutionRole-9N675HOUZIM5\n"
     ]
    }
   ],
   "source": [
    "sm_client = boto3.client(service_name='sagemaker')\n",
    "runtime_sm_client = boto3.client(service_name='sagemaker-runtime')\n",
    "sagemaker_session = sagemaker.Session()\n",
    "\n",
    "s3 = boto3.resource('s3')\n",
    "s3_client = boto3.client('s3')\n",
    "\n",
    "BUCKET  = sagemaker_session.default_bucket()\n",
    "print(\"BUCKET : \", BUCKET)\n",
    "\n",
    "role = get_execution_role()\n",
    "print(\"ROLE : \", role)\n",
    "\n",
    "ACCOUNT_ID = boto3.client('sts').get_caller_identity()['Account']\n",
    "REGION = boto3.Session().region_name\n",
    "\n",
    "DATA_PREFIX = 'DEMO_MME_LINEAR_LEARNER'\n",
    "HOUSING_MODEL_NAME = 'housing'\n",
    "MULTI_MODEL_ARTIFACTS = 'multi_model_artifacts'"
   ]
  },
  {
   "cell_type": "code",
   "execution_count": 14,
   "metadata": {},
   "outputs": [],
   "source": [
    "#Create the SKLearn estimator with the sklearn_preprocessor.py as the script\n",
    "from sagemaker.sklearn.estimator import SKLearn\n",
    "\n",
    "script_path = 'scripts/sklearn_preprocessor_mce_mme.py'\n",
    "\n",
    "sklearn_estimator = SKLearn(\n",
    "    entry_point=script_path,\n",
    "    role=role,\n",
    "    instance_type=\"ml.c4.xlarge\",\n",
    "    framework_version=\"0.20.0\",\n",
    "    sagemaker_session=sagemaker_session)"
   ]
  },
  {
   "cell_type": "code",
   "execution_count": 15,
   "metadata": {},
   "outputs": [
    {
     "name": "stdout",
     "output_type": "stream",
     "text": [
      "Raw training data uploaded to :  s3://sagemaker-us-east-1-333262794411/housing-data/NewYork_NY/train/train.csv\n",
      "Raw training data uploaded to :  s3://sagemaker-us-east-1-333262794411/housing-data/LosAngeles_CA/train/train.csv\n",
      "Raw training data uploaded to :  s3://sagemaker-us-east-1-333262794411/housing-data/Chicago_IL/train/train.csv\n",
      "Raw training data uploaded to :  s3://sagemaker-us-east-1-333262794411/housing-data/Houston_TX/train/train.csv\n"
     ]
    }
   ],
   "source": [
    "#Upload the raw training data to S3 bucket, to be accessed by SKLearn\n",
    "train_inputs = []\n",
    "\n",
    "for loc in LOCATIONS[:PARALLEL_TRAINING_JOBS]:\n",
    "\n",
    "    train_input = sagemaker_session.upload_data(\n",
    "        path='data/{}/train/train.csv'.format(loc),\n",
    "        bucket=BUCKET,\n",
    "        key_prefix='housing-data/{}/train'.format(loc)\n",
    "    )\n",
    "    \n",
    "    train_inputs.append(train_input)\n",
    "    print(\"Raw training data uploaded to : \", train_input)"
   ]
  },
  {
   "cell_type": "code",
   "execution_count": 16,
   "metadata": {},
   "outputs": [
    {
     "name": "stdout",
     "output_type": "stream",
     "text": [
      "sklearn_estimator fit input data at  0  for loc  NewYork_NY\n",
      "sklearn_estimator fit input data at  1  for loc  LosAngeles_CA\n",
      "sklearn_estimator fit input data at  2  for loc  Chicago_IL\n",
      "sklearn_estimator fit input data at  3  for loc  Houston_TX\n"
     ]
    }
   ],
   "source": [
    "##Launch multiple scikit learn training to process the raw synthetic data generated for multiple locations.\n",
    "##Before executing this, take the training instance limits in your account and cost into consideration.\n",
    "\n",
    "sklearn_estimators = []\n",
    "sklearn_estimator_jobs = []\n",
    "\n",
    "for index, loc in enumerate(LOCATIONS[:PARALLEL_TRAINING_JOBS]):\n",
    "    print(\"sklearn_estimator fit input data at \", index , \" for loc \", loc)\n",
    "     \n",
    "    job_name='scikit-learnestimator-{}'.format(strftime('%Y-%m-%d-%H-%M-%S', gmtime()))\n",
    "    \n",
    "    sklearn_estimator.fit({'train': train_inputs[index]}, job_name=job_name, wait=False)\n",
    "\n",
    "    sklearn_estimators.append(sklearn_estimator)\n",
    "    sklearn_estimator_jobs.append(job_name)\n",
    "    \n",
    "    time.sleep(1)"
   ]
  },
  {
   "cell_type": "code",
   "execution_count": 17,
   "metadata": {},
   "outputs": [
    {
     "name": "stdout",
     "output_type": "stream",
     "text": [
      "Waiting for job scikit-learnestimator-2022-08-13-17-30-07 to complete...\n",
      "Waiting for job scikit-learnestimator-2022-08-13-17-30-08 to complete...\n",
      "Waiting for job scikit-learnestimator-2022-08-13-17-30-09 to complete...\n",
      "Waiting for job scikit-learnestimator-2022-08-13-17-30-11 to complete...\n"
     ]
    }
   ],
   "source": [
    "#Wait for the preprocessor jobs to finish\n",
    "for job_name in sklearn_estimator_jobs:\n",
    "    print('Waiting for job {} to complete...'.format(job_name))\n",
    "    \n",
    "    waiter = sm_client.get_waiter('training_job_completed_or_stopped')\n",
    "    waiter.wait(TrainingJobName=job_name)"
   ]
  },
  {
   "cell_type": "code",
   "execution_count": 18,
   "metadata": {},
   "outputs": [
    {
     "name": "stdout",
     "output_type": "stream",
     "text": [
      "Transform the raw data at  0  for loc  NewYork_NY\n",
      "Transform the raw data at  1  for loc  LosAngeles_CA\n",
      "Transform the raw data at  2  for loc  Chicago_IL\n",
      "Transform the raw data at  3  for loc  Houston_TX\n"
     ]
    }
   ],
   "source": [
    "##Once the preprocessor is fit, use tranformer to preprocess the raw training data and store the transformed data right back into s3.\n",
    "##Before executing this, take the training instance limits in your account and cost into consideration.\n",
    "\n",
    "sklearn_estimator_transformers = []\n",
    "\n",
    "for index, loc in enumerate(LOCATIONS[:PARALLEL_TRAINING_JOBS]):\n",
    "    print(\"Transform the raw data at \", index , \" for loc \", loc)\n",
    "       \n",
    "    sklearn_estimator = sklearn_estimators[index]\n",
    "    \n",
    "    transformer = sklearn_estimator.transformer(\n",
    "        instance_count=1,\n",
    "        instance_type='ml.m4.xlarge',\n",
    "        assemble_with='Line',\n",
    "        accept='text/csv'\n",
    "    )\n",
    "    \n",
    "    sklearn_estimator_transformers.append(transformer)"
   ]
  },
  {
   "cell_type": "code",
   "execution_count": 19,
   "metadata": {
    "tags": []
   },
   "outputs": [
    {
     "name": "stdout",
     "output_type": "stream",
     "text": [
      "STARTING: batch transform job: sagemaker-scikit-learn-2022-08-13-17-34-20-034\n",
      "STARTING: batch transform job: sagemaker-scikit-learn-2022-08-13-17-34-20-261\n",
      "STARTING: batch transform job: sagemaker-scikit-learn-2022-08-13-17-34-23-769\n",
      "STARTING: batch transform job: sagemaker-scikit-learn-2022-08-13-17-34-24-588\n"
     ]
    }
   ],
   "source": [
    "# Preprocess training input\n",
    "preprocessed_train_data_path = []\n",
    "\n",
    "for index, transformer in enumerate(sklearn_estimator_transformers):\n",
    "    transformer.transform(train_inputs[index], content_type='text/csv', wait=False)\n",
    "    print('STARTING: batch transform job: {}'.format(transformer.latest_transform_job.job_name))\n",
    "    preprocessed_train_data_path.append(transformer.output_path)"
   ]
  },
  {
   "cell_type": "code",
   "execution_count": 20,
   "metadata": {},
   "outputs": [
    {
     "name": "stdout",
     "output_type": "stream",
     "text": [
      "Waiting for TRANSFORM job sagemaker-scikit-learn-2022-08-13-17-34-20-034 to complete...\n",
      "Waiting for TRANSFORM job sagemaker-scikit-learn-2022-08-13-17-34-20-261 to complete...\n",
      "Waiting for TRANSFORM job sagemaker-scikit-learn-2022-08-13-17-34-23-769 to complete...\n",
      "Waiting for TRANSFORM job sagemaker-scikit-learn-2022-08-13-17-34-24-588 to complete...\n"
     ]
    }
   ],
   "source": [
    "#Wait for all the batch transform jobs to finish\n",
    "for transformer in sklearn_estimator_transformers: \n",
    "    job_name=transformer.latest_transform_job.job_name\n",
    "    print('Waiting for TRANSFORM job {} to complete...'.format(job_name))\n",
    "    \n",
    "    waiter = sm_client.get_waiter('transform_job_completed_or_stopped')\n",
    "    waiter.wait(TransformJobName=job_name)"
   ]
  },
  {
   "cell_type": "markdown",
   "metadata": {},
   "source": [
    "### Structure of the Transformer for Linear Learner is \n",
    "The structure of the Transformer is as follows\n",
    "\n",
    "Multi Model Container\n",
    "\n",
    "in S3 location -  \n",
    "\n",
    "scikit-learnestimator-<date>/output/\n",
    "\n",
    "    |\n",
    "    | ----- Model.tar.gz\n",
    "    |          |\n",
    "\n",
    "scikit-learnestimator    \n",
    "    \n",
    "Data Input is at s3://<BUCKET>/housing-data/<loc>/train/train.csv   loc is like NewYork_NY \n",
    "\n",
    "Data Output is at s3://<BUCKET>/sagemaker-scikit-learn-<date>/output/model.tar.gz\n",
    "\n"
   ]
  },
  {
   "cell_type": "code",
   "execution_count": 21,
   "metadata": {},
   "outputs": [
    {
     "name": "stdout",
     "output_type": "stream",
     "text": [
      "transformer_output_key: sagemaker-scikit-learn-2022-08-13-17-34-20-034/train.csv.out\n",
      "Download directory: preprocessed-data/NewYork_NY/\n",
      "Transform:transformer_output_key=sagemaker-scikit-learn-2022-08-13-17-34-20-034/train.csv.out::Train:uploaded:s3://sagemaker-us-east-1-333262794411/sagemaker-scikit-learn-2022-08-13-17-34-20-034/train.csv::Validation:s3://sagemaker-us-east-1-333262794411/sagemaker-scikit-learn-2022-08-13-17-34-20-034/val.csv\n",
      "transformer_output_key: sagemaker-scikit-learn-2022-08-13-17-34-20-261/train.csv.out\n",
      "Download directory: preprocessed-data/LosAngeles_CA/\n",
      "Transform:transformer_output_key=sagemaker-scikit-learn-2022-08-13-17-34-20-261/train.csv.out::Train:uploaded:s3://sagemaker-us-east-1-333262794411/sagemaker-scikit-learn-2022-08-13-17-34-20-261/train.csv::Validation:s3://sagemaker-us-east-1-333262794411/sagemaker-scikit-learn-2022-08-13-17-34-20-261/val.csv\n",
      "transformer_output_key: sagemaker-scikit-learn-2022-08-13-17-34-23-769/train.csv.out\n",
      "Download directory: preprocessed-data/Chicago_IL/\n",
      "Transform:transformer_output_key=sagemaker-scikit-learn-2022-08-13-17-34-23-769/train.csv.out::Train:uploaded:s3://sagemaker-us-east-1-333262794411/sagemaker-scikit-learn-2022-08-13-17-34-23-769/train.csv::Validation:s3://sagemaker-us-east-1-333262794411/sagemaker-scikit-learn-2022-08-13-17-34-23-769/val.csv\n",
      "transformer_output_key: sagemaker-scikit-learn-2022-08-13-17-34-24-588/train.csv.out\n",
      "Download directory: preprocessed-data/Houston_TX/\n",
      "Transform:transformer_output_key=sagemaker-scikit-learn-2022-08-13-17-34-24-588/train.csv.out::Train:uploaded:s3://sagemaker-us-east-1-333262794411/sagemaker-scikit-learn-2022-08-13-17-34-24-588/train.csv::Validation:s3://sagemaker-us-east-1-333262794411/sagemaker-scikit-learn-2022-08-13-17-34-24-588/val.csv\n"
     ]
    }
   ],
   "source": [
    "##Download the preprocessed data, split into train and val, upload back to S3 in the same directory as tranformer output path\n",
    "for index, transformer in enumerate(sklearn_estimator_transformers): \n",
    "    transformer_output_key='{}/{}'.format(transformer.latest_transform_job.job_name, 'train.csv.out') \n",
    "    \n",
    "    preprocessed_data_download_dir = '{}/'.format(\"preprocessed-data/\"+LOCATIONS[index])\n",
    "    \n",
    "    sagemaker_session.download_data(\n",
    "        path=preprocessed_data_download_dir, \n",
    "        bucket=BUCKET,\n",
    "        key_prefix=transformer_output_key\n",
    "    )\n",
    "    \n",
    "    print('transformer_output_key: {}'.format(transformer_output_key ))\n",
    "    print('Download directory: {}'.format(preprocessed_data_download_dir ))\n",
    "    \n",
    "    train_df = pd.read_csv('{}/{}'.format(preprocessed_data_download_dir,\"train.csv.out\"))\n",
    "    \n",
    "    #Spliting data into train and test in 70:30 ratio\n",
    "    train, val = train_test_split(train_df, test_size=0.3)\n",
    "    \n",
    "    train.to_csv('{}{}'.format(preprocessed_data_download_dir,\"train.csv\"), sep=',', header=False, index=False)\n",
    "    val.to_csv('{}{}'.format(preprocessed_data_download_dir,\"val.csv\"), sep=',', header=False, index=False)\n",
    "    \n",
    "    \n",
    "    train_input = sagemaker_session.upload_data(\n",
    "        path='{}/{}'.format(preprocessed_data_download_dir, 'train.csv'), \n",
    "        bucket=BUCKET,\n",
    "        key_prefix='{}'.format(transformer.latest_transform_job.job_name, 'train.csv'))\n",
    "    \n",
    "    val_input = sagemaker_session.upload_data(\n",
    "        path='{}/{}'.format(preprocessed_data_download_dir, 'val.csv'), \n",
    "        bucket=BUCKET,\n",
    "        key_prefix='{}'.format(transformer.latest_transform_job.job_name, 'val.csv'))\n",
    "    \n",
    "    print(f\"Transform:transformer_output_key={transformer_output_key}::Train:uploaded:{train_input}::Validation:{val_input}\")   \n",
    "    \n",
    "    "
   ]
  },
  {
   "cell_type": "code",
   "execution_count": null,
   "metadata": {},
   "outputs": [],
   "source": [
    "sagemaker.s3.S3Downloader().download(\n",
    "    s3_uri='s3://sagemaker-us-east-1-333262794411/sagemaker-scikit-learn-2022-08-04-17-28-50-218/train.csv.out', \n",
    "    local_path='./data/batch/transform/',\n",
    "    sagemaker_session=sagemaker_session\n",
    ")\n",
    "temp_pd = pd.read_csv('./data/batch/transform/train.csv.out', header=None)\n",
    "\n",
    "temp_pd = temp_pd.iloc[:,1:]\n",
    "temp_pd.head(2)\n",
    "\n",
    "temp_pd.to_csv('./data/batch/transform/use_for_test.csv', header=None, index=None)\n",
    "\n",
    "sagemaker.s3.S3Uploader.upload(\n",
    "    desired_s3_uri='s3://sagemaker-us-east-1-333262794411/data/realtime/transform', \n",
    "    local_path='./data/batch/transform/use_for_test.csv',\n",
    "    sagemaker_session=sagemaker_session\n",
    ")"
   ]
  },
  {
   "cell_type": "code",
   "execution_count": 23,
   "metadata": {
    "scrolled": true
   },
   "outputs": [
    {
     "name": "stdout",
     "output_type": "stream",
     "text": [
      "s3://sagemaker-us-east-1-333262794411/sagemaker-scikit-learn-2022-08-13-17-34-20-034\n",
      "s3://sagemaker-us-east-1-333262794411/sagemaker-scikit-learn-2022-08-13-17-34-20-261\n",
      "s3://sagemaker-us-east-1-333262794411/sagemaker-scikit-learn-2022-08-13-17-34-23-769\n",
      "s3://sagemaker-us-east-1-333262794411/sagemaker-scikit-learn-2022-08-13-17-34-24-588\n"
     ]
    }
   ],
   "source": [
    "##S3 location of the preprocessed data\n",
    "for preprocessed_train_data in preprocessed_train_data_path: \n",
    "    print(preprocessed_train_data)"
   ]
  },
  {
   "cell_type": "code",
   "execution_count": 24,
   "metadata": {},
   "outputs": [],
   "source": [
    "for index, loc in enumerate(LOCATIONS[:PARALLEL_TRAINING_JOBS]):\n",
    "    preprocessed_data_download_dir = '{}/'.format(\"preprocessed-data/\"+LOCATIONS[index])\n",
    "    path='{}/{}'.format(preprocessed_data_download_dir, 'train.csv')"
   ]
  },
  {
   "cell_type": "markdown",
   "metadata": {},
   "source": [
    "## Section 3 : Train house value prediction models for multiple cities <a id='Train-multiple-house-value-prediction-models'></a>\n",
    "\n",
    "In this section, you will use the preprocessed housing data to train multiple linear learner models."
   ]
  },
  {
   "cell_type": "code",
   "execution_count": 25,
   "metadata": {},
   "outputs": [],
   "source": [
    "container = sagemaker.image_uris.retrieve(region=boto3.Session().region_name, framework='linear-learner')"
   ]
  },
  {
   "cell_type": "markdown",
   "metadata": {},
   "source": [
    "### Launch a single training job for a given housing location\n",
    "There is nothing specific to multi-model endpoints in terms of the models it will host. They are trained in the same way as all other SageMaker models. Here we are using the Linear Learner estimator and not waiting for the job to complete."
   ]
  },
  {
   "cell_type": "code",
   "execution_count": 26,
   "metadata": {},
   "outputs": [],
   "source": [
    "def launch_training_job(location, transformer):\n",
    "    \"\"\"Launch a linear learner traing job\"\"\"\n",
    "    \n",
    "    train_inputs = '{}/{}'.format(transformer.output_path, \"train.csv\")\n",
    "    val_inputs = '{}/{}'.format(transformer.output_path, \"val.csv\")\n",
    "    \n",
    "    print(\"Training:Job:train_inputs:\", train_inputs)\n",
    "    print(\"Training:Job:val_inputs:\", val_inputs)\n",
    "     \n",
    "    full_output_prefix = '{}/model_artifacts/{}'.format(DATA_PREFIX, location)\n",
    "    s3_output_path = 's3://{}/{}'.format(BUCKET, full_output_prefix)\n",
    "    \n",
    "    print(\"Training:Job:s3_output_path \", s3_output_path)\n",
    "    \n",
    "    s3_output_path = 's3://{}/{}/model_artifacts/{}'.format(BUCKET, DATA_PREFIX, location)\n",
    "    \n",
    "    linear_estimator = sagemaker.estimator.Estimator(\n",
    "                            container,\n",
    "                            role, \n",
    "                            instance_count=1,\n",
    "                            instance_type='ml.c4.xlarge',\n",
    "                            output_path=s3_output_path,\n",
    "                            sagemaker_session=sagemaker_session)\n",
    "    \n",
    "    linear_estimator.set_hyperparameters(\n",
    "                           feature_dim=10,\n",
    "                           mini_batch_size=100,\n",
    "                           predictor_type='regressor',\n",
    "                           epochs=10,\n",
    "                           num_models=32,\n",
    "                           loss='absolute_loss')\n",
    "    \n",
    "    DISTRIBUTION_MODE = 'FullyReplicated'\n",
    "    train_input = sagemaker.inputs.TrainingInput(s3_data=train_inputs,\n",
    "                                     distribution=DISTRIBUTION_MODE, content_type='text/csv;label_size=1')\n",
    "    val_input   = sagemaker.inputs.TrainingInput(s3_data=val_inputs,\n",
    "                                     distribution=DISTRIBUTION_MODE, content_type='text/csv;label_size=1')\n",
    "    \n",
    "    remote_inputs = {'train': train_input, 'validation': val_input}\n",
    "     \n",
    "    linear_estimator.fit(remote_inputs, wait=False)\n",
    "   \n",
    "    return linear_estimator.latest_training_job.name"
   ]
  },
  {
   "cell_type": "markdown",
   "metadata": {},
   "source": [
    "### Kick off a model training job for each housing location"
   ]
  },
  {
   "cell_type": "code",
   "execution_count": 27,
   "metadata": {},
   "outputs": [
    {
     "name": "stdout",
     "output_type": "stream",
     "text": [
      "Training:Job:train_inputs: s3://sagemaker-us-east-1-333262794411/sagemaker-scikit-learn-2022-08-13-17-34-20-034/train.csv\n",
      "Training:Job:val_inputs: s3://sagemaker-us-east-1-333262794411/sagemaker-scikit-learn-2022-08-13-17-34-20-034/val.csv\n",
      "Training:Job:s3_output_path  s3://sagemaker-us-east-1-333262794411/DEMO_MME_LINEAR_LEARNER/model_artifacts/NewYork_NY\n",
      "Training:Job:train_inputs: s3://sagemaker-us-east-1-333262794411/sagemaker-scikit-learn-2022-08-13-17-34-20-261/train.csv\n",
      "Training:Job:val_inputs: s3://sagemaker-us-east-1-333262794411/sagemaker-scikit-learn-2022-08-13-17-34-20-261/val.csv\n",
      "Training:Job:s3_output_path  s3://sagemaker-us-east-1-333262794411/DEMO_MME_LINEAR_LEARNER/model_artifacts/LosAngeles_CA\n",
      "Training:Job:train_inputs: s3://sagemaker-us-east-1-333262794411/sagemaker-scikit-learn-2022-08-13-17-34-23-769/train.csv\n",
      "Training:Job:val_inputs: s3://sagemaker-us-east-1-333262794411/sagemaker-scikit-learn-2022-08-13-17-34-23-769/val.csv\n",
      "Training:Job:s3_output_path  s3://sagemaker-us-east-1-333262794411/DEMO_MME_LINEAR_LEARNER/model_artifacts/Chicago_IL\n",
      "Training:Job:train_inputs: s3://sagemaker-us-east-1-333262794411/sagemaker-scikit-learn-2022-08-13-17-34-24-588/train.csv\n",
      "Training:Job:val_inputs: s3://sagemaker-us-east-1-333262794411/sagemaker-scikit-learn-2022-08-13-17-34-24-588/val.csv\n",
      "Training:Job:s3_output_path  s3://sagemaker-us-east-1-333262794411/DEMO_MME_LINEAR_LEARNER/model_artifacts/Houston_TX\n",
      "4 training jobs launched: ['linear-learner-2022-08-13-17-57-23-964', 'linear-learner-2022-08-13-17-57-24-179', 'linear-learner-2022-08-13-17-57-29-392', 'linear-learner-2022-08-13-17-57-30-422']\n"
     ]
    }
   ],
   "source": [
    "training_jobs = []\n",
    "    \n",
    "for transformer, loc in zip(sklearn_estimator_transformers, LOCATIONS[:PARALLEL_TRAINING_JOBS]): \n",
    "    job = launch_training_job(loc, transformer)\n",
    "    training_jobs.append(job)\n",
    "    \n",
    "print('{} training jobs launched: {}'.format(len(training_jobs), training_jobs))"
   ]
  },
  {
   "cell_type": "markdown",
   "metadata": {},
   "source": [
    "### Wait for all  training jobs to finish"
   ]
  },
  {
   "cell_type": "code",
   "execution_count": 30,
   "metadata": {},
   "outputs": [
    {
     "name": "stdout",
     "output_type": "stream",
     "text": [
      "Waiting for Training:job linear-learner-2022-08-13-17-57-23-964 to complete...\n",
      "Waiting for Training:job linear-learner-2022-08-13-17-57-24-179 to complete...\n",
      "Waiting for Training:job linear-learner-2022-08-13-17-57-29-392 to complete...\n",
      "Waiting for Training:job linear-learner-2022-08-13-17-57-30-422 to complete...\n"
     ]
    }
   ],
   "source": [
    "#Wait for the jobs to finish\n",
    "for job_name in training_jobs:\n",
    "    print('Waiting for Training:job {} to complete...'.format(job_name))\n",
    "    \n",
    "    waiter = sm_client.get_waiter('training_job_completed_or_stopped')\n",
    "    waiter.wait(TrainingJobName=job_name)"
   ]
  },
  {
   "cell_type": "code",
   "execution_count": 32,
   "metadata": {},
   "outputs": [
    {
     "data": {
      "text/plain": [
       "{'TrainingJobName': 'linear-learner-2022-08-13-17-57-23-964',\n",
       " 'TrainingJobArn': 'arn:aws:sagemaker:us-east-1:333262794411:training-job/linear-learner-2022-08-13-17-57-23-964',\n",
       " 'ModelArtifacts': {'S3ModelArtifacts': 's3://sagemaker-us-east-1-333262794411/DEMO_MME_LINEAR_LEARNER/model_artifacts/NewYork_NY/linear-learner-2022-08-13-17-57-23-964/output/model.tar.gz'},\n",
       " 'TrainingJobStatus': 'Completed',\n",
       " 'SecondaryStatus': 'Completed',\n",
       " 'HyperParameters': {'epochs': '10',\n",
       "  'feature_dim': '10',\n",
       "  'loss': 'absolute_loss',\n",
       "  'mini_batch_size': '100',\n",
       "  'num_models': '32',\n",
       "  'predictor_type': 'regressor'},\n",
       " 'AlgorithmSpecification': {'TrainingImage': '382416733822.dkr.ecr.us-east-1.amazonaws.com/linear-learner:1',\n",
       "  'TrainingInputMode': 'File',\n",
       "  'MetricDefinitions': [{'Name': 'train:progress',\n",
       "    'Regex': '#progress_metric: host=\\\\S+, completed (\\\\S+) %'},\n",
       "   {'Name': 'validation:mae',\n",
       "    'Regex': '#quality_metric: host=\\\\S+, validation mae <loss>=(\\\\S+)'},\n",
       "   {'Name': 'train:objective_loss',\n",
       "    'Regex': '#quality_metric: host=\\\\S+, epoch=\\\\S+, train \\\\S+_objective <loss>=(\\\\S+)'},\n",
       "   {'Name': 'test:objective_loss',\n",
       "    'Regex': '#quality_metric: host=\\\\S+, test \\\\S+_objective <loss>=(\\\\S+)'},\n",
       "   {'Name': 'test:mse',\n",
       "    'Regex': '#quality_metric: host=\\\\S+, test mse <loss>=(\\\\S+)'},\n",
       "   {'Name': 'validation:objective_loss',\n",
       "    'Regex': '#quality_metric: host=\\\\S+, epoch=\\\\S+, validation \\\\S+_objective <loss>=(\\\\S+)'},\n",
       "   {'Name': 'validation:objective_loss:final',\n",
       "    'Regex': '#quality_metric: host=\\\\S+, validation \\\\S+_objective <loss>=(\\\\S+)'},\n",
       "   {'Name': 'validation:rmse',\n",
       "    'Regex': '#quality_metric: host=\\\\S+, validation rmse <loss>=(\\\\S+)'},\n",
       "   {'Name': 'test:absolute_loss',\n",
       "    'Regex': '#quality_metric: host=\\\\S+, test absolute_loss <loss>=(\\\\S+)'},\n",
       "   {'Name': 'validation:mse',\n",
       "    'Regex': '#quality_metric: host=\\\\S+, validation mse <loss>=(\\\\S+)'},\n",
       "   {'Name': 'train:mse',\n",
       "    'Regex': '#quality_metric: host=\\\\S+, train mse <loss>=(\\\\S+)'},\n",
       "   {'Name': 'train:absolute_loss',\n",
       "    'Regex': '#quality_metric: host=\\\\S+, train absolute_loss <loss>=(\\\\S+)'},\n",
       "   {'Name': 'train:objective_loss:final',\n",
       "    'Regex': '#quality_metric: host=\\\\S+, train \\\\S+_objective <loss>=(\\\\S+)'},\n",
       "   {'Name': 'validation:r2',\n",
       "    'Regex': '#quality_metric: host=\\\\S+, validation r2 <loss>=(\\\\S+)'},\n",
       "   {'Name': 'train:throughput',\n",
       "    'Regex': '#throughput_metric: host=\\\\S+, train throughput=(\\\\S+) records/second'},\n",
       "   {'Name': 'validation:absolute_loss',\n",
       "    'Regex': '#quality_metric: host=\\\\S+, validation absolute_loss <loss>=(\\\\S+)'}],\n",
       "  'EnableSageMakerMetricsTimeSeries': False},\n",
       " 'RoleArn': 'arn:aws:iam::333262794411:role/CFN-SM-IM-Lambda-Catalog-SageMakerExecutionRole-9N675HOUZIM5',\n",
       " 'InputDataConfig': [{'ChannelName': 'train',\n",
       "   'DataSource': {'S3DataSource': {'S3DataType': 'S3Prefix',\n",
       "     'S3Uri': 's3://sagemaker-us-east-1-333262794411/sagemaker-scikit-learn-2022-08-13-17-34-20-034/train.csv',\n",
       "     'S3DataDistributionType': 'FullyReplicated'}},\n",
       "   'ContentType': 'text/csv;label_size=1',\n",
       "   'CompressionType': 'None',\n",
       "   'RecordWrapperType': 'None'},\n",
       "  {'ChannelName': 'validation',\n",
       "   'DataSource': {'S3DataSource': {'S3DataType': 'S3Prefix',\n",
       "     'S3Uri': 's3://sagemaker-us-east-1-333262794411/sagemaker-scikit-learn-2022-08-13-17-34-20-034/val.csv',\n",
       "     'S3DataDistributionType': 'FullyReplicated'}},\n",
       "   'ContentType': 'text/csv;label_size=1',\n",
       "   'CompressionType': 'None',\n",
       "   'RecordWrapperType': 'None'}],\n",
       " 'OutputDataConfig': {'KmsKeyId': '',\n",
       "  'S3OutputPath': 's3://sagemaker-us-east-1-333262794411/DEMO_MME_LINEAR_LEARNER/model_artifacts/NewYork_NY'},\n",
       " 'ResourceConfig': {'InstanceType': 'ml.c4.xlarge',\n",
       "  'InstanceCount': 1,\n",
       "  'VolumeSizeInGB': 30},\n",
       " 'StoppingCondition': {'MaxRuntimeInSeconds': 86400},\n",
       " 'CreationTime': datetime.datetime(2022, 8, 13, 17, 57, 24, 70000, tzinfo=tzlocal()),\n",
       " 'TrainingStartTime': datetime.datetime(2022, 8, 13, 17, 59, 2, 635000, tzinfo=tzlocal()),\n",
       " 'TrainingEndTime': datetime.datetime(2022, 8, 13, 18, 0, 45, 107000, tzinfo=tzlocal()),\n",
       " 'LastModifiedTime': datetime.datetime(2022, 8, 13, 18, 2, 9, 305000, tzinfo=tzlocal()),\n",
       " 'SecondaryStatusTransitions': [{'Status': 'Starting',\n",
       "   'StartTime': datetime.datetime(2022, 8, 13, 17, 57, 24, 70000, tzinfo=tzlocal()),\n",
       "   'EndTime': datetime.datetime(2022, 8, 13, 17, 59, 2, 635000, tzinfo=tzlocal()),\n",
       "   'StatusMessage': 'Preparing the instances for training'},\n",
       "  {'Status': 'Downloading',\n",
       "   'StartTime': datetime.datetime(2022, 8, 13, 17, 59, 2, 635000, tzinfo=tzlocal()),\n",
       "   'EndTime': datetime.datetime(2022, 8, 13, 17, 59, 43, 593000, tzinfo=tzlocal()),\n",
       "   'StatusMessage': 'Downloading input data'},\n",
       "  {'Status': 'Training',\n",
       "   'StartTime': datetime.datetime(2022, 8, 13, 17, 59, 43, 593000, tzinfo=tzlocal()),\n",
       "   'EndTime': datetime.datetime(2022, 8, 13, 18, 0, 34, 545000, tzinfo=tzlocal()),\n",
       "   'StatusMessage': 'Training image download completed. Training in progress.'},\n",
       "  {'Status': 'Uploading',\n",
       "   'StartTime': datetime.datetime(2022, 8, 13, 18, 0, 34, 545000, tzinfo=tzlocal()),\n",
       "   'EndTime': datetime.datetime(2022, 8, 13, 18, 0, 45, 107000, tzinfo=tzlocal()),\n",
       "   'StatusMessage': 'Uploading generated training model'},\n",
       "  {'Status': 'Completed',\n",
       "   'StartTime': datetime.datetime(2022, 8, 13, 18, 0, 45, 107000, tzinfo=tzlocal()),\n",
       "   'EndTime': datetime.datetime(2022, 8, 13, 18, 0, 45, 107000, tzinfo=tzlocal()),\n",
       "   'StatusMessage': 'Training job completed'}],\n",
       " 'FinalMetricDataList': [{'MetricName': 'train:progress',\n",
       "   'Value': 100.0,\n",
       "   'Timestamp': datetime.datetime(2022, 8, 13, 18, 0, 24, tzinfo=tzlocal())},\n",
       "  {'MetricName': 'validation:mae',\n",
       "   'Value': 3622.73876953125,\n",
       "   'Timestamp': datetime.datetime(2022, 8, 13, 18, 0, 24, tzinfo=tzlocal())},\n",
       "  {'MetricName': 'train:objective_loss',\n",
       "   'Value': 0.14865194261074066,\n",
       "   'Timestamp': datetime.datetime(2022, 8, 13, 18, 0, 24, tzinfo=tzlocal())},\n",
       "  {'MetricName': 'validation:objective_loss',\n",
       "   'Value': 15412.0224609375,\n",
       "   'Timestamp': datetime.datetime(2022, 8, 13, 18, 0, 24, tzinfo=tzlocal())},\n",
       "  {'MetricName': 'validation:objective_loss:final',\n",
       "   'Value': 3622.73876953125,\n",
       "   'Timestamp': datetime.datetime(2022, 8, 13, 18, 0, 24, tzinfo=tzlocal())},\n",
       "  {'MetricName': 'validation:rmse',\n",
       "   'Value': 4488.869140625,\n",
       "   'Timestamp': datetime.datetime(2022, 8, 13, 18, 0, 24, tzinfo=tzlocal())},\n",
       "  {'MetricName': 'validation:mse',\n",
       "   'Value': 20149948.0,\n",
       "   'Timestamp': datetime.datetime(2022, 8, 13, 18, 0, 24, tzinfo=tzlocal())},\n",
       "  {'MetricName': 'validation:r2',\n",
       "   'Value': 0.9986310005187988,\n",
       "   'Timestamp': datetime.datetime(2022, 8, 13, 18, 0, 24, tzinfo=tzlocal())},\n",
       "  {'MetricName': 'train:throughput',\n",
       "   'Value': 2887.896484375,\n",
       "   'Timestamp': datetime.datetime(2022, 8, 13, 18, 0, 24, tzinfo=tzlocal())},\n",
       "  {'MetricName': 'validation:absolute_loss',\n",
       "   'Value': 3622.73876953125,\n",
       "   'Timestamp': datetime.datetime(2022, 8, 13, 18, 0, 24, tzinfo=tzlocal())}],\n",
       " 'EnableNetworkIsolation': False,\n",
       " 'EnableInterContainerTrafficEncryption': False,\n",
       " 'EnableManagedSpotTraining': False,\n",
       " 'TrainingTimeInSeconds': 103,\n",
       " 'BillableTimeInSeconds': 103,\n",
       " 'ProfilerConfig': {'S3OutputPath': 's3://sagemaker-us-east-1-333262794411/DEMO_MME_LINEAR_LEARNER/model_artifacts/NewYork_NY',\n",
       "  'ProfilingIntervalInMilliseconds': 500},\n",
       " 'ProfilerRuleConfigurations': [{'RuleConfigurationName': 'ProfilerReport-1660413443',\n",
       "   'RuleEvaluatorImage': '503895931360.dkr.ecr.us-east-1.amazonaws.com/sagemaker-debugger-rules:latest',\n",
       "   'VolumeSizeInGB': 0,\n",
       "   'RuleParameters': {'rule_to_invoke': 'ProfilerReport'}}],\n",
       " 'ProfilerRuleEvaluationStatuses': [{'RuleConfigurationName': 'ProfilerReport-1660413443',\n",
       "   'RuleEvaluationJobArn': 'arn:aws:sagemaker:us-east-1:333262794411:processing-job/linear-learner-2022-08-13--profilerreport-1660413443-aca82b60',\n",
       "   'RuleEvaluationStatus': 'NoIssuesFound',\n",
       "   'LastModifiedTime': datetime.datetime(2022, 8, 13, 18, 2, 9, 285000, tzinfo=tzlocal())}],\n",
       " 'ProfilingStatus': 'Enabled',\n",
       " 'ResponseMetadata': {'RequestId': 'a52b2159-a820-4101-9a86-e3ba439df79a',\n",
       "  'HTTPStatusCode': 200,\n",
       "  'HTTPHeaders': {'x-amzn-requestid': 'a52b2159-a820-4101-9a86-e3ba439df79a',\n",
       "   'content-type': 'application/x-amz-json-1.1',\n",
       "   'content-length': '6355',\n",
       "   'date': 'Sat, 13 Aug 2022 19:17:20 GMT'},\n",
       "  'RetryAttempts': 0}}"
      ]
     },
     "execution_count": 32,
     "metadata": {},
     "output_type": "execute_result"
    }
   ],
   "source": [
    "sm_client.describe_training_job(TrainingJobName='linear-learner-2022-08-13-17-57-23-964')"
   ]
  },
  {
   "cell_type": "markdown",
   "metadata": {},
   "source": [
    "## Section 4 - Create Sagemaker model with multi model support <a id='Create-sagemaker-multi-model-support'></a>"
   ]
  },
  {
   "cell_type": "code",
   "execution_count": 33,
   "metadata": {},
   "outputs": [],
   "source": [
    "import re\n",
    "def parse_model_artifacts(model_data_url):\n",
    "    # extract the s3 key from the full url to the model artifacts\n",
    "    s3_key = model_data_url.split('s3://{}/'.format(BUCKET))[1]\n",
    "    # get the part of the key that identifies the model within the model artifacts folder\n",
    "    model_name_plus = s3_key[s3_key.find('model_artifacts') + len('model_artifacts') + 1:]\n",
    "    # finally, get the unique model name (e.g., \"NewYork_NY\")\n",
    "    model_name = re.findall('^(.*?)/', model_name_plus)[0]\n",
    "    return s3_key, model_name "
   ]
  },
  {
   "cell_type": "code",
   "execution_count": 34,
   "metadata": {},
   "outputs": [],
   "source": [
    "# make a copy of the model artifacts from the original output of the training job to the place in\n",
    "# s3 where the multi model endpoint will dynamically load individual models\n",
    "def copy_artifacts_to_mme(job_name):\n",
    "    print(\"job_name :\", job_name)\n",
    "    response = sm_client.describe_training_job(TrainingJobName=job_name)\n",
    "    source_s3_key, model_name = parse_model_artifacts(response['ModelArtifacts']['S3ModelArtifacts'])\n",
    "    copy_source = {'Bucket': BUCKET, 'Key': source_s3_key}\n",
    "    key = '{}/{}/{}/{}.tar.gz'.format(DATA_PREFIX, MULTI_MODEL_ARTIFACTS, model_name, model_name)\n",
    "    \n",
    "    print('Copying {} model\\n   from: {}\\n     to: {}...'.format(model_name, source_s3_key, key))\n",
    "    s3_client.copy_object(Bucket=BUCKET, CopySource=copy_source, Key=key)\n"
   ]
  },
  {
   "cell_type": "code",
   "execution_count": 35,
   "metadata": {},
   "outputs": [
    {
     "name": "stdout",
     "output_type": "stream",
     "text": [
      "Removing old model artifacts from DEMO_MME_LINEAR_LEARNER/multi_model_artifacts\n"
     ]
    },
    {
     "data": {
      "text/plain": [
       "[]"
      ]
     },
     "execution_count": 35,
     "metadata": {},
     "output_type": "execute_result"
    }
   ],
   "source": [
    "# First, clear out old versions of the model artifacts from previous runs of this notebook\n",
    "s3_bucket = s3.Bucket(BUCKET)\n",
    "full_input_prefix = '{}/multi_model_artifacts'.format(DATA_PREFIX)\n",
    "print('Removing old model artifacts from {}'.format(full_input_prefix))\n",
    "s3_bucket.objects.filter(Prefix=full_input_prefix + '/').delete()"
   ]
  },
  {
   "cell_type": "code",
   "execution_count": 36,
   "metadata": {},
   "outputs": [
    {
     "name": "stdout",
     "output_type": "stream",
     "text": [
      "job_name : linear-learner-2022-08-13-17-57-23-964\n",
      "Copying NewYork_NY model\n",
      "   from: DEMO_MME_LINEAR_LEARNER/model_artifacts/NewYork_NY/linear-learner-2022-08-13-17-57-23-964/output/model.tar.gz\n",
      "     to: DEMO_MME_LINEAR_LEARNER/multi_model_artifacts/NewYork_NY/NewYork_NY.tar.gz...\n",
      "job_name : linear-learner-2022-08-13-17-57-24-179\n",
      "Copying LosAngeles_CA model\n",
      "   from: DEMO_MME_LINEAR_LEARNER/model_artifacts/LosAngeles_CA/linear-learner-2022-08-13-17-57-24-179/output/model.tar.gz\n",
      "     to: DEMO_MME_LINEAR_LEARNER/multi_model_artifacts/LosAngeles_CA/LosAngeles_CA.tar.gz...\n",
      "job_name : linear-learner-2022-08-13-17-57-29-392\n",
      "Copying Chicago_IL model\n",
      "   from: DEMO_MME_LINEAR_LEARNER/model_artifacts/Chicago_IL/linear-learner-2022-08-13-17-57-29-392/output/model.tar.gz\n",
      "     to: DEMO_MME_LINEAR_LEARNER/multi_model_artifacts/Chicago_IL/Chicago_IL.tar.gz...\n"
     ]
    }
   ],
   "source": [
    "## Deploy all but the last model trained to MME\n",
    "## We will use the last model to show how to update an existing MME in Section 7\n",
    "for job_name in training_jobs[:-1]:\n",
    "    copy_artifacts_to_mme(job_name)"
   ]
  },
  {
   "cell_type": "code",
   "execution_count": 37,
   "metadata": {},
   "outputs": [
    {
     "name": "stdout",
     "output_type": "stream",
     "text": [
      "s3://sagemaker-us-east-1-333262794411/DEMO_MME_LINEAR_LEARNER/multi_model_artifacts/\n"
     ]
    }
   ],
   "source": [
    "MODEL_NAME = '{}-{}'.format(HOUSING_MODEL_NAME, strftime('%Y-%m-%d-%H-%M-%S', gmtime()))\n",
    "\n",
    "_model_url  = 's3://{}/{}/{}/'.format(BUCKET, DATA_PREFIX, MULTI_MODEL_ARTIFACTS)\n",
    "print(_model_url)\n",
    "ll_multi_model = MultiDataModel(\n",
    "        name=MODEL_NAME,\n",
    "        model_data_prefix=_model_url,\n",
    "        image_uri=container,\n",
    "        role=role,\n",
    "        sagemaker_session=sagemaker_session\n",
    "    )"
   ]
  },
  {
   "cell_type": "markdown",
   "metadata": {},
   "source": [
    "## Section 4b: Show the Multi Model structure\n",
    "\n",
    "The structure of the Multi Container and Multi Model is as follows:\n",
    "\n",
    "Multi Model Container\n",
    "\n",
    "in S3 location -  \n",
    "\n",
    "DEMO_MME_LINEAR_LEARNER/multi_model_artifacts/\n",
    "\n",
    "    |\n",
    "    | ----- Chicago_IL\n",
    "    |          |\n",
    "    |          | ---  Model.tar.gz\n",
    "    | ------ NewYork_NY\n",
    "    |          |\n",
    "    |          | ---  Model.tar.gz\n",
    "    \n",
    "    \n",
    "Container MME points to  ----- >  DEMO_MME_LINEAR_LEARNER/multi_model_artifacts/  as the top level container\n",
    "\n",
    "Invoke Container MME is  ----- >  Chicago_IL/Chicago_IL.tar.gz\n",
    "\n",
    "This however will pass through via the 1st Container which is a SCIKIT-Learn Pre processor MODEL so sequence becomes\n",
    "\n",
    "Client --- > Scit-learn-preprocessorModel --- > MME server --- > Call Chicago Model --- > Return results "
   ]
  },
  {
   "cell_type": "code",
   "execution_count": 38,
   "metadata": {},
   "outputs": [
    {
     "name": "stdout",
     "output_type": "stream",
     "text": [
      "s3://sagemaker-us-east-1-333262794411/DEMO_MME_LINEAR_LEARNER/multi_model_artifacts/\n",
      "                           PRE Chicago_IL/\n",
      "                           PRE LosAngeles_CA/\n",
      "                           PRE NewYork_NY/\n"
     ]
    }
   ],
   "source": [
    "print(_model_url)\n",
    "! aws s3 ls {_model_url}"
   ]
  },
  {
   "cell_type": "markdown",
   "metadata": {},
   "source": [
    "## Section 5 : Create an inference pipeline with sklearn model and MME linear learner model <a id='Create-inference-pipeline'></a>"
   ]
  },
  {
   "cell_type": "markdown",
   "metadata": {},
   "source": [
    "Set up the inference pipeline using the Pipeline Model API.  This sets up a list of models in a single endpoint; In this example, we configure our pipeline model with the fitted Scikit-learn inference model and the fitted Linear Learner model."
   ]
  },
  {
   "cell_type": "code",
   "execution_count": 39,
   "metadata": {},
   "outputs": [
    {
     "name": "stdout",
     "output_type": "stream",
     "text": [
      "inference-pipeline-2022-08-13-19-17-43\n",
      "inference-pipeline-ep-2022-08-13-19-17-43\n"
     ]
    }
   ],
   "source": [
    "from sagemaker.model import Model\n",
    "from sagemaker.pipeline import PipelineModel\n",
    "import boto3\n",
    "from time import gmtime, strftime\n",
    "\n",
    "timestamp_prefix = strftime(\"%Y-%m-%d-%H-%M-%S\", gmtime())\n",
    "\n",
    "scikit_learn_inference_model = sklearn_estimator.create_model()\n",
    "\n",
    "model_name = '{}-{}'.format('inference-pipeline', timestamp_prefix)\n",
    "endpoint_name = '{}-{}'.format('inference-pipeline-ep', timestamp_prefix)\n",
    "\n",
    "print(model_name)\n",
    "print(endpoint_name)"
   ]
  },
  {
   "cell_type": "code",
   "execution_count": 40,
   "metadata": {},
   "outputs": [
    {
     "name": "stdout",
     "output_type": "stream",
     "text": [
      "---------------------!"
     ]
    }
   ],
   "source": [
    "sm_model = PipelineModel(\n",
    "    name=model_name, \n",
    "    role=role, \n",
    "    sagemaker_session=sagemaker_session,\n",
    "    models=[\n",
    "        scikit_learn_inference_model, \n",
    "        ll_multi_model])\n",
    "\n",
    "sm_model.deploy(initial_instance_count=1, instance_type='ml.m4.xlarge', endpoint_name=endpoint_name)"
   ]
  },
  {
   "cell_type": "markdown",
   "metadata": {},
   "source": [
    "## Section 6 :  Exercise the inference pipeline - Get predictions from  different  linear learner models. <a id='Exercise-inference-pipeline'></a>"
   ]
  },
  {
   "cell_type": "code",
   "execution_count": 41,
   "metadata": {},
   "outputs": [],
   "source": [
    "#Create Predictor\n",
    "from sagemaker.predictor import Predictor\n",
    "\n",
    "csv_serializer = sagemaker.serializers.CSVSerializer()\n",
    "\n",
    "predictor = Predictor(\n",
    "    endpoint_name=endpoint_name,\n",
    "    sagemaker_session=sagemaker_session,\n",
    "    serializer=csv_serializer)"
   ]
  },
  {
   "cell_type": "code",
   "execution_count": 42,
   "metadata": {},
   "outputs": [],
   "source": [
    "def predict_one_house_value(features, model_name, predictor_to_use):\n",
    "    print('Using model {} to predict price of this house: {}'.format(model_name,\n",
    "                                                                     features))\n",
    "    body = ','.join(map(str, features)) + '\\n'\n",
    "    start_time = time.time()\n",
    "     \n",
    "    response = predictor_to_use.predict(features, target_model=model_name)\n",
    "    \n",
    "    response_json = json.loads(response)\n",
    "        \n",
    "    predicted_value = response_json['predictions'][0]['score']    \n",
    "    \n",
    "    duration = time.time() - start_time\n",
    "    \n",
    "    print('${:,.2f}, took {:,d} ms\\n'.format(predicted_value, int(duration * 1000)))"
   ]
  },
  {
   "cell_type": "markdown",
   "metadata": {},
   "source": [
    "## Pipeline Model\n",
    "Since we have the Pipeline Model -- it will convert the values to Numerical and then pass to the Linear Learner"
   ]
  },
  {
   "cell_type": "code",
   "execution_count": 54,
   "metadata": {},
   "outputs": [
    {
     "name": "stdout",
     "output_type": "stream",
     "text": [
      "hello\n"
     ]
    }
   ],
   "source": [
    "print(\"hello\")"
   ]
  },
  {
   "cell_type": "code",
   "execution_count": 79,
   "metadata": {
    "tags": []
   },
   "outputs": [
    {
     "name": "stdout",
     "output_type": "stream",
     "text": [
      "Using model Chicago_IL/Chicago_IL.tar.gz to predict price of this house: [1990, 2088.16030744406, 4, 2.5, 1.22, 2, 'y', 'y']\n",
      "$312,513.88, took 38 ms\n",
      "\n",
      "Using model LosAngeles_CA/LosAngeles_CA.tar.gz to predict price of this house: [2005, 5143.086778144469, 3, 1.0, 1.11, 2, 'n', 'y']\n",
      "$797,231.88, took 34 ms\n",
      "\n",
      "Using model Chicago_IL/Chicago_IL.tar.gz to predict price of this house: [1997, 1979.850176626675, 6, 1.5, 0.93, 0, 'n', 'y']\n",
      "$279,725.50, took 44 ms\n",
      "\n",
      "Using model LosAngeles_CA/LosAngeles_CA.tar.gz to predict price of this house: [2000, 4205.058051955152, 5, 1.0, 1.36, 0, 'y', 'y']\n",
      "$635,570.62, took 41 ms\n",
      "\n",
      "Using model Chicago_IL/Chicago_IL.tar.gz to predict price of this house: [2001, 2672.801996803393, 2, 3.0, 1.33, 0, 'y', 'n']\n",
      "$420,623.31, took 46 ms\n",
      "\n",
      "Using model LosAngeles_CA/LosAngeles_CA.tar.gz to predict price of this house: [2008, 2718.8402980377546, 3, 2.5, 1.08, 2, 'y', 'y']\n",
      "$485,069.62, took 41 ms\n",
      "\n",
      "Using model Chicago_IL/Chicago_IL.tar.gz to predict price of this house: [1995, 2768.2089466854627, 5, 2.0, 1.16, 2, 'n', 'n']\n",
      "$426,080.75, took 33 ms\n",
      "\n",
      "Using model LosAngeles_CA/LosAngeles_CA.tar.gz to predict price of this house: [1988, 2933.30095848085, 5, 2.0, 0.98, 0, 'n', 'y']\n",
      "$375,135.81, took 31 ms\n",
      "\n",
      "Using model Chicago_IL/Chicago_IL.tar.gz to predict price of this house: [1990, 3832.6817751688136, 5, 1.0, 0.97, 1, 'n', 'y']\n",
      "$523,718.34, took 32 ms\n",
      "\n",
      "Using model Chicago_IL/Chicago_IL.tar.gz to predict price of this house: [1978, 2907.526939302962, 4, 2.0, 0.96, 2, 'y', 'n']\n",
      "$367,404.22, took 34 ms\n",
      "\n"
     ]
    }
   ],
   "source": [
    "for _ in range(10):\n",
    "    model_name = LOCATIONS[np.random.randint(1, PARALLEL_TRAINING_JOBS - 1)]\n",
    "    full_model_name = '{}/{}.tar.gz'.format(model_name,model_name)\n",
    "    predict_one_house_value(gen_random_house()[:-1], full_model_name, predictor)"
   ]
  },
  {
   "cell_type": "markdown",
   "metadata": {},
   "source": [
    "## Section 7 - Add new model to the endpoint, simply by copying the model artifact to the S3 location\n",
    "<a id='update-models'></a>"
   ]
  },
  {
   "cell_type": "code",
   "execution_count": 80,
   "metadata": {},
   "outputs": [
    {
     "name": "stdout",
     "output_type": "stream",
     "text": [
      "job_name : linear-learner-2022-08-13-17-57-30-422\n",
      "Copying Houston_TX model\n",
      "   from: DEMO_MME_LINEAR_LEARNER/model_artifacts/Houston_TX/linear-learner-2022-08-13-17-57-30-422/output/model.tar.gz\n",
      "     to: DEMO_MME_LINEAR_LEARNER/multi_model_artifacts/Houston_TX/Houston_TX.tar.gz...\n"
     ]
    }
   ],
   "source": [
    "## Copy the last model\n",
    "last_training_job=training_jobs[PARALLEL_TRAINING_JOBS-1]\n",
    "copy_artifacts_to_mme(last_training_job)"
   ]
  },
  {
   "cell_type": "code",
   "execution_count": 81,
   "metadata": {},
   "outputs": [
    {
     "name": "stdout",
     "output_type": "stream",
     "text": [
      "Using model Houston_TX/Houston_TX.tar.gz to predict price of this house: [1998, 3314.3377357208365, 6, 3.0, 0.91, 2, 'n', 'n']\n",
      "$541,723.88, took 33 ms\n",
      "\n"
     ]
    }
   ],
   "source": [
    "model_name = LOCATIONS[PARALLEL_TRAINING_JOBS-1]\n",
    "full_model_name = '{}/{}.tar.gz'.format(model_name,model_name)\n",
    "predict_one_house_value(gen_random_house()[:-1], full_model_name, predictor)"
   ]
  },
  {
   "cell_type": "markdown",
   "metadata": {},
   "source": [
    "#### Call again to demo the second call wil be a lot faster"
   ]
  },
  {
   "cell_type": "code",
   "execution_count": 82,
   "metadata": {},
   "outputs": [
    {
     "name": "stdout",
     "output_type": "stream",
     "text": [
      "Using model Houston_TX/Houston_TX.tar.gz to predict price of this house: [2001, 3365.7728266516783, 2, 2.5, 0.73, 2, 'n', 'n']\n",
      "$512,638.69, took 36 ms\n",
      "\n"
     ]
    }
   ],
   "source": [
    "model_name = 'Houston_TX'\n",
    "full_model_name = '{}/{}.tar.gz'.format(model_name,model_name)\n",
    "predict_one_house_value(gen_random_house()[:-1], full_model_name, predictor)"
   ]
  },
  {
   "cell_type": "markdown",
   "metadata": {},
   "source": [
    "## Section 8 - Endpoint CloudWatch Metrics Analysis <a id='CW-metric-analysis'></a>\n",
    "\n",
    "With MME, the models are dynamically loaded into the container’s memory of the instance hosting the endpoint when invoked.  Therefore, the model invocation may take longer when it is invoked for the first time. And after the model is already in the container’s memory, the subsequent invocations will be faster. If an instance memory utilization is high and a new model needs to be loaded then unused models are unloaded.  The unloaded models will remain in the instance’s storage volume and can be loaded into container’s memory later without being downloaded from the S3 bucket again.  If the instance’s storage volume if full, unused models are deleted from storage volume.    \n",
    "Managing the loading/unloading of the models is completely handled by Amazon SageMaker behind the scenes without you having to take any specific actions.  However, it is important to understand this behavior because it has implications on the model invocation latency.\n",
    "\n",
    "Amazon SageMaker provides CloudWatch metrics for multi-model endpoints so you can determine the endpoint usage and the cache hit rate and optimize your endpoint.  To analyze the endpoint and the container behavior, you will invoke multiple models in this order :\n",
    "\n",
    "    a. Create 200 copies of the original model and save with different names.\n",
    "    b. Starting with no models loaded into the container, Invoke the first 100 models\n",
    "    c. Invoke the same 100 models again\n",
    "    d. Invoke all 200 models\n",
    "\n",
    "We use this order of invocations to observe the behavior of the CloudWatch metrics - LoadedModelCount, MemoryUtilization and ModelCacheHit.  You are encouraged to experiment with loading varying number of models to use the CloudWatch charts to help make ongoing decisions on the optimal choice of instance type, instance count, and number of models that a given endpoint should host.\n",
    "\n"
   ]
  },
  {
   "cell_type": "code",
   "execution_count": 85,
   "metadata": {},
   "outputs": [],
   "source": [
    "# Make a copy of the model artifacts in S3 bucket with new names so we have multiple models to understand the latency behavior.\n",
    "def copy_additional_artifacts_to_mme(num_copies):\n",
    "    \n",
    "    source_s3_model_key = '{}/{}/{}/{}.tar.gz'.format(DATA_PREFIX, MULTI_MODEL_ARTIFACTS, model_name, model_name)\n",
    "    _copy_source = {'Bucket': BUCKET, 'Key': source_s3_model_key}\n",
    "    for i in range(num_copies):\n",
    "        new_model_name=\"{}_{}\".format(i, model_name)\n",
    "        dest_s3_model_key = '{}/{}/{}/{}.tar.gz'.format(DATA_PREFIX, MULTI_MODEL_ARTIFACTS, model_name, new_model_name)\n",
    "        print('Copying {} model\\n   from: {}\\n     to: {}...'.format(model_name, source_s3_model_key, dest_s3_model_key))\n",
    "        s3_client.copy_object(Bucket=BUCKET, CopySource=_copy_source, Key=dest_s3_model_key)"
   ]
  },
  {
   "cell_type": "code",
   "execution_count": 48,
   "metadata": {},
   "outputs": [],
   "source": [
    "model_name='NewYork_NY'"
   ]
  },
  {
   "cell_type": "code",
   "execution_count": 49,
   "metadata": {
    "collapsed": true,
    "jupyter": {
     "outputs_hidden": true
    },
    "tags": []
   },
   "outputs": [
    {
     "name": "stdout",
     "output_type": "stream",
     "text": [
      "Copying NewYork_NY model\n",
      "   from: DEMO_MME_LINEAR_LEARNER/multi_model_artifacts/NewYork_NY/NewYork_NY.tar.gz\n",
      "     to: DEMO_MME_LINEAR_LEARNER/multi_model_artifacts/NewYork_NY/0_NewYork_NY.tar.gz...\n",
      "Copying NewYork_NY model\n",
      "   from: DEMO_MME_LINEAR_LEARNER/multi_model_artifacts/NewYork_NY/NewYork_NY.tar.gz\n",
      "     to: DEMO_MME_LINEAR_LEARNER/multi_model_artifacts/NewYork_NY/1_NewYork_NY.tar.gz...\n",
      "Copying NewYork_NY model\n",
      "   from: DEMO_MME_LINEAR_LEARNER/multi_model_artifacts/NewYork_NY/NewYork_NY.tar.gz\n",
      "     to: DEMO_MME_LINEAR_LEARNER/multi_model_artifacts/NewYork_NY/2_NewYork_NY.tar.gz...\n",
      "Copying NewYork_NY model\n",
      "   from: DEMO_MME_LINEAR_LEARNER/multi_model_artifacts/NewYork_NY/NewYork_NY.tar.gz\n",
      "     to: DEMO_MME_LINEAR_LEARNER/multi_model_artifacts/NewYork_NY/3_NewYork_NY.tar.gz...\n",
      "Copying NewYork_NY model\n",
      "   from: DEMO_MME_LINEAR_LEARNER/multi_model_artifacts/NewYork_NY/NewYork_NY.tar.gz\n",
      "     to: DEMO_MME_LINEAR_LEARNER/multi_model_artifacts/NewYork_NY/4_NewYork_NY.tar.gz...\n",
      "Copying NewYork_NY model\n",
      "   from: DEMO_MME_LINEAR_LEARNER/multi_model_artifacts/NewYork_NY/NewYork_NY.tar.gz\n",
      "     to: DEMO_MME_LINEAR_LEARNER/multi_model_artifacts/NewYork_NY/5_NewYork_NY.tar.gz...\n",
      "Copying NewYork_NY model\n",
      "   from: DEMO_MME_LINEAR_LEARNER/multi_model_artifacts/NewYork_NY/NewYork_NY.tar.gz\n",
      "     to: DEMO_MME_LINEAR_LEARNER/multi_model_artifacts/NewYork_NY/6_NewYork_NY.tar.gz...\n",
      "Copying NewYork_NY model\n",
      "   from: DEMO_MME_LINEAR_LEARNER/multi_model_artifacts/NewYork_NY/NewYork_NY.tar.gz\n",
      "     to: DEMO_MME_LINEAR_LEARNER/multi_model_artifacts/NewYork_NY/7_NewYork_NY.tar.gz...\n",
      "Copying NewYork_NY model\n",
      "   from: DEMO_MME_LINEAR_LEARNER/multi_model_artifacts/NewYork_NY/NewYork_NY.tar.gz\n",
      "     to: DEMO_MME_LINEAR_LEARNER/multi_model_artifacts/NewYork_NY/8_NewYork_NY.tar.gz...\n",
      "Copying NewYork_NY model\n",
      "   from: DEMO_MME_LINEAR_LEARNER/multi_model_artifacts/NewYork_NY/NewYork_NY.tar.gz\n",
      "     to: DEMO_MME_LINEAR_LEARNER/multi_model_artifacts/NewYork_NY/9_NewYork_NY.tar.gz...\n",
      "Copying NewYork_NY model\n",
      "   from: DEMO_MME_LINEAR_LEARNER/multi_model_artifacts/NewYork_NY/NewYork_NY.tar.gz\n",
      "     to: DEMO_MME_LINEAR_LEARNER/multi_model_artifacts/NewYork_NY/10_NewYork_NY.tar.gz...\n",
      "Copying NewYork_NY model\n",
      "   from: DEMO_MME_LINEAR_LEARNER/multi_model_artifacts/NewYork_NY/NewYork_NY.tar.gz\n",
      "     to: DEMO_MME_LINEAR_LEARNER/multi_model_artifacts/NewYork_NY/11_NewYork_NY.tar.gz...\n",
      "Copying NewYork_NY model\n",
      "   from: DEMO_MME_LINEAR_LEARNER/multi_model_artifacts/NewYork_NY/NewYork_NY.tar.gz\n",
      "     to: DEMO_MME_LINEAR_LEARNER/multi_model_artifacts/NewYork_NY/12_NewYork_NY.tar.gz...\n",
      "Copying NewYork_NY model\n",
      "   from: DEMO_MME_LINEAR_LEARNER/multi_model_artifacts/NewYork_NY/NewYork_NY.tar.gz\n",
      "     to: DEMO_MME_LINEAR_LEARNER/multi_model_artifacts/NewYork_NY/13_NewYork_NY.tar.gz...\n",
      "Copying NewYork_NY model\n",
      "   from: DEMO_MME_LINEAR_LEARNER/multi_model_artifacts/NewYork_NY/NewYork_NY.tar.gz\n",
      "     to: DEMO_MME_LINEAR_LEARNER/multi_model_artifacts/NewYork_NY/14_NewYork_NY.tar.gz...\n",
      "Copying NewYork_NY model\n",
      "   from: DEMO_MME_LINEAR_LEARNER/multi_model_artifacts/NewYork_NY/NewYork_NY.tar.gz\n",
      "     to: DEMO_MME_LINEAR_LEARNER/multi_model_artifacts/NewYork_NY/15_NewYork_NY.tar.gz...\n",
      "Copying NewYork_NY model\n",
      "   from: DEMO_MME_LINEAR_LEARNER/multi_model_artifacts/NewYork_NY/NewYork_NY.tar.gz\n",
      "     to: DEMO_MME_LINEAR_LEARNER/multi_model_artifacts/NewYork_NY/16_NewYork_NY.tar.gz...\n",
      "Copying NewYork_NY model\n",
      "   from: DEMO_MME_LINEAR_LEARNER/multi_model_artifacts/NewYork_NY/NewYork_NY.tar.gz\n",
      "     to: DEMO_MME_LINEAR_LEARNER/multi_model_artifacts/NewYork_NY/17_NewYork_NY.tar.gz...\n",
      "Copying NewYork_NY model\n",
      "   from: DEMO_MME_LINEAR_LEARNER/multi_model_artifacts/NewYork_NY/NewYork_NY.tar.gz\n",
      "     to: DEMO_MME_LINEAR_LEARNER/multi_model_artifacts/NewYork_NY/18_NewYork_NY.tar.gz...\n",
      "Copying NewYork_NY model\n",
      "   from: DEMO_MME_LINEAR_LEARNER/multi_model_artifacts/NewYork_NY/NewYork_NY.tar.gz\n",
      "     to: DEMO_MME_LINEAR_LEARNER/multi_model_artifacts/NewYork_NY/19_NewYork_NY.tar.gz...\n",
      "Copying NewYork_NY model\n",
      "   from: DEMO_MME_LINEAR_LEARNER/multi_model_artifacts/NewYork_NY/NewYork_NY.tar.gz\n",
      "     to: DEMO_MME_LINEAR_LEARNER/multi_model_artifacts/NewYork_NY/20_NewYork_NY.tar.gz...\n",
      "Copying NewYork_NY model\n",
      "   from: DEMO_MME_LINEAR_LEARNER/multi_model_artifacts/NewYork_NY/NewYork_NY.tar.gz\n",
      "     to: DEMO_MME_LINEAR_LEARNER/multi_model_artifacts/NewYork_NY/21_NewYork_NY.tar.gz...\n",
      "Copying NewYork_NY model\n",
      "   from: DEMO_MME_LINEAR_LEARNER/multi_model_artifacts/NewYork_NY/NewYork_NY.tar.gz\n",
      "     to: DEMO_MME_LINEAR_LEARNER/multi_model_artifacts/NewYork_NY/22_NewYork_NY.tar.gz...\n",
      "Copying NewYork_NY model\n",
      "   from: DEMO_MME_LINEAR_LEARNER/multi_model_artifacts/NewYork_NY/NewYork_NY.tar.gz\n",
      "     to: DEMO_MME_LINEAR_LEARNER/multi_model_artifacts/NewYork_NY/23_NewYork_NY.tar.gz...\n",
      "Copying NewYork_NY model\n",
      "   from: DEMO_MME_LINEAR_LEARNER/multi_model_artifacts/NewYork_NY/NewYork_NY.tar.gz\n",
      "     to: DEMO_MME_LINEAR_LEARNER/multi_model_artifacts/NewYork_NY/24_NewYork_NY.tar.gz...\n",
      "Copying NewYork_NY model\n",
      "   from: DEMO_MME_LINEAR_LEARNER/multi_model_artifacts/NewYork_NY/NewYork_NY.tar.gz\n",
      "     to: DEMO_MME_LINEAR_LEARNER/multi_model_artifacts/NewYork_NY/25_NewYork_NY.tar.gz...\n",
      "Copying NewYork_NY model\n",
      "   from: DEMO_MME_LINEAR_LEARNER/multi_model_artifacts/NewYork_NY/NewYork_NY.tar.gz\n",
      "     to: DEMO_MME_LINEAR_LEARNER/multi_model_artifacts/NewYork_NY/26_NewYork_NY.tar.gz...\n",
      "Copying NewYork_NY model\n",
      "   from: DEMO_MME_LINEAR_LEARNER/multi_model_artifacts/NewYork_NY/NewYork_NY.tar.gz\n",
      "     to: DEMO_MME_LINEAR_LEARNER/multi_model_artifacts/NewYork_NY/27_NewYork_NY.tar.gz...\n",
      "Copying NewYork_NY model\n",
      "   from: DEMO_MME_LINEAR_LEARNER/multi_model_artifacts/NewYork_NY/NewYork_NY.tar.gz\n",
      "     to: DEMO_MME_LINEAR_LEARNER/multi_model_artifacts/NewYork_NY/28_NewYork_NY.tar.gz...\n",
      "Copying NewYork_NY model\n",
      "   from: DEMO_MME_LINEAR_LEARNER/multi_model_artifacts/NewYork_NY/NewYork_NY.tar.gz\n",
      "     to: DEMO_MME_LINEAR_LEARNER/multi_model_artifacts/NewYork_NY/29_NewYork_NY.tar.gz...\n",
      "Copying NewYork_NY model\n",
      "   from: DEMO_MME_LINEAR_LEARNER/multi_model_artifacts/NewYork_NY/NewYork_NY.tar.gz\n",
      "     to: DEMO_MME_LINEAR_LEARNER/multi_model_artifacts/NewYork_NY/30_NewYork_NY.tar.gz...\n",
      "Copying NewYork_NY model\n",
      "   from: DEMO_MME_LINEAR_LEARNER/multi_model_artifacts/NewYork_NY/NewYork_NY.tar.gz\n",
      "     to: DEMO_MME_LINEAR_LEARNER/multi_model_artifacts/NewYork_NY/31_NewYork_NY.tar.gz...\n",
      "Copying NewYork_NY model\n",
      "   from: DEMO_MME_LINEAR_LEARNER/multi_model_artifacts/NewYork_NY/NewYork_NY.tar.gz\n",
      "     to: DEMO_MME_LINEAR_LEARNER/multi_model_artifacts/NewYork_NY/32_NewYork_NY.tar.gz...\n",
      "Copying NewYork_NY model\n",
      "   from: DEMO_MME_LINEAR_LEARNER/multi_model_artifacts/NewYork_NY/NewYork_NY.tar.gz\n",
      "     to: DEMO_MME_LINEAR_LEARNER/multi_model_artifacts/NewYork_NY/33_NewYork_NY.tar.gz...\n",
      "Copying NewYork_NY model\n",
      "   from: DEMO_MME_LINEAR_LEARNER/multi_model_artifacts/NewYork_NY/NewYork_NY.tar.gz\n",
      "     to: DEMO_MME_LINEAR_LEARNER/multi_model_artifacts/NewYork_NY/34_NewYork_NY.tar.gz...\n",
      "Copying NewYork_NY model\n",
      "   from: DEMO_MME_LINEAR_LEARNER/multi_model_artifacts/NewYork_NY/NewYork_NY.tar.gz\n",
      "     to: DEMO_MME_LINEAR_LEARNER/multi_model_artifacts/NewYork_NY/35_NewYork_NY.tar.gz...\n",
      "Copying NewYork_NY model\n",
      "   from: DEMO_MME_LINEAR_LEARNER/multi_model_artifacts/NewYork_NY/NewYork_NY.tar.gz\n",
      "     to: DEMO_MME_LINEAR_LEARNER/multi_model_artifacts/NewYork_NY/36_NewYork_NY.tar.gz...\n",
      "Copying NewYork_NY model\n",
      "   from: DEMO_MME_LINEAR_LEARNER/multi_model_artifacts/NewYork_NY/NewYork_NY.tar.gz\n",
      "     to: DEMO_MME_LINEAR_LEARNER/multi_model_artifacts/NewYork_NY/37_NewYork_NY.tar.gz...\n",
      "Copying NewYork_NY model\n",
      "   from: DEMO_MME_LINEAR_LEARNER/multi_model_artifacts/NewYork_NY/NewYork_NY.tar.gz\n",
      "     to: DEMO_MME_LINEAR_LEARNER/multi_model_artifacts/NewYork_NY/38_NewYork_NY.tar.gz...\n",
      "Copying NewYork_NY model\n",
      "   from: DEMO_MME_LINEAR_LEARNER/multi_model_artifacts/NewYork_NY/NewYork_NY.tar.gz\n",
      "     to: DEMO_MME_LINEAR_LEARNER/multi_model_artifacts/NewYork_NY/39_NewYork_NY.tar.gz...\n",
      "Copying NewYork_NY model\n",
      "   from: DEMO_MME_LINEAR_LEARNER/multi_model_artifacts/NewYork_NY/NewYork_NY.tar.gz\n",
      "     to: DEMO_MME_LINEAR_LEARNER/multi_model_artifacts/NewYork_NY/40_NewYork_NY.tar.gz...\n",
      "Copying NewYork_NY model\n",
      "   from: DEMO_MME_LINEAR_LEARNER/multi_model_artifacts/NewYork_NY/NewYork_NY.tar.gz\n",
      "     to: DEMO_MME_LINEAR_LEARNER/multi_model_artifacts/NewYork_NY/41_NewYork_NY.tar.gz...\n",
      "Copying NewYork_NY model\n",
      "   from: DEMO_MME_LINEAR_LEARNER/multi_model_artifacts/NewYork_NY/NewYork_NY.tar.gz\n",
      "     to: DEMO_MME_LINEAR_LEARNER/multi_model_artifacts/NewYork_NY/42_NewYork_NY.tar.gz...\n",
      "Copying NewYork_NY model\n",
      "   from: DEMO_MME_LINEAR_LEARNER/multi_model_artifacts/NewYork_NY/NewYork_NY.tar.gz\n",
      "     to: DEMO_MME_LINEAR_LEARNER/multi_model_artifacts/NewYork_NY/43_NewYork_NY.tar.gz...\n",
      "Copying NewYork_NY model\n",
      "   from: DEMO_MME_LINEAR_LEARNER/multi_model_artifacts/NewYork_NY/NewYork_NY.tar.gz\n",
      "     to: DEMO_MME_LINEAR_LEARNER/multi_model_artifacts/NewYork_NY/44_NewYork_NY.tar.gz...\n",
      "Copying NewYork_NY model\n",
      "   from: DEMO_MME_LINEAR_LEARNER/multi_model_artifacts/NewYork_NY/NewYork_NY.tar.gz\n",
      "     to: DEMO_MME_LINEAR_LEARNER/multi_model_artifacts/NewYork_NY/45_NewYork_NY.tar.gz...\n",
      "Copying NewYork_NY model\n",
      "   from: DEMO_MME_LINEAR_LEARNER/multi_model_artifacts/NewYork_NY/NewYork_NY.tar.gz\n",
      "     to: DEMO_MME_LINEAR_LEARNER/multi_model_artifacts/NewYork_NY/46_NewYork_NY.tar.gz...\n",
      "Copying NewYork_NY model\n",
      "   from: DEMO_MME_LINEAR_LEARNER/multi_model_artifacts/NewYork_NY/NewYork_NY.tar.gz\n",
      "     to: DEMO_MME_LINEAR_LEARNER/multi_model_artifacts/NewYork_NY/47_NewYork_NY.tar.gz...\n",
      "Copying NewYork_NY model\n",
      "   from: DEMO_MME_LINEAR_LEARNER/multi_model_artifacts/NewYork_NY/NewYork_NY.tar.gz\n",
      "     to: DEMO_MME_LINEAR_LEARNER/multi_model_artifacts/NewYork_NY/48_NewYork_NY.tar.gz...\n",
      "Copying NewYork_NY model\n",
      "   from: DEMO_MME_LINEAR_LEARNER/multi_model_artifacts/NewYork_NY/NewYork_NY.tar.gz\n",
      "     to: DEMO_MME_LINEAR_LEARNER/multi_model_artifacts/NewYork_NY/49_NewYork_NY.tar.gz...\n",
      "Copying NewYork_NY model\n",
      "   from: DEMO_MME_LINEAR_LEARNER/multi_model_artifacts/NewYork_NY/NewYork_NY.tar.gz\n",
      "     to: DEMO_MME_LINEAR_LEARNER/multi_model_artifacts/NewYork_NY/50_NewYork_NY.tar.gz...\n",
      "Copying NewYork_NY model\n",
      "   from: DEMO_MME_LINEAR_LEARNER/multi_model_artifacts/NewYork_NY/NewYork_NY.tar.gz\n",
      "     to: DEMO_MME_LINEAR_LEARNER/multi_model_artifacts/NewYork_NY/51_NewYork_NY.tar.gz...\n",
      "Copying NewYork_NY model\n",
      "   from: DEMO_MME_LINEAR_LEARNER/multi_model_artifacts/NewYork_NY/NewYork_NY.tar.gz\n",
      "     to: DEMO_MME_LINEAR_LEARNER/multi_model_artifacts/NewYork_NY/52_NewYork_NY.tar.gz...\n",
      "Copying NewYork_NY model\n",
      "   from: DEMO_MME_LINEAR_LEARNER/multi_model_artifacts/NewYork_NY/NewYork_NY.tar.gz\n",
      "     to: DEMO_MME_LINEAR_LEARNER/multi_model_artifacts/NewYork_NY/53_NewYork_NY.tar.gz...\n",
      "Copying NewYork_NY model\n",
      "   from: DEMO_MME_LINEAR_LEARNER/multi_model_artifacts/NewYork_NY/NewYork_NY.tar.gz\n",
      "     to: DEMO_MME_LINEAR_LEARNER/multi_model_artifacts/NewYork_NY/54_NewYork_NY.tar.gz...\n",
      "Copying NewYork_NY model\n",
      "   from: DEMO_MME_LINEAR_LEARNER/multi_model_artifacts/NewYork_NY/NewYork_NY.tar.gz\n",
      "     to: DEMO_MME_LINEAR_LEARNER/multi_model_artifacts/NewYork_NY/55_NewYork_NY.tar.gz...\n",
      "Copying NewYork_NY model\n",
      "   from: DEMO_MME_LINEAR_LEARNER/multi_model_artifacts/NewYork_NY/NewYork_NY.tar.gz\n",
      "     to: DEMO_MME_LINEAR_LEARNER/multi_model_artifacts/NewYork_NY/56_NewYork_NY.tar.gz...\n",
      "Copying NewYork_NY model\n",
      "   from: DEMO_MME_LINEAR_LEARNER/multi_model_artifacts/NewYork_NY/NewYork_NY.tar.gz\n",
      "     to: DEMO_MME_LINEAR_LEARNER/multi_model_artifacts/NewYork_NY/57_NewYork_NY.tar.gz...\n",
      "Copying NewYork_NY model\n",
      "   from: DEMO_MME_LINEAR_LEARNER/multi_model_artifacts/NewYork_NY/NewYork_NY.tar.gz\n",
      "     to: DEMO_MME_LINEAR_LEARNER/multi_model_artifacts/NewYork_NY/58_NewYork_NY.tar.gz...\n",
      "Copying NewYork_NY model\n",
      "   from: DEMO_MME_LINEAR_LEARNER/multi_model_artifacts/NewYork_NY/NewYork_NY.tar.gz\n",
      "     to: DEMO_MME_LINEAR_LEARNER/multi_model_artifacts/NewYork_NY/59_NewYork_NY.tar.gz...\n",
      "Copying NewYork_NY model\n",
      "   from: DEMO_MME_LINEAR_LEARNER/multi_model_artifacts/NewYork_NY/NewYork_NY.tar.gz\n",
      "     to: DEMO_MME_LINEAR_LEARNER/multi_model_artifacts/NewYork_NY/60_NewYork_NY.tar.gz...\n",
      "Copying NewYork_NY model\n",
      "   from: DEMO_MME_LINEAR_LEARNER/multi_model_artifacts/NewYork_NY/NewYork_NY.tar.gz\n",
      "     to: DEMO_MME_LINEAR_LEARNER/multi_model_artifacts/NewYork_NY/61_NewYork_NY.tar.gz...\n",
      "Copying NewYork_NY model\n",
      "   from: DEMO_MME_LINEAR_LEARNER/multi_model_artifacts/NewYork_NY/NewYork_NY.tar.gz\n",
      "     to: DEMO_MME_LINEAR_LEARNER/multi_model_artifacts/NewYork_NY/62_NewYork_NY.tar.gz...\n",
      "Copying NewYork_NY model\n",
      "   from: DEMO_MME_LINEAR_LEARNER/multi_model_artifacts/NewYork_NY/NewYork_NY.tar.gz\n",
      "     to: DEMO_MME_LINEAR_LEARNER/multi_model_artifacts/NewYork_NY/63_NewYork_NY.tar.gz...\n",
      "Copying NewYork_NY model\n",
      "   from: DEMO_MME_LINEAR_LEARNER/multi_model_artifacts/NewYork_NY/NewYork_NY.tar.gz\n",
      "     to: DEMO_MME_LINEAR_LEARNER/multi_model_artifacts/NewYork_NY/64_NewYork_NY.tar.gz...\n",
      "Copying NewYork_NY model\n",
      "   from: DEMO_MME_LINEAR_LEARNER/multi_model_artifacts/NewYork_NY/NewYork_NY.tar.gz\n",
      "     to: DEMO_MME_LINEAR_LEARNER/multi_model_artifacts/NewYork_NY/65_NewYork_NY.tar.gz...\n",
      "Copying NewYork_NY model\n",
      "   from: DEMO_MME_LINEAR_LEARNER/multi_model_artifacts/NewYork_NY/NewYork_NY.tar.gz\n",
      "     to: DEMO_MME_LINEAR_LEARNER/multi_model_artifacts/NewYork_NY/66_NewYork_NY.tar.gz...\n",
      "Copying NewYork_NY model\n",
      "   from: DEMO_MME_LINEAR_LEARNER/multi_model_artifacts/NewYork_NY/NewYork_NY.tar.gz\n",
      "     to: DEMO_MME_LINEAR_LEARNER/multi_model_artifacts/NewYork_NY/67_NewYork_NY.tar.gz...\n",
      "Copying NewYork_NY model\n",
      "   from: DEMO_MME_LINEAR_LEARNER/multi_model_artifacts/NewYork_NY/NewYork_NY.tar.gz\n",
      "     to: DEMO_MME_LINEAR_LEARNER/multi_model_artifacts/NewYork_NY/68_NewYork_NY.tar.gz...\n",
      "Copying NewYork_NY model\n",
      "   from: DEMO_MME_LINEAR_LEARNER/multi_model_artifacts/NewYork_NY/NewYork_NY.tar.gz\n",
      "     to: DEMO_MME_LINEAR_LEARNER/multi_model_artifacts/NewYork_NY/69_NewYork_NY.tar.gz...\n",
      "Copying NewYork_NY model\n",
      "   from: DEMO_MME_LINEAR_LEARNER/multi_model_artifacts/NewYork_NY/NewYork_NY.tar.gz\n",
      "     to: DEMO_MME_LINEAR_LEARNER/multi_model_artifacts/NewYork_NY/70_NewYork_NY.tar.gz...\n",
      "Copying NewYork_NY model\n",
      "   from: DEMO_MME_LINEAR_LEARNER/multi_model_artifacts/NewYork_NY/NewYork_NY.tar.gz\n",
      "     to: DEMO_MME_LINEAR_LEARNER/multi_model_artifacts/NewYork_NY/71_NewYork_NY.tar.gz...\n",
      "Copying NewYork_NY model\n",
      "   from: DEMO_MME_LINEAR_LEARNER/multi_model_artifacts/NewYork_NY/NewYork_NY.tar.gz\n",
      "     to: DEMO_MME_LINEAR_LEARNER/multi_model_artifacts/NewYork_NY/72_NewYork_NY.tar.gz...\n",
      "Copying NewYork_NY model\n",
      "   from: DEMO_MME_LINEAR_LEARNER/multi_model_artifacts/NewYork_NY/NewYork_NY.tar.gz\n",
      "     to: DEMO_MME_LINEAR_LEARNER/multi_model_artifacts/NewYork_NY/73_NewYork_NY.tar.gz...\n",
      "Copying NewYork_NY model\n",
      "   from: DEMO_MME_LINEAR_LEARNER/multi_model_artifacts/NewYork_NY/NewYork_NY.tar.gz\n",
      "     to: DEMO_MME_LINEAR_LEARNER/multi_model_artifacts/NewYork_NY/74_NewYork_NY.tar.gz...\n",
      "Copying NewYork_NY model\n",
      "   from: DEMO_MME_LINEAR_LEARNER/multi_model_artifacts/NewYork_NY/NewYork_NY.tar.gz\n",
      "     to: DEMO_MME_LINEAR_LEARNER/multi_model_artifacts/NewYork_NY/75_NewYork_NY.tar.gz...\n",
      "Copying NewYork_NY model\n",
      "   from: DEMO_MME_LINEAR_LEARNER/multi_model_artifacts/NewYork_NY/NewYork_NY.tar.gz\n",
      "     to: DEMO_MME_LINEAR_LEARNER/multi_model_artifacts/NewYork_NY/76_NewYork_NY.tar.gz...\n",
      "Copying NewYork_NY model\n",
      "   from: DEMO_MME_LINEAR_LEARNER/multi_model_artifacts/NewYork_NY/NewYork_NY.tar.gz\n",
      "     to: DEMO_MME_LINEAR_LEARNER/multi_model_artifacts/NewYork_NY/77_NewYork_NY.tar.gz...\n",
      "Copying NewYork_NY model\n",
      "   from: DEMO_MME_LINEAR_LEARNER/multi_model_artifacts/NewYork_NY/NewYork_NY.tar.gz\n",
      "     to: DEMO_MME_LINEAR_LEARNER/multi_model_artifacts/NewYork_NY/78_NewYork_NY.tar.gz...\n",
      "Copying NewYork_NY model\n",
      "   from: DEMO_MME_LINEAR_LEARNER/multi_model_artifacts/NewYork_NY/NewYork_NY.tar.gz\n",
      "     to: DEMO_MME_LINEAR_LEARNER/multi_model_artifacts/NewYork_NY/79_NewYork_NY.tar.gz...\n",
      "Copying NewYork_NY model\n",
      "   from: DEMO_MME_LINEAR_LEARNER/multi_model_artifacts/NewYork_NY/NewYork_NY.tar.gz\n",
      "     to: DEMO_MME_LINEAR_LEARNER/multi_model_artifacts/NewYork_NY/80_NewYork_NY.tar.gz...\n",
      "Copying NewYork_NY model\n",
      "   from: DEMO_MME_LINEAR_LEARNER/multi_model_artifacts/NewYork_NY/NewYork_NY.tar.gz\n",
      "     to: DEMO_MME_LINEAR_LEARNER/multi_model_artifacts/NewYork_NY/81_NewYork_NY.tar.gz...\n",
      "Copying NewYork_NY model\n",
      "   from: DEMO_MME_LINEAR_LEARNER/multi_model_artifacts/NewYork_NY/NewYork_NY.tar.gz\n",
      "     to: DEMO_MME_LINEAR_LEARNER/multi_model_artifacts/NewYork_NY/82_NewYork_NY.tar.gz...\n",
      "Copying NewYork_NY model\n",
      "   from: DEMO_MME_LINEAR_LEARNER/multi_model_artifacts/NewYork_NY/NewYork_NY.tar.gz\n",
      "     to: DEMO_MME_LINEAR_LEARNER/multi_model_artifacts/NewYork_NY/83_NewYork_NY.tar.gz...\n",
      "Copying NewYork_NY model\n",
      "   from: DEMO_MME_LINEAR_LEARNER/multi_model_artifacts/NewYork_NY/NewYork_NY.tar.gz\n",
      "     to: DEMO_MME_LINEAR_LEARNER/multi_model_artifacts/NewYork_NY/84_NewYork_NY.tar.gz...\n",
      "Copying NewYork_NY model\n",
      "   from: DEMO_MME_LINEAR_LEARNER/multi_model_artifacts/NewYork_NY/NewYork_NY.tar.gz\n",
      "     to: DEMO_MME_LINEAR_LEARNER/multi_model_artifacts/NewYork_NY/85_NewYork_NY.tar.gz...\n",
      "Copying NewYork_NY model\n",
      "   from: DEMO_MME_LINEAR_LEARNER/multi_model_artifacts/NewYork_NY/NewYork_NY.tar.gz\n",
      "     to: DEMO_MME_LINEAR_LEARNER/multi_model_artifacts/NewYork_NY/86_NewYork_NY.tar.gz...\n",
      "Copying NewYork_NY model\n",
      "   from: DEMO_MME_LINEAR_LEARNER/multi_model_artifacts/NewYork_NY/NewYork_NY.tar.gz\n",
      "     to: DEMO_MME_LINEAR_LEARNER/multi_model_artifacts/NewYork_NY/87_NewYork_NY.tar.gz...\n",
      "Copying NewYork_NY model\n",
      "   from: DEMO_MME_LINEAR_LEARNER/multi_model_artifacts/NewYork_NY/NewYork_NY.tar.gz\n",
      "     to: DEMO_MME_LINEAR_LEARNER/multi_model_artifacts/NewYork_NY/88_NewYork_NY.tar.gz...\n",
      "Copying NewYork_NY model\n",
      "   from: DEMO_MME_LINEAR_LEARNER/multi_model_artifacts/NewYork_NY/NewYork_NY.tar.gz\n",
      "     to: DEMO_MME_LINEAR_LEARNER/multi_model_artifacts/NewYork_NY/89_NewYork_NY.tar.gz...\n",
      "Copying NewYork_NY model\n",
      "   from: DEMO_MME_LINEAR_LEARNER/multi_model_artifacts/NewYork_NY/NewYork_NY.tar.gz\n",
      "     to: DEMO_MME_LINEAR_LEARNER/multi_model_artifacts/NewYork_NY/90_NewYork_NY.tar.gz...\n",
      "Copying NewYork_NY model\n",
      "   from: DEMO_MME_LINEAR_LEARNER/multi_model_artifacts/NewYork_NY/NewYork_NY.tar.gz\n",
      "     to: DEMO_MME_LINEAR_LEARNER/multi_model_artifacts/NewYork_NY/91_NewYork_NY.tar.gz...\n",
      "Copying NewYork_NY model\n",
      "   from: DEMO_MME_LINEAR_LEARNER/multi_model_artifacts/NewYork_NY/NewYork_NY.tar.gz\n",
      "     to: DEMO_MME_LINEAR_LEARNER/multi_model_artifacts/NewYork_NY/92_NewYork_NY.tar.gz...\n",
      "Copying NewYork_NY model\n",
      "   from: DEMO_MME_LINEAR_LEARNER/multi_model_artifacts/NewYork_NY/NewYork_NY.tar.gz\n",
      "     to: DEMO_MME_LINEAR_LEARNER/multi_model_artifacts/NewYork_NY/93_NewYork_NY.tar.gz...\n",
      "Copying NewYork_NY model\n",
      "   from: DEMO_MME_LINEAR_LEARNER/multi_model_artifacts/NewYork_NY/NewYork_NY.tar.gz\n",
      "     to: DEMO_MME_LINEAR_LEARNER/multi_model_artifacts/NewYork_NY/94_NewYork_NY.tar.gz...\n",
      "Copying NewYork_NY model\n",
      "   from: DEMO_MME_LINEAR_LEARNER/multi_model_artifacts/NewYork_NY/NewYork_NY.tar.gz\n",
      "     to: DEMO_MME_LINEAR_LEARNER/multi_model_artifacts/NewYork_NY/95_NewYork_NY.tar.gz...\n",
      "Copying NewYork_NY model\n",
      "   from: DEMO_MME_LINEAR_LEARNER/multi_model_artifacts/NewYork_NY/NewYork_NY.tar.gz\n",
      "     to: DEMO_MME_LINEAR_LEARNER/multi_model_artifacts/NewYork_NY/96_NewYork_NY.tar.gz...\n",
      "Copying NewYork_NY model\n",
      "   from: DEMO_MME_LINEAR_LEARNER/multi_model_artifacts/NewYork_NY/NewYork_NY.tar.gz\n",
      "     to: DEMO_MME_LINEAR_LEARNER/multi_model_artifacts/NewYork_NY/97_NewYork_NY.tar.gz...\n",
      "Copying NewYork_NY model\n",
      "   from: DEMO_MME_LINEAR_LEARNER/multi_model_artifacts/NewYork_NY/NewYork_NY.tar.gz\n",
      "     to: DEMO_MME_LINEAR_LEARNER/multi_model_artifacts/NewYork_NY/98_NewYork_NY.tar.gz...\n",
      "Copying NewYork_NY model\n",
      "   from: DEMO_MME_LINEAR_LEARNER/multi_model_artifacts/NewYork_NY/NewYork_NY.tar.gz\n",
      "     to: DEMO_MME_LINEAR_LEARNER/multi_model_artifacts/NewYork_NY/99_NewYork_NY.tar.gz...\n",
      "Copying NewYork_NY model\n",
      "   from: DEMO_MME_LINEAR_LEARNER/multi_model_artifacts/NewYork_NY/NewYork_NY.tar.gz\n",
      "     to: DEMO_MME_LINEAR_LEARNER/multi_model_artifacts/NewYork_NY/100_NewYork_NY.tar.gz...\n",
      "Copying NewYork_NY model\n",
      "   from: DEMO_MME_LINEAR_LEARNER/multi_model_artifacts/NewYork_NY/NewYork_NY.tar.gz\n",
      "     to: DEMO_MME_LINEAR_LEARNER/multi_model_artifacts/NewYork_NY/101_NewYork_NY.tar.gz...\n",
      "Copying NewYork_NY model\n",
      "   from: DEMO_MME_LINEAR_LEARNER/multi_model_artifacts/NewYork_NY/NewYork_NY.tar.gz\n",
      "     to: DEMO_MME_LINEAR_LEARNER/multi_model_artifacts/NewYork_NY/102_NewYork_NY.tar.gz...\n",
      "Copying NewYork_NY model\n",
      "   from: DEMO_MME_LINEAR_LEARNER/multi_model_artifacts/NewYork_NY/NewYork_NY.tar.gz\n",
      "     to: DEMO_MME_LINEAR_LEARNER/multi_model_artifacts/NewYork_NY/103_NewYork_NY.tar.gz...\n",
      "Copying NewYork_NY model\n",
      "   from: DEMO_MME_LINEAR_LEARNER/multi_model_artifacts/NewYork_NY/NewYork_NY.tar.gz\n",
      "     to: DEMO_MME_LINEAR_LEARNER/multi_model_artifacts/NewYork_NY/104_NewYork_NY.tar.gz...\n",
      "Copying NewYork_NY model\n",
      "   from: DEMO_MME_LINEAR_LEARNER/multi_model_artifacts/NewYork_NY/NewYork_NY.tar.gz\n",
      "     to: DEMO_MME_LINEAR_LEARNER/multi_model_artifacts/NewYork_NY/105_NewYork_NY.tar.gz...\n",
      "Copying NewYork_NY model\n",
      "   from: DEMO_MME_LINEAR_LEARNER/multi_model_artifacts/NewYork_NY/NewYork_NY.tar.gz\n",
      "     to: DEMO_MME_LINEAR_LEARNER/multi_model_artifacts/NewYork_NY/106_NewYork_NY.tar.gz...\n",
      "Copying NewYork_NY model\n",
      "   from: DEMO_MME_LINEAR_LEARNER/multi_model_artifacts/NewYork_NY/NewYork_NY.tar.gz\n",
      "     to: DEMO_MME_LINEAR_LEARNER/multi_model_artifacts/NewYork_NY/107_NewYork_NY.tar.gz...\n",
      "Copying NewYork_NY model\n",
      "   from: DEMO_MME_LINEAR_LEARNER/multi_model_artifacts/NewYork_NY/NewYork_NY.tar.gz\n",
      "     to: DEMO_MME_LINEAR_LEARNER/multi_model_artifacts/NewYork_NY/108_NewYork_NY.tar.gz...\n",
      "Copying NewYork_NY model\n",
      "   from: DEMO_MME_LINEAR_LEARNER/multi_model_artifacts/NewYork_NY/NewYork_NY.tar.gz\n",
      "     to: DEMO_MME_LINEAR_LEARNER/multi_model_artifacts/NewYork_NY/109_NewYork_NY.tar.gz...\n",
      "Copying NewYork_NY model\n",
      "   from: DEMO_MME_LINEAR_LEARNER/multi_model_artifacts/NewYork_NY/NewYork_NY.tar.gz\n",
      "     to: DEMO_MME_LINEAR_LEARNER/multi_model_artifacts/NewYork_NY/110_NewYork_NY.tar.gz...\n",
      "Copying NewYork_NY model\n",
      "   from: DEMO_MME_LINEAR_LEARNER/multi_model_artifacts/NewYork_NY/NewYork_NY.tar.gz\n",
      "     to: DEMO_MME_LINEAR_LEARNER/multi_model_artifacts/NewYork_NY/111_NewYork_NY.tar.gz...\n",
      "Copying NewYork_NY model\n",
      "   from: DEMO_MME_LINEAR_LEARNER/multi_model_artifacts/NewYork_NY/NewYork_NY.tar.gz\n",
      "     to: DEMO_MME_LINEAR_LEARNER/multi_model_artifacts/NewYork_NY/112_NewYork_NY.tar.gz...\n",
      "Copying NewYork_NY model\n",
      "   from: DEMO_MME_LINEAR_LEARNER/multi_model_artifacts/NewYork_NY/NewYork_NY.tar.gz\n",
      "     to: DEMO_MME_LINEAR_LEARNER/multi_model_artifacts/NewYork_NY/113_NewYork_NY.tar.gz...\n",
      "Copying NewYork_NY model\n",
      "   from: DEMO_MME_LINEAR_LEARNER/multi_model_artifacts/NewYork_NY/NewYork_NY.tar.gz\n",
      "     to: DEMO_MME_LINEAR_LEARNER/multi_model_artifacts/NewYork_NY/114_NewYork_NY.tar.gz...\n",
      "Copying NewYork_NY model\n",
      "   from: DEMO_MME_LINEAR_LEARNER/multi_model_artifacts/NewYork_NY/NewYork_NY.tar.gz\n",
      "     to: DEMO_MME_LINEAR_LEARNER/multi_model_artifacts/NewYork_NY/115_NewYork_NY.tar.gz...\n",
      "Copying NewYork_NY model\n",
      "   from: DEMO_MME_LINEAR_LEARNER/multi_model_artifacts/NewYork_NY/NewYork_NY.tar.gz\n",
      "     to: DEMO_MME_LINEAR_LEARNER/multi_model_artifacts/NewYork_NY/116_NewYork_NY.tar.gz...\n",
      "Copying NewYork_NY model\n",
      "   from: DEMO_MME_LINEAR_LEARNER/multi_model_artifacts/NewYork_NY/NewYork_NY.tar.gz\n",
      "     to: DEMO_MME_LINEAR_LEARNER/multi_model_artifacts/NewYork_NY/117_NewYork_NY.tar.gz...\n",
      "Copying NewYork_NY model\n",
      "   from: DEMO_MME_LINEAR_LEARNER/multi_model_artifacts/NewYork_NY/NewYork_NY.tar.gz\n",
      "     to: DEMO_MME_LINEAR_LEARNER/multi_model_artifacts/NewYork_NY/118_NewYork_NY.tar.gz...\n",
      "Copying NewYork_NY model\n",
      "   from: DEMO_MME_LINEAR_LEARNER/multi_model_artifacts/NewYork_NY/NewYork_NY.tar.gz\n",
      "     to: DEMO_MME_LINEAR_LEARNER/multi_model_artifacts/NewYork_NY/119_NewYork_NY.tar.gz...\n",
      "Copying NewYork_NY model\n",
      "   from: DEMO_MME_LINEAR_LEARNER/multi_model_artifacts/NewYork_NY/NewYork_NY.tar.gz\n",
      "     to: DEMO_MME_LINEAR_LEARNER/multi_model_artifacts/NewYork_NY/120_NewYork_NY.tar.gz...\n",
      "Copying NewYork_NY model\n",
      "   from: DEMO_MME_LINEAR_LEARNER/multi_model_artifacts/NewYork_NY/NewYork_NY.tar.gz\n",
      "     to: DEMO_MME_LINEAR_LEARNER/multi_model_artifacts/NewYork_NY/121_NewYork_NY.tar.gz...\n",
      "Copying NewYork_NY model\n",
      "   from: DEMO_MME_LINEAR_LEARNER/multi_model_artifacts/NewYork_NY/NewYork_NY.tar.gz\n",
      "     to: DEMO_MME_LINEAR_LEARNER/multi_model_artifacts/NewYork_NY/122_NewYork_NY.tar.gz...\n",
      "Copying NewYork_NY model\n",
      "   from: DEMO_MME_LINEAR_LEARNER/multi_model_artifacts/NewYork_NY/NewYork_NY.tar.gz\n",
      "     to: DEMO_MME_LINEAR_LEARNER/multi_model_artifacts/NewYork_NY/123_NewYork_NY.tar.gz...\n",
      "Copying NewYork_NY model\n",
      "   from: DEMO_MME_LINEAR_LEARNER/multi_model_artifacts/NewYork_NY/NewYork_NY.tar.gz\n",
      "     to: DEMO_MME_LINEAR_LEARNER/multi_model_artifacts/NewYork_NY/124_NewYork_NY.tar.gz...\n",
      "Copying NewYork_NY model\n",
      "   from: DEMO_MME_LINEAR_LEARNER/multi_model_artifacts/NewYork_NY/NewYork_NY.tar.gz\n",
      "     to: DEMO_MME_LINEAR_LEARNER/multi_model_artifacts/NewYork_NY/125_NewYork_NY.tar.gz...\n",
      "Copying NewYork_NY model\n",
      "   from: DEMO_MME_LINEAR_LEARNER/multi_model_artifacts/NewYork_NY/NewYork_NY.tar.gz\n",
      "     to: DEMO_MME_LINEAR_LEARNER/multi_model_artifacts/NewYork_NY/126_NewYork_NY.tar.gz...\n",
      "Copying NewYork_NY model\n",
      "   from: DEMO_MME_LINEAR_LEARNER/multi_model_artifacts/NewYork_NY/NewYork_NY.tar.gz\n",
      "     to: DEMO_MME_LINEAR_LEARNER/multi_model_artifacts/NewYork_NY/127_NewYork_NY.tar.gz...\n",
      "Copying NewYork_NY model\n",
      "   from: DEMO_MME_LINEAR_LEARNER/multi_model_artifacts/NewYork_NY/NewYork_NY.tar.gz\n",
      "     to: DEMO_MME_LINEAR_LEARNER/multi_model_artifacts/NewYork_NY/128_NewYork_NY.tar.gz...\n",
      "Copying NewYork_NY model\n",
      "   from: DEMO_MME_LINEAR_LEARNER/multi_model_artifacts/NewYork_NY/NewYork_NY.tar.gz\n",
      "     to: DEMO_MME_LINEAR_LEARNER/multi_model_artifacts/NewYork_NY/129_NewYork_NY.tar.gz...\n",
      "Copying NewYork_NY model\n",
      "   from: DEMO_MME_LINEAR_LEARNER/multi_model_artifacts/NewYork_NY/NewYork_NY.tar.gz\n",
      "     to: DEMO_MME_LINEAR_LEARNER/multi_model_artifacts/NewYork_NY/130_NewYork_NY.tar.gz...\n",
      "Copying NewYork_NY model\n",
      "   from: DEMO_MME_LINEAR_LEARNER/multi_model_artifacts/NewYork_NY/NewYork_NY.tar.gz\n",
      "     to: DEMO_MME_LINEAR_LEARNER/multi_model_artifacts/NewYork_NY/131_NewYork_NY.tar.gz...\n",
      "Copying NewYork_NY model\n",
      "   from: DEMO_MME_LINEAR_LEARNER/multi_model_artifacts/NewYork_NY/NewYork_NY.tar.gz\n",
      "     to: DEMO_MME_LINEAR_LEARNER/multi_model_artifacts/NewYork_NY/132_NewYork_NY.tar.gz...\n",
      "Copying NewYork_NY model\n",
      "   from: DEMO_MME_LINEAR_LEARNER/multi_model_artifacts/NewYork_NY/NewYork_NY.tar.gz\n",
      "     to: DEMO_MME_LINEAR_LEARNER/multi_model_artifacts/NewYork_NY/133_NewYork_NY.tar.gz...\n",
      "Copying NewYork_NY model\n",
      "   from: DEMO_MME_LINEAR_LEARNER/multi_model_artifacts/NewYork_NY/NewYork_NY.tar.gz\n",
      "     to: DEMO_MME_LINEAR_LEARNER/multi_model_artifacts/NewYork_NY/134_NewYork_NY.tar.gz...\n",
      "Copying NewYork_NY model\n",
      "   from: DEMO_MME_LINEAR_LEARNER/multi_model_artifacts/NewYork_NY/NewYork_NY.tar.gz\n",
      "     to: DEMO_MME_LINEAR_LEARNER/multi_model_artifacts/NewYork_NY/135_NewYork_NY.tar.gz...\n",
      "Copying NewYork_NY model\n",
      "   from: DEMO_MME_LINEAR_LEARNER/multi_model_artifacts/NewYork_NY/NewYork_NY.tar.gz\n",
      "     to: DEMO_MME_LINEAR_LEARNER/multi_model_artifacts/NewYork_NY/136_NewYork_NY.tar.gz...\n",
      "Copying NewYork_NY model\n",
      "   from: DEMO_MME_LINEAR_LEARNER/multi_model_artifacts/NewYork_NY/NewYork_NY.tar.gz\n",
      "     to: DEMO_MME_LINEAR_LEARNER/multi_model_artifacts/NewYork_NY/137_NewYork_NY.tar.gz...\n",
      "Copying NewYork_NY model\n",
      "   from: DEMO_MME_LINEAR_LEARNER/multi_model_artifacts/NewYork_NY/NewYork_NY.tar.gz\n",
      "     to: DEMO_MME_LINEAR_LEARNER/multi_model_artifacts/NewYork_NY/138_NewYork_NY.tar.gz...\n",
      "Copying NewYork_NY model\n",
      "   from: DEMO_MME_LINEAR_LEARNER/multi_model_artifacts/NewYork_NY/NewYork_NY.tar.gz\n",
      "     to: DEMO_MME_LINEAR_LEARNER/multi_model_artifacts/NewYork_NY/139_NewYork_NY.tar.gz...\n",
      "Copying NewYork_NY model\n",
      "   from: DEMO_MME_LINEAR_LEARNER/multi_model_artifacts/NewYork_NY/NewYork_NY.tar.gz\n",
      "     to: DEMO_MME_LINEAR_LEARNER/multi_model_artifacts/NewYork_NY/140_NewYork_NY.tar.gz...\n",
      "Copying NewYork_NY model\n",
      "   from: DEMO_MME_LINEAR_LEARNER/multi_model_artifacts/NewYork_NY/NewYork_NY.tar.gz\n",
      "     to: DEMO_MME_LINEAR_LEARNER/multi_model_artifacts/NewYork_NY/141_NewYork_NY.tar.gz...\n",
      "Copying NewYork_NY model\n",
      "   from: DEMO_MME_LINEAR_LEARNER/multi_model_artifacts/NewYork_NY/NewYork_NY.tar.gz\n",
      "     to: DEMO_MME_LINEAR_LEARNER/multi_model_artifacts/NewYork_NY/142_NewYork_NY.tar.gz...\n",
      "Copying NewYork_NY model\n",
      "   from: DEMO_MME_LINEAR_LEARNER/multi_model_artifacts/NewYork_NY/NewYork_NY.tar.gz\n",
      "     to: DEMO_MME_LINEAR_LEARNER/multi_model_artifacts/NewYork_NY/143_NewYork_NY.tar.gz...\n",
      "Copying NewYork_NY model\n",
      "   from: DEMO_MME_LINEAR_LEARNER/multi_model_artifacts/NewYork_NY/NewYork_NY.tar.gz\n",
      "     to: DEMO_MME_LINEAR_LEARNER/multi_model_artifacts/NewYork_NY/144_NewYork_NY.tar.gz...\n",
      "Copying NewYork_NY model\n",
      "   from: DEMO_MME_LINEAR_LEARNER/multi_model_artifacts/NewYork_NY/NewYork_NY.tar.gz\n",
      "     to: DEMO_MME_LINEAR_LEARNER/multi_model_artifacts/NewYork_NY/145_NewYork_NY.tar.gz...\n",
      "Copying NewYork_NY model\n",
      "   from: DEMO_MME_LINEAR_LEARNER/multi_model_artifacts/NewYork_NY/NewYork_NY.tar.gz\n",
      "     to: DEMO_MME_LINEAR_LEARNER/multi_model_artifacts/NewYork_NY/146_NewYork_NY.tar.gz...\n",
      "Copying NewYork_NY model\n",
      "   from: DEMO_MME_LINEAR_LEARNER/multi_model_artifacts/NewYork_NY/NewYork_NY.tar.gz\n",
      "     to: DEMO_MME_LINEAR_LEARNER/multi_model_artifacts/NewYork_NY/147_NewYork_NY.tar.gz...\n",
      "Copying NewYork_NY model\n",
      "   from: DEMO_MME_LINEAR_LEARNER/multi_model_artifacts/NewYork_NY/NewYork_NY.tar.gz\n",
      "     to: DEMO_MME_LINEAR_LEARNER/multi_model_artifacts/NewYork_NY/148_NewYork_NY.tar.gz...\n",
      "Copying NewYork_NY model\n",
      "   from: DEMO_MME_LINEAR_LEARNER/multi_model_artifacts/NewYork_NY/NewYork_NY.tar.gz\n",
      "     to: DEMO_MME_LINEAR_LEARNER/multi_model_artifacts/NewYork_NY/149_NewYork_NY.tar.gz...\n",
      "Copying NewYork_NY model\n",
      "   from: DEMO_MME_LINEAR_LEARNER/multi_model_artifacts/NewYork_NY/NewYork_NY.tar.gz\n",
      "     to: DEMO_MME_LINEAR_LEARNER/multi_model_artifacts/NewYork_NY/150_NewYork_NY.tar.gz...\n",
      "Copying NewYork_NY model\n",
      "   from: DEMO_MME_LINEAR_LEARNER/multi_model_artifacts/NewYork_NY/NewYork_NY.tar.gz\n",
      "     to: DEMO_MME_LINEAR_LEARNER/multi_model_artifacts/NewYork_NY/151_NewYork_NY.tar.gz...\n",
      "Copying NewYork_NY model\n",
      "   from: DEMO_MME_LINEAR_LEARNER/multi_model_artifacts/NewYork_NY/NewYork_NY.tar.gz\n",
      "     to: DEMO_MME_LINEAR_LEARNER/multi_model_artifacts/NewYork_NY/152_NewYork_NY.tar.gz...\n",
      "Copying NewYork_NY model\n",
      "   from: DEMO_MME_LINEAR_LEARNER/multi_model_artifacts/NewYork_NY/NewYork_NY.tar.gz\n",
      "     to: DEMO_MME_LINEAR_LEARNER/multi_model_artifacts/NewYork_NY/153_NewYork_NY.tar.gz...\n",
      "Copying NewYork_NY model\n",
      "   from: DEMO_MME_LINEAR_LEARNER/multi_model_artifacts/NewYork_NY/NewYork_NY.tar.gz\n",
      "     to: DEMO_MME_LINEAR_LEARNER/multi_model_artifacts/NewYork_NY/154_NewYork_NY.tar.gz...\n",
      "Copying NewYork_NY model\n",
      "   from: DEMO_MME_LINEAR_LEARNER/multi_model_artifacts/NewYork_NY/NewYork_NY.tar.gz\n",
      "     to: DEMO_MME_LINEAR_LEARNER/multi_model_artifacts/NewYork_NY/155_NewYork_NY.tar.gz...\n",
      "Copying NewYork_NY model\n",
      "   from: DEMO_MME_LINEAR_LEARNER/multi_model_artifacts/NewYork_NY/NewYork_NY.tar.gz\n",
      "     to: DEMO_MME_LINEAR_LEARNER/multi_model_artifacts/NewYork_NY/156_NewYork_NY.tar.gz...\n",
      "Copying NewYork_NY model\n",
      "   from: DEMO_MME_LINEAR_LEARNER/multi_model_artifacts/NewYork_NY/NewYork_NY.tar.gz\n",
      "     to: DEMO_MME_LINEAR_LEARNER/multi_model_artifacts/NewYork_NY/157_NewYork_NY.tar.gz...\n",
      "Copying NewYork_NY model\n",
      "   from: DEMO_MME_LINEAR_LEARNER/multi_model_artifacts/NewYork_NY/NewYork_NY.tar.gz\n",
      "     to: DEMO_MME_LINEAR_LEARNER/multi_model_artifacts/NewYork_NY/158_NewYork_NY.tar.gz...\n",
      "Copying NewYork_NY model\n",
      "   from: DEMO_MME_LINEAR_LEARNER/multi_model_artifacts/NewYork_NY/NewYork_NY.tar.gz\n",
      "     to: DEMO_MME_LINEAR_LEARNER/multi_model_artifacts/NewYork_NY/159_NewYork_NY.tar.gz...\n",
      "Copying NewYork_NY model\n",
      "   from: DEMO_MME_LINEAR_LEARNER/multi_model_artifacts/NewYork_NY/NewYork_NY.tar.gz\n",
      "     to: DEMO_MME_LINEAR_LEARNER/multi_model_artifacts/NewYork_NY/160_NewYork_NY.tar.gz...\n",
      "Copying NewYork_NY model\n",
      "   from: DEMO_MME_LINEAR_LEARNER/multi_model_artifacts/NewYork_NY/NewYork_NY.tar.gz\n",
      "     to: DEMO_MME_LINEAR_LEARNER/multi_model_artifacts/NewYork_NY/161_NewYork_NY.tar.gz...\n",
      "Copying NewYork_NY model\n",
      "   from: DEMO_MME_LINEAR_LEARNER/multi_model_artifacts/NewYork_NY/NewYork_NY.tar.gz\n",
      "     to: DEMO_MME_LINEAR_LEARNER/multi_model_artifacts/NewYork_NY/162_NewYork_NY.tar.gz...\n",
      "Copying NewYork_NY model\n",
      "   from: DEMO_MME_LINEAR_LEARNER/multi_model_artifacts/NewYork_NY/NewYork_NY.tar.gz\n",
      "     to: DEMO_MME_LINEAR_LEARNER/multi_model_artifacts/NewYork_NY/163_NewYork_NY.tar.gz...\n",
      "Copying NewYork_NY model\n",
      "   from: DEMO_MME_LINEAR_LEARNER/multi_model_artifacts/NewYork_NY/NewYork_NY.tar.gz\n",
      "     to: DEMO_MME_LINEAR_LEARNER/multi_model_artifacts/NewYork_NY/164_NewYork_NY.tar.gz...\n",
      "Copying NewYork_NY model\n",
      "   from: DEMO_MME_LINEAR_LEARNER/multi_model_artifacts/NewYork_NY/NewYork_NY.tar.gz\n",
      "     to: DEMO_MME_LINEAR_LEARNER/multi_model_artifacts/NewYork_NY/165_NewYork_NY.tar.gz...\n",
      "Copying NewYork_NY model\n",
      "   from: DEMO_MME_LINEAR_LEARNER/multi_model_artifacts/NewYork_NY/NewYork_NY.tar.gz\n",
      "     to: DEMO_MME_LINEAR_LEARNER/multi_model_artifacts/NewYork_NY/166_NewYork_NY.tar.gz...\n",
      "Copying NewYork_NY model\n",
      "   from: DEMO_MME_LINEAR_LEARNER/multi_model_artifacts/NewYork_NY/NewYork_NY.tar.gz\n",
      "     to: DEMO_MME_LINEAR_LEARNER/multi_model_artifacts/NewYork_NY/167_NewYork_NY.tar.gz...\n",
      "Copying NewYork_NY model\n",
      "   from: DEMO_MME_LINEAR_LEARNER/multi_model_artifacts/NewYork_NY/NewYork_NY.tar.gz\n",
      "     to: DEMO_MME_LINEAR_LEARNER/multi_model_artifacts/NewYork_NY/168_NewYork_NY.tar.gz...\n",
      "Copying NewYork_NY model\n",
      "   from: DEMO_MME_LINEAR_LEARNER/multi_model_artifacts/NewYork_NY/NewYork_NY.tar.gz\n",
      "     to: DEMO_MME_LINEAR_LEARNER/multi_model_artifacts/NewYork_NY/169_NewYork_NY.tar.gz...\n",
      "Copying NewYork_NY model\n",
      "   from: DEMO_MME_LINEAR_LEARNER/multi_model_artifacts/NewYork_NY/NewYork_NY.tar.gz\n",
      "     to: DEMO_MME_LINEAR_LEARNER/multi_model_artifacts/NewYork_NY/170_NewYork_NY.tar.gz...\n",
      "Copying NewYork_NY model\n",
      "   from: DEMO_MME_LINEAR_LEARNER/multi_model_artifacts/NewYork_NY/NewYork_NY.tar.gz\n",
      "     to: DEMO_MME_LINEAR_LEARNER/multi_model_artifacts/NewYork_NY/171_NewYork_NY.tar.gz...\n",
      "Copying NewYork_NY model\n",
      "   from: DEMO_MME_LINEAR_LEARNER/multi_model_artifacts/NewYork_NY/NewYork_NY.tar.gz\n",
      "     to: DEMO_MME_LINEAR_LEARNER/multi_model_artifacts/NewYork_NY/172_NewYork_NY.tar.gz...\n",
      "Copying NewYork_NY model\n",
      "   from: DEMO_MME_LINEAR_LEARNER/multi_model_artifacts/NewYork_NY/NewYork_NY.tar.gz\n",
      "     to: DEMO_MME_LINEAR_LEARNER/multi_model_artifacts/NewYork_NY/173_NewYork_NY.tar.gz...\n",
      "Copying NewYork_NY model\n",
      "   from: DEMO_MME_LINEAR_LEARNER/multi_model_artifacts/NewYork_NY/NewYork_NY.tar.gz\n",
      "     to: DEMO_MME_LINEAR_LEARNER/multi_model_artifacts/NewYork_NY/174_NewYork_NY.tar.gz...\n",
      "Copying NewYork_NY model\n",
      "   from: DEMO_MME_LINEAR_LEARNER/multi_model_artifacts/NewYork_NY/NewYork_NY.tar.gz\n",
      "     to: DEMO_MME_LINEAR_LEARNER/multi_model_artifacts/NewYork_NY/175_NewYork_NY.tar.gz...\n",
      "Copying NewYork_NY model\n",
      "   from: DEMO_MME_LINEAR_LEARNER/multi_model_artifacts/NewYork_NY/NewYork_NY.tar.gz\n",
      "     to: DEMO_MME_LINEAR_LEARNER/multi_model_artifacts/NewYork_NY/176_NewYork_NY.tar.gz...\n",
      "Copying NewYork_NY model\n",
      "   from: DEMO_MME_LINEAR_LEARNER/multi_model_artifacts/NewYork_NY/NewYork_NY.tar.gz\n",
      "     to: DEMO_MME_LINEAR_LEARNER/multi_model_artifacts/NewYork_NY/177_NewYork_NY.tar.gz...\n",
      "Copying NewYork_NY model\n",
      "   from: DEMO_MME_LINEAR_LEARNER/multi_model_artifacts/NewYork_NY/NewYork_NY.tar.gz\n",
      "     to: DEMO_MME_LINEAR_LEARNER/multi_model_artifacts/NewYork_NY/178_NewYork_NY.tar.gz...\n",
      "Copying NewYork_NY model\n",
      "   from: DEMO_MME_LINEAR_LEARNER/multi_model_artifacts/NewYork_NY/NewYork_NY.tar.gz\n",
      "     to: DEMO_MME_LINEAR_LEARNER/multi_model_artifacts/NewYork_NY/179_NewYork_NY.tar.gz...\n",
      "Copying NewYork_NY model\n",
      "   from: DEMO_MME_LINEAR_LEARNER/multi_model_artifacts/NewYork_NY/NewYork_NY.tar.gz\n",
      "     to: DEMO_MME_LINEAR_LEARNER/multi_model_artifacts/NewYork_NY/180_NewYork_NY.tar.gz...\n",
      "Copying NewYork_NY model\n",
      "   from: DEMO_MME_LINEAR_LEARNER/multi_model_artifacts/NewYork_NY/NewYork_NY.tar.gz\n",
      "     to: DEMO_MME_LINEAR_LEARNER/multi_model_artifacts/NewYork_NY/181_NewYork_NY.tar.gz...\n",
      "Copying NewYork_NY model\n",
      "   from: DEMO_MME_LINEAR_LEARNER/multi_model_artifacts/NewYork_NY/NewYork_NY.tar.gz\n",
      "     to: DEMO_MME_LINEAR_LEARNER/multi_model_artifacts/NewYork_NY/182_NewYork_NY.tar.gz...\n",
      "Copying NewYork_NY model\n",
      "   from: DEMO_MME_LINEAR_LEARNER/multi_model_artifacts/NewYork_NY/NewYork_NY.tar.gz\n",
      "     to: DEMO_MME_LINEAR_LEARNER/multi_model_artifacts/NewYork_NY/183_NewYork_NY.tar.gz...\n",
      "Copying NewYork_NY model\n",
      "   from: DEMO_MME_LINEAR_LEARNER/multi_model_artifacts/NewYork_NY/NewYork_NY.tar.gz\n",
      "     to: DEMO_MME_LINEAR_LEARNER/multi_model_artifacts/NewYork_NY/184_NewYork_NY.tar.gz...\n",
      "Copying NewYork_NY model\n",
      "   from: DEMO_MME_LINEAR_LEARNER/multi_model_artifacts/NewYork_NY/NewYork_NY.tar.gz\n",
      "     to: DEMO_MME_LINEAR_LEARNER/multi_model_artifacts/NewYork_NY/185_NewYork_NY.tar.gz...\n",
      "Copying NewYork_NY model\n",
      "   from: DEMO_MME_LINEAR_LEARNER/multi_model_artifacts/NewYork_NY/NewYork_NY.tar.gz\n",
      "     to: DEMO_MME_LINEAR_LEARNER/multi_model_artifacts/NewYork_NY/186_NewYork_NY.tar.gz...\n",
      "Copying NewYork_NY model\n",
      "   from: DEMO_MME_LINEAR_LEARNER/multi_model_artifacts/NewYork_NY/NewYork_NY.tar.gz\n",
      "     to: DEMO_MME_LINEAR_LEARNER/multi_model_artifacts/NewYork_NY/187_NewYork_NY.tar.gz...\n",
      "Copying NewYork_NY model\n",
      "   from: DEMO_MME_LINEAR_LEARNER/multi_model_artifacts/NewYork_NY/NewYork_NY.tar.gz\n",
      "     to: DEMO_MME_LINEAR_LEARNER/multi_model_artifacts/NewYork_NY/188_NewYork_NY.tar.gz...\n",
      "Copying NewYork_NY model\n",
      "   from: DEMO_MME_LINEAR_LEARNER/multi_model_artifacts/NewYork_NY/NewYork_NY.tar.gz\n",
      "     to: DEMO_MME_LINEAR_LEARNER/multi_model_artifacts/NewYork_NY/189_NewYork_NY.tar.gz...\n",
      "Copying NewYork_NY model\n",
      "   from: DEMO_MME_LINEAR_LEARNER/multi_model_artifacts/NewYork_NY/NewYork_NY.tar.gz\n",
      "     to: DEMO_MME_LINEAR_LEARNER/multi_model_artifacts/NewYork_NY/190_NewYork_NY.tar.gz...\n",
      "Copying NewYork_NY model\n",
      "   from: DEMO_MME_LINEAR_LEARNER/multi_model_artifacts/NewYork_NY/NewYork_NY.tar.gz\n",
      "     to: DEMO_MME_LINEAR_LEARNER/multi_model_artifacts/NewYork_NY/191_NewYork_NY.tar.gz...\n",
      "Copying NewYork_NY model\n",
      "   from: DEMO_MME_LINEAR_LEARNER/multi_model_artifacts/NewYork_NY/NewYork_NY.tar.gz\n",
      "     to: DEMO_MME_LINEAR_LEARNER/multi_model_artifacts/NewYork_NY/192_NewYork_NY.tar.gz...\n",
      "Copying NewYork_NY model\n",
      "   from: DEMO_MME_LINEAR_LEARNER/multi_model_artifacts/NewYork_NY/NewYork_NY.tar.gz\n",
      "     to: DEMO_MME_LINEAR_LEARNER/multi_model_artifacts/NewYork_NY/193_NewYork_NY.tar.gz...\n",
      "Copying NewYork_NY model\n",
      "   from: DEMO_MME_LINEAR_LEARNER/multi_model_artifacts/NewYork_NY/NewYork_NY.tar.gz\n",
      "     to: DEMO_MME_LINEAR_LEARNER/multi_model_artifacts/NewYork_NY/194_NewYork_NY.tar.gz...\n",
      "Copying NewYork_NY model\n",
      "   from: DEMO_MME_LINEAR_LEARNER/multi_model_artifacts/NewYork_NY/NewYork_NY.tar.gz\n",
      "     to: DEMO_MME_LINEAR_LEARNER/multi_model_artifacts/NewYork_NY/195_NewYork_NY.tar.gz...\n",
      "Copying NewYork_NY model\n",
      "   from: DEMO_MME_LINEAR_LEARNER/multi_model_artifacts/NewYork_NY/NewYork_NY.tar.gz\n",
      "     to: DEMO_MME_LINEAR_LEARNER/multi_model_artifacts/NewYork_NY/196_NewYork_NY.tar.gz...\n",
      "Copying NewYork_NY model\n",
      "   from: DEMO_MME_LINEAR_LEARNER/multi_model_artifacts/NewYork_NY/NewYork_NY.tar.gz\n",
      "     to: DEMO_MME_LINEAR_LEARNER/multi_model_artifacts/NewYork_NY/197_NewYork_NY.tar.gz...\n",
      "Copying NewYork_NY model\n",
      "   from: DEMO_MME_LINEAR_LEARNER/multi_model_artifacts/NewYork_NY/NewYork_NY.tar.gz\n",
      "     to: DEMO_MME_LINEAR_LEARNER/multi_model_artifacts/NewYork_NY/198_NewYork_NY.tar.gz...\n",
      "Copying NewYork_NY model\n",
      "   from: DEMO_MME_LINEAR_LEARNER/multi_model_artifacts/NewYork_NY/NewYork_NY.tar.gz\n",
      "     to: DEMO_MME_LINEAR_LEARNER/multi_model_artifacts/NewYork_NY/199_NewYork_NY.tar.gz...\n"
     ]
    }
   ],
   "source": [
    "##Create 200 copies of the original model and save with different names.\n",
    "copy_additional_artifacts_to_mme(200)"
   ]
  },
  {
   "cell_type": "code",
   "execution_count": 75,
   "metadata": {},
   "outputs": [],
   "source": [
    "##Invoke multiple models in a loop\n",
    "def invoke_multiple_models_mme(model_range_low, model_range_high):\n",
    "    for i in range(model_range_low, model_range_high):\n",
    "        new_model_name=\"{}_{}\".format(i, model_name)\n",
    "        full_model_name = '{}/{}.tar.gz'.format(model_name, new_model_name)\n",
    "        predict_one_house_value(gen_random_house()[:-1], full_model_name, predictor)\n"
   ]
  },
  {
   "cell_type": "code",
   "execution_count": 84,
   "metadata": {
    "tags": []
   },
   "outputs": [
    {
     "name": "stdout",
     "output_type": "stream",
     "text": [
      "Using model Houston_TX/10_Houston_TX.tar.gz to predict price of this house: [1998, 5018.428314925186, 5, 1.0, 0.99, 0, 'n', 'y']\n"
     ]
    },
    {
     "ename": "ValidationError",
     "evalue": "An error occurred (ValidationError) when calling the InvokeEndpoint operation: Failed to download model data(bucket: sagemaker-us-east-1-333262794411, key: DEMO_MME_LINEAR_LEARNER/multi_model_artifacts/Houston_TX/10_Houston_TX.tar.gz). Please ensure that there is an object located at the URL and that the role passed to CreateModel has permissions to download the model.\n",
     "output_type": "error",
     "traceback": [
      "\u001b[0;31m---------------------------------------------------------------------------\u001b[0m",
      "\u001b[0;31mValidationError\u001b[0m                           Traceback (most recent call last)",
      "\u001b[0;32m/tmp/ipykernel_1240/593180334.py\u001b[0m in \u001b[0;36m<cell line: 3>\u001b[0;34m()\u001b[0m\n\u001b[1;32m      1\u001b[0m \u001b[0;31m##Starting with no models loaded into the container\u001b[0m\u001b[0;34m\u001b[0m\u001b[0;34m\u001b[0m\u001b[0;34m\u001b[0m\u001b[0m\n\u001b[1;32m      2\u001b[0m \u001b[0;31m##Invoke the first 100 models\u001b[0m\u001b[0;34m\u001b[0m\u001b[0;34m\u001b[0m\u001b[0;34m\u001b[0m\u001b[0m\n\u001b[0;32m----> 3\u001b[0;31m \u001b[0minvoke_multiple_models_mme\u001b[0m\u001b[0;34m(\u001b[0m\u001b[0;36m10\u001b[0m\u001b[0;34m,\u001b[0m \u001b[0;36m19\u001b[0m\u001b[0;34m)\u001b[0m\u001b[0;34m\u001b[0m\u001b[0;34m\u001b[0m\u001b[0m\n\u001b[0m",
      "\u001b[0;32m/tmp/ipykernel_1240/3649294233.py\u001b[0m in \u001b[0;36minvoke_multiple_models_mme\u001b[0;34m(model_range_low, model_range_high)\u001b[0m\n\u001b[1;32m      4\u001b[0m         \u001b[0mnew_model_name\u001b[0m\u001b[0;34m=\u001b[0m\u001b[0;34m\"{}_{}\"\u001b[0m\u001b[0;34m.\u001b[0m\u001b[0mformat\u001b[0m\u001b[0;34m(\u001b[0m\u001b[0mi\u001b[0m\u001b[0;34m,\u001b[0m \u001b[0mmodel_name\u001b[0m\u001b[0;34m)\u001b[0m\u001b[0;34m\u001b[0m\u001b[0;34m\u001b[0m\u001b[0m\n\u001b[1;32m      5\u001b[0m         \u001b[0mfull_model_name\u001b[0m \u001b[0;34m=\u001b[0m \u001b[0;34m'{}/{}.tar.gz'\u001b[0m\u001b[0;34m.\u001b[0m\u001b[0mformat\u001b[0m\u001b[0;34m(\u001b[0m\u001b[0mmodel_name\u001b[0m\u001b[0;34m,\u001b[0m \u001b[0mnew_model_name\u001b[0m\u001b[0;34m)\u001b[0m\u001b[0;34m\u001b[0m\u001b[0;34m\u001b[0m\u001b[0m\n\u001b[0;32m----> 6\u001b[0;31m         \u001b[0mpredict_one_house_value\u001b[0m\u001b[0;34m(\u001b[0m\u001b[0mgen_random_house\u001b[0m\u001b[0;34m(\u001b[0m\u001b[0;34m)\u001b[0m\u001b[0;34m[\u001b[0m\u001b[0;34m:\u001b[0m\u001b[0;34m-\u001b[0m\u001b[0;36m1\u001b[0m\u001b[0;34m]\u001b[0m\u001b[0;34m,\u001b[0m \u001b[0mfull_model_name\u001b[0m\u001b[0;34m,\u001b[0m \u001b[0mpredictor\u001b[0m\u001b[0;34m)\u001b[0m\u001b[0;34m\u001b[0m\u001b[0;34m\u001b[0m\u001b[0m\n\u001b[0m",
      "\u001b[0;32m/tmp/ipykernel_1240/4068157177.py\u001b[0m in \u001b[0;36mpredict_one_house_value\u001b[0;34m(features, model_name, predictor_to_use)\u001b[0m\n\u001b[1;32m      5\u001b[0m     \u001b[0mstart_time\u001b[0m \u001b[0;34m=\u001b[0m \u001b[0mtime\u001b[0m\u001b[0;34m.\u001b[0m\u001b[0mtime\u001b[0m\u001b[0;34m(\u001b[0m\u001b[0;34m)\u001b[0m\u001b[0;34m\u001b[0m\u001b[0;34m\u001b[0m\u001b[0m\n\u001b[1;32m      6\u001b[0m \u001b[0;34m\u001b[0m\u001b[0m\n\u001b[0;32m----> 7\u001b[0;31m     \u001b[0mresponse\u001b[0m \u001b[0;34m=\u001b[0m \u001b[0mpredictor_to_use\u001b[0m\u001b[0;34m.\u001b[0m\u001b[0mpredict\u001b[0m\u001b[0;34m(\u001b[0m\u001b[0mfeatures\u001b[0m\u001b[0;34m,\u001b[0m \u001b[0mtarget_model\u001b[0m\u001b[0;34m=\u001b[0m\u001b[0mmodel_name\u001b[0m\u001b[0;34m)\u001b[0m\u001b[0;34m\u001b[0m\u001b[0;34m\u001b[0m\u001b[0m\n\u001b[0m\u001b[1;32m      8\u001b[0m \u001b[0;34m\u001b[0m\u001b[0m\n\u001b[1;32m      9\u001b[0m     \u001b[0mresponse_json\u001b[0m \u001b[0;34m=\u001b[0m \u001b[0mjson\u001b[0m\u001b[0;34m.\u001b[0m\u001b[0mloads\u001b[0m\u001b[0;34m(\u001b[0m\u001b[0mresponse\u001b[0m\u001b[0;34m)\u001b[0m\u001b[0;34m\u001b[0m\u001b[0;34m\u001b[0m\u001b[0m\n",
      "\u001b[0;32m~/anaconda3/envs/python3/lib/python3.8/site-packages/sagemaker/predictor.py\u001b[0m in \u001b[0;36mpredict\u001b[0;34m(self, data, initial_args, target_model, target_variant, inference_id)\u001b[0m\n\u001b[1;32m    159\u001b[0m             \u001b[0mdata\u001b[0m\u001b[0;34m,\u001b[0m \u001b[0minitial_args\u001b[0m\u001b[0;34m,\u001b[0m \u001b[0mtarget_model\u001b[0m\u001b[0;34m,\u001b[0m \u001b[0mtarget_variant\u001b[0m\u001b[0;34m,\u001b[0m \u001b[0minference_id\u001b[0m\u001b[0;34m\u001b[0m\u001b[0;34m\u001b[0m\u001b[0m\n\u001b[1;32m    160\u001b[0m         )\n\u001b[0;32m--> 161\u001b[0;31m         \u001b[0mresponse\u001b[0m \u001b[0;34m=\u001b[0m \u001b[0mself\u001b[0m\u001b[0;34m.\u001b[0m\u001b[0msagemaker_session\u001b[0m\u001b[0;34m.\u001b[0m\u001b[0msagemaker_runtime_client\u001b[0m\u001b[0;34m.\u001b[0m\u001b[0minvoke_endpoint\u001b[0m\u001b[0;34m(\u001b[0m\u001b[0;34m**\u001b[0m\u001b[0mrequest_args\u001b[0m\u001b[0;34m)\u001b[0m\u001b[0;34m\u001b[0m\u001b[0;34m\u001b[0m\u001b[0m\n\u001b[0m\u001b[1;32m    162\u001b[0m         \u001b[0;32mreturn\u001b[0m \u001b[0mself\u001b[0m\u001b[0;34m.\u001b[0m\u001b[0m_handle_response\u001b[0m\u001b[0;34m(\u001b[0m\u001b[0mresponse\u001b[0m\u001b[0;34m)\u001b[0m\u001b[0;34m\u001b[0m\u001b[0;34m\u001b[0m\u001b[0m\n\u001b[1;32m    163\u001b[0m \u001b[0;34m\u001b[0m\u001b[0m\n",
      "\u001b[0;32m~/anaconda3/envs/python3/lib/python3.8/site-packages/botocore/client.py\u001b[0m in \u001b[0;36m_api_call\u001b[0;34m(self, *args, **kwargs)\u001b[0m\n\u001b[1;32m    393\u001b[0m                     \"%s() only accepts keyword arguments.\" % py_operation_name)\n\u001b[1;32m    394\u001b[0m             \u001b[0;31m# The \"self\" in this scope is referring to the BaseClient.\u001b[0m\u001b[0;34m\u001b[0m\u001b[0;34m\u001b[0m\u001b[0;34m\u001b[0m\u001b[0m\n\u001b[0;32m--> 395\u001b[0;31m             \u001b[0;32mreturn\u001b[0m \u001b[0mself\u001b[0m\u001b[0;34m.\u001b[0m\u001b[0m_make_api_call\u001b[0m\u001b[0;34m(\u001b[0m\u001b[0moperation_name\u001b[0m\u001b[0;34m,\u001b[0m \u001b[0mkwargs\u001b[0m\u001b[0;34m)\u001b[0m\u001b[0;34m\u001b[0m\u001b[0;34m\u001b[0m\u001b[0m\n\u001b[0m\u001b[1;32m    396\u001b[0m \u001b[0;34m\u001b[0m\u001b[0m\n\u001b[1;32m    397\u001b[0m         \u001b[0m_api_call\u001b[0m\u001b[0;34m.\u001b[0m\u001b[0m__name__\u001b[0m \u001b[0;34m=\u001b[0m \u001b[0mstr\u001b[0m\u001b[0;34m(\u001b[0m\u001b[0mpy_operation_name\u001b[0m\u001b[0;34m)\u001b[0m\u001b[0;34m\u001b[0m\u001b[0;34m\u001b[0m\u001b[0m\n",
      "\u001b[0;32m~/anaconda3/envs/python3/lib/python3.8/site-packages/botocore/client.py\u001b[0m in \u001b[0;36m_make_api_call\u001b[0;34m(self, operation_name, api_params)\u001b[0m\n\u001b[1;32m    723\u001b[0m             \u001b[0merror_code\u001b[0m \u001b[0;34m=\u001b[0m \u001b[0mparsed_response\u001b[0m\u001b[0;34m.\u001b[0m\u001b[0mget\u001b[0m\u001b[0;34m(\u001b[0m\u001b[0;34m\"Error\"\u001b[0m\u001b[0;34m,\u001b[0m \u001b[0;34m{\u001b[0m\u001b[0;34m}\u001b[0m\u001b[0;34m)\u001b[0m\u001b[0;34m.\u001b[0m\u001b[0mget\u001b[0m\u001b[0;34m(\u001b[0m\u001b[0;34m\"Code\"\u001b[0m\u001b[0;34m)\u001b[0m\u001b[0;34m\u001b[0m\u001b[0;34m\u001b[0m\u001b[0m\n\u001b[1;32m    724\u001b[0m             \u001b[0merror_class\u001b[0m \u001b[0;34m=\u001b[0m \u001b[0mself\u001b[0m\u001b[0;34m.\u001b[0m\u001b[0mexceptions\u001b[0m\u001b[0;34m.\u001b[0m\u001b[0mfrom_code\u001b[0m\u001b[0;34m(\u001b[0m\u001b[0merror_code\u001b[0m\u001b[0;34m)\u001b[0m\u001b[0;34m\u001b[0m\u001b[0;34m\u001b[0m\u001b[0m\n\u001b[0;32m--> 725\u001b[0;31m             \u001b[0;32mraise\u001b[0m \u001b[0merror_class\u001b[0m\u001b[0;34m(\u001b[0m\u001b[0mparsed_response\u001b[0m\u001b[0;34m,\u001b[0m \u001b[0moperation_name\u001b[0m\u001b[0;34m)\u001b[0m\u001b[0;34m\u001b[0m\u001b[0;34m\u001b[0m\u001b[0m\n\u001b[0m\u001b[1;32m    726\u001b[0m         \u001b[0;32melse\u001b[0m\u001b[0;34m:\u001b[0m\u001b[0;34m\u001b[0m\u001b[0;34m\u001b[0m\u001b[0m\n\u001b[1;32m    727\u001b[0m             \u001b[0;32mreturn\u001b[0m \u001b[0mparsed_response\u001b[0m\u001b[0;34m\u001b[0m\u001b[0;34m\u001b[0m\u001b[0m\n",
      "\u001b[0;31mValidationError\u001b[0m: An error occurred (ValidationError) when calling the InvokeEndpoint operation: Failed to download model data(bucket: sagemaker-us-east-1-333262794411, key: DEMO_MME_LINEAR_LEARNER/multi_model_artifacts/Houston_TX/10_Houston_TX.tar.gz). Please ensure that there is an object located at the URL and that the role passed to CreateModel has permissions to download the model.\n"
     ]
    }
   ],
   "source": [
    "##Starting with no models loaded into the container\n",
    "##Invoke the first 100 models\n",
    "invoke_multiple_models_mme(10, 19)"
   ]
  },
  {
   "cell_type": "code",
   "execution_count": 66,
   "metadata": {},
   "outputs": [],
   "source": [
    "##Invoke multiple models in a loop\n",
    "def loadtest_multiple_models_mme(model_range_low, model_range_high):\n",
    "    features = gen_random_house()[:-1]\n",
    "    for i in range(model_range_low, model_range_high):\n",
    "        new_model_name=\"{}_{}\".format(i, model_name)\n",
    "        full_model_name = '{}/{}.tar.gz'.format(model_name, new_model_name)\n",
    "        body = ','.join(map(str, features)) + '\\n'\n",
    "        response = predictor.predict(body, target_model=full_model_name)\n",
    "    \n",
    "        response_json = json.loads(response)\n",
    "        \n",
    "        predicted_value = response_json['predictions'][0]['score']    "
   ]
  },
  {
   "cell_type": "code",
   "execution_count": 67,
   "metadata": {
    "tags": []
   },
   "outputs": [],
   "source": [
    "##Invoke the same 100 models again\n",
    "import time\n",
    "for i in range (0, 1):\n",
    "    loadtest_multiple_models_mme(10, 19)\n",
    "    time.sleep(0.0005)\n",
    "    "
   ]
  },
  {
   "cell_type": "code",
   "execution_count": 71,
   "metadata": {},
   "outputs": [
    {
     "name": "stdout",
     "output_type": "stream",
     "text": [
      "hello\n"
     ]
    }
   ],
   "source": [
    "print(\"hello\")"
   ]
  },
  {
   "cell_type": "code",
   "execution_count": 72,
   "metadata": {
    "tags": []
   },
   "outputs": [],
   "source": [
    "##This time invoke all 200 models to observe behavior\n",
    "##Invoke the same 100 models again\n",
    "import time\n",
    "for i in range (0, 1):\n",
    "    loadtest_multiple_models_mme(0, 200)\n",
    "    time.sleep(0.0005)"
   ]
  },
  {
   "cell_type": "markdown",
   "metadata": {
    "tags": []
   },
   "source": [
    "#### CloudWatch charts for LoadedModelCount,MemoryUtilization and ModelCacheHit metrics will be similar to charts below.\n",
    "\n",
    "![](cw_charts/MME_MCE_LoadedModel.png)\n",
    "\n",
    "![](./cw_charts/MCE-Consistent-time.png)\n",
    "\n",
    "“LoadedModelCount” continuously increases, as more models are invoked, till it levels off at 87.  “MemoryUtilization” of the container also increased correspondingly to around 79%.  This shows that the instance chosen to host the endpoint, could only maintain 87 models in memory, when 200 model invocations are made.  \n",
    "\n",
    "![](cw_charts/MCE-MME-CacheHitDown.png)\n",
    "\n",
    "As the number of models loaded to the container memory increase, the ModelCacheHit improves.  When the same 100 models are invoked the second time, the ModelCacheHit reaches 1.  When new models, not yet loaded are invoked the ModelCacheHit decreases again. "
   ]
  },
  {
   "cell_type": "markdown",
   "metadata": {},
   "source": [
    "## Section 9 - Explore granular access to the target models of MME <a id='Finegrain-control-invoke-models'></a>\n",
    "\n",
    "If the role attached to this notebook instance allows invoking SageMaker endpoints, it is able to invoke all models hosted on the MME.  Using IAM conditional keys, you can restrict this model invocation access to specific models.  To explore this, you will create a new IAM role and IAM policy with conditional key to restrict access to a single model.  Assume this new role and verify that only a single target model can be invoked.\n",
    "\n",
    "Note that to execute this section, the role attached to the notebook instance should allow the following actions :\n",
    "    \"iam:CreateRole\",\n",
    "    \"iam:CreatePolicy\",\n",
    "    \"iam:AttachRolePolicy\",\n",
    "    \"iam:UpdateAssumeRolePolicy\"\n",
    "    \n",
    "If this is not the case, please work with the Administrator of this AWS account to ensure this.  "
   ]
  },
  {
   "cell_type": "code",
   "execution_count": null,
   "metadata": {},
   "outputs": [],
   "source": [
    "iam_client = boto3.client('iam')"
   ]
  },
  {
   "cell_type": "code",
   "execution_count": null,
   "metadata": {},
   "outputs": [],
   "source": [
    "#Create a new role that can be assumed by this notebook.  The roles should allow access to only a single model.\n",
    "\n",
    "path='/'\n",
    "\n",
    "role_name=\"{}{}\".format('allow_invoke_ny_model_role', strftime('%Y-%m-%d-%H-%M-%S', gmtime()))\n",
    "description='Role that allows invoking a single model'\n",
    "\n",
    "action_string = \"sts:AssumeRole\"\n",
    "    \n",
    "trust_policy={\n",
    "  \"Version\": \"2012-10-17\",\n",
    "  \"Statement\": [\n",
    "    {\n",
    "      \"Sid\": \"statement1\",\n",
    "      \"Effect\": \"Allow\",\n",
    "      \"Principal\": {\n",
    "        \"AWS\": role\n",
    "      },\n",
    "      \"Action\": \"sts:AssumeRole\"\n",
    "    }\n",
    "  ]\n",
    "}"
   ]
  },
  {
   "cell_type": "code",
   "execution_count": null,
   "metadata": {},
   "outputs": [],
   "source": [
    "response = iam_client.create_role(\n",
    "    Path=path,\n",
    "    RoleName=role_name,\n",
    "    AssumeRolePolicyDocument=json.dumps(trust_policy),\n",
    "    Description=description,\n",
    "    MaxSessionDuration=3600\n",
    ")"
   ]
  },
  {
   "cell_type": "code",
   "execution_count": null,
   "metadata": {},
   "outputs": [],
   "source": [
    "role_arn=response['Role']['Arn']\n",
    "print(\"Role arn is :\", role_arn)"
   ]
  },
  {
   "cell_type": "code",
   "execution_count": null,
   "metadata": {},
   "outputs": [],
   "source": [
    "endpoint_resource_arn = \"arn:aws:sagemaker:{}:{}:endpoint/{}\".format(REGION, ACCOUNT_ID, endpoint_name)\n",
    "print(\"Endpoint arn is :\", endpoint_resource_arn)"
   ]
  },
  {
   "cell_type": "code",
   "execution_count": null,
   "metadata": {},
   "outputs": [],
   "source": [
    "##Create the IAM policy with the IAM condition key\n",
    "policy_name = \"{}{}\".format('allow_invoke_ny_model_policy', strftime('%Y-%m-%d-%H-%M-%S', gmtime()))\n",
    "managed_policy = {\n",
    "    \"Version\": \"2012-10-17\",\n",
    "    \"Statement\": [\n",
    "        {\n",
    "            \"Sid\": \"SageMakerAccess\",\n",
    "            \"Action\": \"sagemaker:InvokeEndpoint\",\n",
    "            \"Effect\": \"Allow\",\n",
    "            \"Resource\":endpoint_resource_arn,\n",
    "            \"Condition\": {\n",
    "                \"StringLike\": {\n",
    "                    \"sagemaker:TargetModel\": [\"NewYork_NY/*\"]\n",
    "                }\n",
    "            }\n",
    "        }\n",
    "    ]\n",
    "}\n",
    "\n",
    "response = iam_client.create_policy(\n",
    "  PolicyName=policy_name,\n",
    "  PolicyDocument=json.dumps(managed_policy)\n",
    ")"
   ]
  },
  {
   "cell_type": "code",
   "execution_count": null,
   "metadata": {},
   "outputs": [],
   "source": [
    "policy_arn=response['Policy']['Arn']"
   ]
  },
  {
   "cell_type": "code",
   "execution_count": null,
   "metadata": {},
   "outputs": [],
   "source": [
    "##Attach policy to role\n",
    "iam_client.attach_role_policy(\n",
    "    PolicyArn=policy_arn,\n",
    "    RoleName=role_name\n",
    ")"
   ]
  },
  {
   "cell_type": "code",
   "execution_count": null,
   "metadata": {},
   "outputs": [],
   "source": [
    "## Invoke with the role that has access to only NY model\n",
    "sts_connection = boto3.client('sts')\n",
    "assumed_role_limited_access = sts_connection.assume_role(\n",
    "    RoleArn=role_arn,\n",
    "    RoleSessionName=\"MME_Invoke_NY_Model\"\n",
    ")\n",
    "assumed_role_limited_access['AssumedRoleUser']['Arn']\n"
   ]
  },
  {
   "cell_type": "code",
   "execution_count": null,
   "metadata": {},
   "outputs": [],
   "source": [
    "trust_policy={\n",
    "  \"Version\": \"2012-10-17\",\n",
    "  \"Statement\": [\n",
    "    {\n",
    "      \"Sid\": \"statement1\",\n",
    "      \"Effect\": \"Allow\",\n",
    "      \"Principal\": {\n",
    "        \"AWS\": role\n",
    "      },\n",
    "      \"Action\": \"sts:AssumeRole\"\n",
    "    },\n",
    "    {\n",
    "      \"Sid\": \"statement2\",\n",
    "      \"Effect\": \"Allow\",\n",
    "      \"Principal\": {\n",
    "          \"AWS\": assumed_role_limited_access['AssumedRoleUser']['Arn']\n",
    "      },\n",
    "      \"Action\": \"sts:AssumeRole\"\n",
    "    }  \n",
    "  ]\n",
    "}"
   ]
  },
  {
   "cell_type": "code",
   "execution_count": null,
   "metadata": {},
   "outputs": [],
   "source": [
    "iam_client.update_assume_role_policy(\n",
    "    RoleName=role_name,\n",
    "    PolicyDocument=json.dumps(trust_policy)\n",
    ")"
   ]
  },
  {
   "cell_type": "code",
   "execution_count": null,
   "metadata": {},
   "outputs": [],
   "source": [
    "ACCESS_KEY = assumed_role_limited_access['Credentials']['AccessKeyId']\n",
    "SECRET_KEY = assumed_role_limited_access['Credentials']['SecretAccessKey']\n",
    "SESSION_TOKEN = assumed_role_limited_access['Credentials']['SessionToken']\n",
    "\n",
    "runtime_sm_client_with_assumed_role = boto3.client(\n",
    "    service_name='sagemaker-runtime', \n",
    "    aws_access_key_id=ACCESS_KEY,\n",
    "    aws_secret_access_key=SECRET_KEY,\n",
    "    aws_session_token=SESSION_TOKEN,\n",
    ")"
   ]
  },
  {
   "cell_type": "code",
   "execution_count": null,
   "metadata": {},
   "outputs": [],
   "source": [
    " sagemakerSessionAssumedRole = sagemaker.Session(sagemaker_runtime_client=runtime_sm_client_with_assumed_role)"
   ]
  },
  {
   "cell_type": "code",
   "execution_count": null,
   "metadata": {},
   "outputs": [],
   "source": [
    "predictorAssumedRole = Predictor(\n",
    "    endpoint_name=endpoint_name,\n",
    "    sagemaker_session=sagemakerSessionAssumedRole,\n",
    "    serializer=csv_serializer)"
   ]
  },
  {
   "cell_type": "code",
   "execution_count": null,
   "metadata": {},
   "outputs": [],
   "source": [
    "full_model_name = 'NewYork_NY/NewYork_NY.tar.gz'\n",
    "predict_one_house_value(gen_random_house()[:-1], full_model_name,predictorAssumedRole)"
   ]
  },
  {
   "cell_type": "code",
   "execution_count": null,
   "metadata": {
    "scrolled": true
   },
   "outputs": [],
   "source": [
    "##This should fail with \"AccessDeniedException\" since the assumed role does not have access to Chicago model\n",
    "full_model_name = 'Chicago_IL/Chicago_IL.tar.gz'\n",
    "predict_one_house_value(gen_random_house()[:-1], full_model_name,predictorAssumedRole)"
   ]
  },
  {
   "cell_type": "markdown",
   "metadata": {},
   "source": [
    "## Clean up<a id='CleanUp'></a>\n",
    "Clean up the endpoint to avoid unneccessary costs.\n",
    "\n"
   ]
  },
  {
   "cell_type": "code",
   "execution_count": null,
   "metadata": {},
   "outputs": [],
   "source": [
    "#Delete the endpoint and underlying model\n",
    "predictor.delete_model() \n",
    "predictor.delete_endpoint()\n",
    "for t in preprocessor_transformers:\n",
    "    t.delete_model()"
   ]
  },
  {
   "cell_type": "code",
   "execution_count": null,
   "metadata": {},
   "outputs": [],
   "source": [
    "#Delete the IAM Role\n",
    "iam_client.detach_role_policy(\n",
    "    PolicyArn=policy_arn,\n",
    "    RoleName=role_name\n",
    ")\n",
    "iam_client.delete_role(RoleName=role_name)"
   ]
  },
  {
   "cell_type": "code",
   "execution_count": null,
   "metadata": {},
   "outputs": [],
   "source": [
    "#Delete the IAM Policy\n",
    "iam_client.delete_policy(PolicyArn=policy_arn)"
   ]
  },
  {
   "cell_type": "code",
   "execution_count": null,
   "metadata": {},
   "outputs": [],
   "source": []
  }
 ],
 "metadata": {
  "instance_type": "ml.t3.medium",
  "kernelspec": {
   "display_name": "conda_python3",
   "language": "python",
   "name": "conda_python3"
  },
  "language_info": {
   "codemirror_mode": {
    "name": "ipython",
    "version": 3
   },
   "file_extension": ".py",
   "mimetype": "text/x-python",
   "name": "python",
   "nbconvert_exporter": "python",
   "pygments_lexer": "ipython3",
   "version": "3.8.12"
  }
 },
 "nbformat": 4,
 "nbformat_minor": 4
}
