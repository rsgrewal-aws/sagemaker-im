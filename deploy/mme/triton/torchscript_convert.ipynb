{
 "cells": [
  {
   "cell_type": "code",
   "execution_count": 1,
   "id": "e182e7f2",
   "metadata": {},
   "outputs": [],
   "source": [
    "import torch\n",
    "from pathlib import Path"
   ]
  },
  {
   "cell_type": "code",
   "execution_count": 2,
   "id": "0e89c8ae",
   "metadata": {},
   "outputs": [],
   "source": [
    "original_model_path = Path(\"od-load-test-model/1/model.pth\")"
   ]
  },
  {
   "cell_type": "code",
   "execution_count": 3,
   "id": "a8cc79fc",
   "metadata": {},
   "outputs": [],
   "source": [
    "device = torch.device('cuda' if torch.cuda.is_available() else 'cpu')"
   ]
  },
  {
   "cell_type": "code",
   "execution_count": 4,
   "id": "a7ec5c0d",
   "metadata": {},
   "outputs": [],
   "source": [
    "model = torch.load(original_model_path)\n",
    "model = model.to(device)\n",
    "model = model.eval()"
   ]
  },
  {
   "cell_type": "code",
   "execution_count": 5,
   "id": "29fb0166",
   "metadata": {},
   "outputs": [],
   "source": [
    "class JitWrapper(torch.nn.Module):\n",
    "    # Modify original model to take int8 inputs and return Tuple[Tensor] results\n",
    "    def __init__(self, model):\n",
    "        super().__init__()\n",
    "        self.model = model\n",
    "\n",
    "    def forward(self, inp):\n",
    "        \n",
    "        inp = inp.div(255)\n",
    "        \n",
    "        # this will make the jit model work with arbitrary batch sizes by splitting the input tensor along the batch axis\n",
    "        _, preds = self.model([t.squeeze() for t in torch.split(inp,1)])\n",
    "        \n",
    "        bboxes = torch.stack([pred[\"boxes\"] for pred in  preds])\n",
    "        labels = torch.stack([pred[\"labels\"] for pred in  preds])\n",
    "        scores = torch.stack([pred[\"scores\"] for pred in  preds])\n",
    "        \n",
    "        return bboxes, labels, scores"
   ]
  },
  {
   "cell_type": "code",
   "execution_count": 6,
   "id": "0cf64efc",
   "metadata": {},
   "outputs": [],
   "source": [
    "wrapped_model = JitWrapper(model)"
   ]
  },
  {
   "cell_type": "code",
   "execution_count": 7,
   "id": "05492961",
   "metadata": {},
   "outputs": [],
   "source": [
    "jit_model = torch.jit.script(wrapped_model)"
   ]
  },
  {
   "cell_type": "code",
   "execution_count": 8,
   "id": "a623e86d",
   "metadata": {},
   "outputs": [],
   "source": [
    "jit_model.save(\"resnet_fpn.pt\")"
   ]
  },
  {
   "cell_type": "code",
   "execution_count": 9,
   "id": "2169194f",
   "metadata": {},
   "outputs": [],
   "source": [
    "import tarfile\n",
    "model_name = \"resnet_fpn\"\n",
    "\n",
    "model_tar_path = Path(f\"{model_name}.tar.gz\")\n",
    "\n",
    "tar = tarfile.open(model_tar_path, \"w:gz\")\n",
    "tar.add(\"resnet_fpn.pt\", f\"1/model.pt\")\n",
    "tar.add(\"config.pbtxt\", \"config.pbtxt\")\n",
    "tar.close()"
   ]
  },
  {
   "cell_type": "code",
   "execution_count": null,
   "id": "27dbc171",
   "metadata": {},
   "outputs": [],
   "source": []
  }
 ],
 "metadata": {
  "instance_type": "ml.t3.medium",
  "kernelspec": {
   "display_name": "Python 3 (Data Science)",
   "language": "python",
   "name": "python3__SAGEMAKER_INTERNAL__arn:aws:sagemaker:eu-west-1:470317259841:image/datascience-1.0"
  },
  "language_info": {
   "codemirror_mode": {
    "name": "ipython",
    "version": 3
   },
   "file_extension": ".py",
   "mimetype": "text/x-python",
   "name": "python",
   "nbconvert_exporter": "python",
   "pygments_lexer": "ipython3",
   "version": "3.7.10"
  }
 },
 "nbformat": 4,
 "nbformat_minor": 5
}
