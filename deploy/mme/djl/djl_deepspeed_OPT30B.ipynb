{
 "cells": [
  {
   "cell_type": "markdown",
   "id": "27ca498d",
   "metadata": {},
   "source": [
    "\n",
    "### Serve large models on SageMaker with DeepSpeed Container\n",
    "\n",
    "In this notebook, we explore how to host a large language model on SageMaker using the latest container launched using from DeepSpeed.\n",
    "\n",
    "Language models have recently exploded in both size and popularity. In 2018, BERT-large entered the scene and, with its 340M parameters and novel transformer architecture, set the standard on NLP task accuracy. Within just a few years, state-of-the-art NLP model size has grown by more than 500x with models such as OpenAI’s 175 billion parameter GPT-3 and similarly sized open source Bloom 176B raising the bar on NLP accuracy. This increase in the number of parameters is driven by the simple and empirically-demonstrated positive relationship between model size and accuracy: more is better. With easy access from models zoos such as Hugging Face and improved accuracy in NLP tasks such as classification and text generation, practitioners are increasingly reaching for these large models. However, deploying them can be a challenge because of their size.\n",
    "\n",
    "Model parallelism can help deploy large models that would normally be too large for a single GPU. With model parallelism, we partition and distribute a model across multiple GPUs. Each GPU holds a different part of the model, resolving the memory capacity issue for the largest deep learning models with billions of parameters. This notebook uses tensor parallelism techniques which allow GPUs to work simultaneously on the same layer of a model and achieve low latency inference relative to a pipeline parallel solution.\n",
    "\n",
    "SageMaker has rolled out DeepSpeed container which now provides users with the ability to leverage the managed serving capabilities and help to provide the un-differentiated heavy lifting\n",
    "\n",
    "In this notebook, we deploy the open source Bloom 176B quantized model across GPU's on a ml.p4d.24xlarge instance. DeepSpeed is used for tensor parallelism inference while DJLServing handles inference requests and the distributed workers.\n"
   ]
  },
  {
   "cell_type": "code",
   "execution_count": null,
   "id": "909ae4e9",
   "metadata": {},
   "outputs": [],
   "source": [
    "# Instal boto3 library to create model and run inference workloads\n",
    "%pip install -Uqq boto3 awscli"
   ]
  },
  {
   "cell_type": "markdown",
   "id": "22224c86",
   "metadata": {},
   "source": [
    "## Setup Docker Image\n",
    "This section should be removed after DLC release"
   ]
  },
  {
   "cell_type": "code",
   "execution_count": null,
   "id": "68878f42",
   "metadata": {},
   "outputs": [],
   "source": [
    "%%sh\n",
    "docker pull deepjavalibrary/djl-serving:0.19.0-deepspeed"
   ]
  },
  {
   "cell_type": "code",
   "execution_count": null,
   "id": "31a4d84d",
   "metadata": {},
   "outputs": [],
   "source": [
    "%%bash \n",
    "# The name of our algorithm\n",
    "image_id=$(docker images | grep 0.19.0-deepspeed | tr -s \" \" | cut -d \" \" -f 3)\n",
    "echo \"image_id=${image_id}\"\n",
    "\n",
    "\n",
    "repo_name='djl-ds' # same as algorithim name\n",
    "echo \"repo_name=$repo_name\"\n",
    "\n",
    "account=$(aws sts get-caller-identity --query Account --output text)\n",
    "\n",
    "# Get the region defined in the current configuration (default to us-west-2 if none defined)\n",
    "region=$(aws configure get region)\n",
    "region=${region:-us-east-1}\n",
    "\n",
    "fullname=\"${account}.dkr.ecr.${region}.amazonaws.com/${repo_name}:latest\"\n",
    "echo \"Full_name=$fullname\"\n",
    "\n",
    "# If the repository doesn't exist in ECR, create it.\n",
    "aws ecr describe-repositories --repository-names \"${repo_name}\" > /dev/null 2>&1\n",
    "\n",
    "if [ $? -ne 0 ]\n",
    "then\n",
    "    aws ecr create-repository --repository-name \"${repo_name}\" > /dev/null\n",
    "fi\n",
    "\n",
    "# Get the login command from ECR and execute it directly\n",
    "$(aws ecr get-login --region ${region} --no-include-email)\n",
    "\n",
    "# Build the docker image locally with the image name and then push it to ECR\n",
    "# with the full name.\n",
    "image_id=$(docker images | grep 0.19.0-deepspeed | tr -s \" \" | cut -d \" \" -f 3)\n",
    "\n",
    "echo \"image_id=${image_id}\"\n",
    "\n",
    "#docker build -q -t ${algorithm_name} .\n",
    "\n",
    "docker tag $image_id ${fullname}\n",
    "#docker tag ${algorithm_name} ${fullname}\n",
    "\n",
    "docker push ${fullname}\n",
    "\n"
   ]
  },
  {
   "cell_type": "markdown",
   "id": "fd64b576",
   "metadata": {},
   "source": [
    "## Optional Section to Download Model from Hugging Face Hub\n",
    "\n",
    "Use this section of you are interested in downloading the model directly from Huggingface hub and storing in your own S3 bucket. \n",
    "\n",
    "**However this notebook currently leverages the model stored in AWS public S3 location for ease of use. So you can skip this step**\n",
    "\n",
    "The below step to download and then upload to S3 can take several minutes since the model size is extremely large"
   ]
  },
  {
   "cell_type": "code",
   "execution_count": null,
   "id": "4691d68c",
   "metadata": {},
   "outputs": [],
   "source": [
    "%pip install huggingface-hub -Uqq"
   ]
  },
  {
   "cell_type": "code",
   "execution_count": 1,
   "id": "d89e84f5",
   "metadata": {},
   "outputs": [],
   "source": [
    "from huggingface_hub import snapshot_download\n",
    "from pathlib import Path"
   ]
  },
  {
   "cell_type": "code",
   "execution_count": 2,
   "id": "3c80deaa",
   "metadata": {},
   "outputs": [],
   "source": [
    "# - This will download the model into the ./model directory where ever the jupyter file is running\n",
    "local_model_path = Path(\"./model_30b\")\n",
    "local_model_path.mkdir(exist_ok=True)\n",
    "\n",
    "#commit_hash = \"aa00a6626f6484a2eef68e06d1e089e4e32aa571\" "
   ]
  },
  {
   "cell_type": "code",
   "execution_count": 3,
   "id": "c8148ce1",
   "metadata": {},
   "outputs": [
    {
     "data": {
      "application/vnd.jupyter.widget-view+json": {
       "model_id": "7893bb5f64d74ac691613d967d0e9745",
       "version_major": 2,
       "version_minor": 0
      },
      "text/plain": [
       "Fetching 18 files:   0%|          | 0/18 [00:00<?, ?it/s]"
      ]
     },
     "metadata": {},
     "output_type": "display_data"
    },
    {
     "data": {
      "application/vnd.jupyter.widget-view+json": {
       "model_id": "fa06051a05d343a0a683e48f88202549",
       "version_major": 2,
       "version_minor": 0
      },
      "text/plain": [
       "Downloading:   0%|          | 0.00/1.17k [00:00<?, ?B/s]"
      ]
     },
     "metadata": {},
     "output_type": "display_data"
    },
    {
     "data": {
      "application/vnd.jupyter.widget-view+json": {
       "model_id": "917636c36eab40728237dfa25cd06ec4",
       "version_major": 2,
       "version_minor": 0
      },
      "text/plain": [
       "Downloading:   0%|          | 0.00/11.1k [00:00<?, ?B/s]"
      ]
     },
     "metadata": {},
     "output_type": "display_data"
    },
    {
     "data": {
      "application/vnd.jupyter.widget-view+json": {
       "model_id": "ba5c29159ed84892b625cea037a3894f",
       "version_major": 2,
       "version_minor": 0
      },
      "text/plain": [
       "Downloading:   0%|          | 0.00/10.0k [00:00<?, ?B/s]"
      ]
     },
     "metadata": {},
     "output_type": "display_data"
    },
    {
     "data": {
      "application/vnd.jupyter.widget-view+json": {
       "model_id": "086652388a7c44738b69da371ee1dea1",
       "version_major": 2,
       "version_minor": 0
      },
      "text/plain": [
       "Downloading:   0%|          | 0.00/651 [00:00<?, ?B/s]"
      ]
     },
     "metadata": {},
     "output_type": "display_data"
    },
    {
     "data": {
      "application/vnd.jupyter.widget-view+json": {
       "model_id": "5ca679058f9340acb3b5c9b4f2d7bb4f",
       "version_major": 2,
       "version_minor": 0
      },
      "text/plain": [
       "Downloading:   0%|          | 0.00/68.1k [00:00<?, ?B/s]"
      ]
     },
     "metadata": {},
     "output_type": "display_data"
    },
    {
     "data": {
      "application/vnd.jupyter.widget-view+json": {
       "model_id": "5ab3349449214e8e935ec2cf6f2d3667",
       "version_major": 2,
       "version_minor": 0
      },
      "text/plain": [
       "Downloading:   0%|          | 0.00/456k [00:00<?, ?B/s]"
      ]
     },
     "metadata": {},
     "output_type": "display_data"
    },
    {
     "data": {
      "application/vnd.jupyter.widget-view+json": {
       "model_id": "c205e797da1d4e13805a0e3004928eda",
       "version_major": 2,
       "version_minor": 0
      },
      "text/plain": [
       "Downloading:   0%|          | 0.00/9.79G [00:00<?, ?B/s]"
      ]
     },
     "metadata": {},
     "output_type": "display_data"
    },
    {
     "data": {
      "application/vnd.jupyter.widget-view+json": {
       "model_id": "2d82955e94954362a92bda49154a2ae7",
       "version_major": 2,
       "version_minor": 0
      },
      "text/plain": [
       "Downloading:   0%|          | 0.00/9.87G [00:00<?, ?B/s]"
      ]
     },
     "metadata": {},
     "output_type": "display_data"
    },
    {
     "data": {
      "application/vnd.jupyter.widget-view+json": {
       "model_id": "dbb67fb8f07f4d249da26ee3e58602c5",
       "version_major": 2,
       "version_minor": 0
      },
      "text/plain": [
       "Downloading:   0%|          | 0.00/9.87G [00:00<?, ?B/s]"
      ]
     },
     "metadata": {},
     "output_type": "display_data"
    },
    {
     "data": {
      "application/vnd.jupyter.widget-view+json": {
       "model_id": "01627a1c52ab46098243c24a1cc7e8f4",
       "version_major": 2,
       "version_minor": 0
      },
      "text/plain": [
       "Downloading:   0%|          | 0.00/9.87G [00:00<?, ?B/s]"
      ]
     },
     "metadata": {},
     "output_type": "display_data"
    },
    {
     "data": {
      "application/vnd.jupyter.widget-view+json": {
       "model_id": "62d92de16b384ab19a68a6345c559589",
       "version_major": 2,
       "version_minor": 0
      },
      "text/plain": [
       "Downloading:   0%|          | 0.00/9.87G [00:00<?, ?B/s]"
      ]
     },
     "metadata": {},
     "output_type": "display_data"
    },
    {
     "data": {
      "application/vnd.jupyter.widget-view+json": {
       "model_id": "a62e5a96c38548e6bdb1bd29e8d4000f",
       "version_major": 2,
       "version_minor": 0
      },
      "text/plain": [
       "Downloading:   0%|          | 0.00/9.87G [00:00<?, ?B/s]"
      ]
     },
     "metadata": {},
     "output_type": "display_data"
    },
    {
     "data": {
      "application/vnd.jupyter.widget-view+json": {
       "model_id": "917e5d14e15c49e0b2bddd5c00b37a93",
       "version_major": 2,
       "version_minor": 0
      },
      "text/plain": [
       "Downloading:   0%|          | 0.00/822M [00:00<?, ?B/s]"
      ]
     },
     "metadata": {},
     "output_type": "display_data"
    },
    {
     "data": {
      "application/vnd.jupyter.widget-view+json": {
       "model_id": "e389517671944449b6a0b4583eeab4b7",
       "version_major": 2,
       "version_minor": 0
      },
      "text/plain": [
       "Downloading:   0%|          | 0.00/62.8k [00:00<?, ?B/s]"
      ]
     },
     "metadata": {},
     "output_type": "display_data"
    },
    {
     "data": {
      "application/vnd.jupyter.widget-view+json": {
       "model_id": "32d64e691c544183b364107ce57a9797",
       "version_major": 2,
       "version_minor": 0
      },
      "text/plain": [
       "Downloading:   0%|          | 0.00/221 [00:00<?, ?B/s]"
      ]
     },
     "metadata": {},
     "output_type": "display_data"
    },
    {
     "data": {
      "application/vnd.jupyter.widget-view+json": {
       "model_id": "0d57086c8b3f495e9536a69503273b8e",
       "version_major": 2,
       "version_minor": 0
      },
      "text/plain": [
       "Downloading:   0%|          | 0.00/81.2k [00:00<?, ?B/s]"
      ]
     },
     "metadata": {},
     "output_type": "display_data"
    },
    {
     "data": {
      "application/vnd.jupyter.widget-view+json": {
       "model_id": "50746e0e4f694be49252961aa371d9b2",
       "version_major": 2,
       "version_minor": 0
      },
      "text/plain": [
       "Downloading:   0%|          | 0.00/685 [00:00<?, ?B/s]"
      ]
     },
     "metadata": {},
     "output_type": "display_data"
    },
    {
     "data": {
      "application/vnd.jupyter.widget-view+json": {
       "model_id": "c62bc1ee2533465ca52d2094492e4da4",
       "version_major": 2,
       "version_minor": 0
      },
      "text/plain": [
       "Downloading:   0%|          | 0.00/899k [00:00<?, ?B/s]"
      ]
     },
     "metadata": {},
     "output_type": "display_data"
    },
    {
     "data": {
      "text/plain": [
       "'model_30b/models--facebook--opt-30b/snapshots/463007d7da4e87fe962909a027811a8c0b32ede8'"
      ]
     },
     "execution_count": 3,
     "metadata": {},
     "output_type": "execute_result"
    }
   ],
   "source": [
    "# - Leverage the snapshot library to donload the model since the model is stored in repository using LFS\n",
    "from huggingface_hub import snapshot_download\n",
    "\n",
    "snapshot_download(repo_id=\"facebook/opt-30b\", ignore_patterns=[\"*.msgpack\", \"*.h5\"], cache_dir=local_model_path)"
   ]
  },
  {
   "cell_type": "markdown",
   "id": "283916c4",
   "metadata": {},
   "source": [
    "#### Upload to S3 using the awscli "
   ]
  },
  {
   "cell_type": "code",
   "execution_count": 22,
   "id": "ed62015e",
   "metadata": {},
   "outputs": [],
   "source": [
    "s3_model_prefix = \"hf-large-model-djl-opt30b/model\" # folder where model checkpoint will go\n",
    "model_snapshot_path = list(local_model_path.glob(\"**/snapshots/*\"))[0]"
   ]
  },
  {
   "cell_type": "code",
   "execution_count": 11,
   "id": "7e6aaac9",
   "metadata": {},
   "outputs": [
    {
     "name": "stdout",
     "output_type": "stream",
     "text": [
      "upload: model_30b/models--facebook--opt-30b/snapshots/463007d7da4e87fe962909a027811a8c0b32ede8/LICENSE.md to s3://sagemaker-us-east-1-622343165275/hf-large-model-djl-opt30b/model/LICENSE.md\n",
      "upload: model_30b/models--facebook--opt-30b/snapshots/463007d7da4e87fe962909a027811a8c0b32ede8/.gitattributes to s3://sagemaker-us-east-1-622343165275/hf-large-model-djl-opt30b/model/.gitattributes\n",
      "upload: model_30b/models--facebook--opt-30b/snapshots/463007d7da4e87fe962909a027811a8c0b32ede8/flax_model.msgpack.index.json to s3://sagemaker-us-east-1-622343165275/hf-large-model-djl-opt30b/model/flax_model.msgpack.index.json\n",
      "upload: model_30b/models--facebook--opt-30b/snapshots/463007d7da4e87fe962909a027811a8c0b32ede8/README.md to s3://sagemaker-us-east-1-622343165275/hf-large-model-djl-opt30b/model/README.md\n",
      "upload: model_30b/models--facebook--opt-30b/snapshots/463007d7da4e87fe962909a027811a8c0b32ede8/config.json to s3://sagemaker-us-east-1-622343165275/hf-large-model-djl-opt30b/model/config.json\n",
      "upload: model_30b/models--facebook--opt-30b/snapshots/463007d7da4e87fe962909a027811a8c0b32ede8/merges.txt to s3://sagemaker-us-east-1-622343165275/hf-large-model-djl-opt30b/model/merges.txt\n",
      "upload: model_30b/models--facebook--opt-30b/snapshots/463007d7da4e87fe962909a027811a8c0b32ede8/pytorch_model-00002-of-00007.bin to s3://sagemaker-us-east-1-622343165275/hf-large-model-djl-opt30b/model/pytorch_model-00002-of-00007.bin\n",
      "upload: model_30b/models--facebook--opt-30b/snapshots/463007d7da4e87fe962909a027811a8c0b32ede8/pytorch_model-00001-of-00007.bin to s3://sagemaker-us-east-1-622343165275/hf-large-model-djl-opt30b/model/pytorch_model-00001-of-00007.bin\n",
      "upload: model_30b/models--facebook--opt-30b/snapshots/463007d7da4e87fe962909a027811a8c0b32ede8/pytorch_model.bin.index.json to s3://sagemaker-us-east-1-622343165275/hf-large-model-djl-opt30b/model/pytorch_model.bin.index.json\n",
      "upload: model_30b/models--facebook--opt-30b/snapshots/463007d7da4e87fe962909a027811a8c0b32ede8/pytorch_model-00003-of-00007.bin to s3://sagemaker-us-east-1-622343165275/hf-large-model-djl-opt30b/model/pytorch_model-00003-of-00007.bin\n",
      "upload: model_30b/models--facebook--opt-30b/snapshots/463007d7da4e87fe962909a027811a8c0b32ede8/special_tokens_map.json to s3://sagemaker-us-east-1-622343165275/hf-large-model-djl-opt30b/model/special_tokens_map.json\n",
      "upload: model_30b/models--facebook--opt-30b/snapshots/463007d7da4e87fe962909a027811a8c0b32ede8/tokenizer_config.json to s3://sagemaker-us-east-1-622343165275/hf-large-model-djl-opt30b/model/tokenizer_config.json\n",
      "upload: model_30b/models--facebook--opt-30b/snapshots/463007d7da4e87fe962909a027811a8c0b32ede8/tf_model.h5.index.json to s3://sagemaker-us-east-1-622343165275/hf-large-model-djl-opt30b/model/tf_model.h5.index.json\n",
      "upload: model_30b/models--facebook--opt-30b/snapshots/463007d7da4e87fe962909a027811a8c0b32ede8/pytorch_model-00004-of-00007.bin to s3://sagemaker-us-east-1-622343165275/hf-large-model-djl-opt30b/model/pytorch_model-00004-of-00007.bin\n",
      "upload: model_30b/models--facebook--opt-30b/snapshots/463007d7da4e87fe962909a027811a8c0b32ede8/vocab.json to s3://sagemaker-us-east-1-622343165275/hf-large-model-djl-opt30b/model/vocab.json\n",
      "upload: model_30b/models--facebook--opt-30b/snapshots/463007d7da4e87fe962909a027811a8c0b32ede8/pytorch_model-00005-of-00007.bin to s3://sagemaker-us-east-1-622343165275/hf-large-model-djl-opt30b/model/pytorch_model-00005-of-00007.bin\n",
      "upload: model_30b/models--facebook--opt-30b/snapshots/463007d7da4e87fe962909a027811a8c0b32ede8/pytorch_model-00007-of-00007.bin to s3://sagemaker-us-east-1-622343165275/hf-large-model-djl-opt30b/model/pytorch_model-00007-of-00007.bin\n",
      "upload: model_30b/models--facebook--opt-30b/snapshots/463007d7da4e87fe962909a027811a8c0b32ede8/pytorch_model-00006-of-00007.bin to s3://sagemaker-us-east-1-622343165275/hf-large-model-djl-opt30b/model/pytorch_model-00006-of-00007.bin\n"
     ]
    }
   ],
   "source": [
    "!aws s3 cp --recursive {model_snapshot_path} s3://{bucket}/{s3_model_prefix}"
   ]
  },
  {
   "cell_type": "code",
   "execution_count": 15,
   "id": "d935f823",
   "metadata": {},
   "outputs": [
    {
     "name": "stdout",
     "output_type": "stream",
     "text": [
      "s3://sagemaker-us-east-1-622343165275/hf-large-model-djl-opt30b/model\n",
      "2022-10-28 06:41:53       1173 .gitattributes\n",
      "2022-10-28 06:41:53      11117 LICENSE.md\n",
      "2022-10-28 06:41:53      10014 README.md\n",
      "2022-10-28 06:41:53        651 config.json\n",
      "2022-10-28 06:41:53      68114 flax_model.msgpack.index.json\n",
      "2022-10-28 06:41:53     456318 merges.txt\n",
      "2022-10-28 06:41:53 9794466629 pytorch_model-00001-of-00007.bin\n",
      "2022-10-28 06:41:53 9866534401 pytorch_model-00002-of-00007.bin\n",
      "2022-10-28 06:41:53 9866534465 pytorch_model-00003-of-00007.bin\n",
      "2022-10-28 06:41:54 9866534465 pytorch_model-00004-of-00007.bin\n",
      "2022-10-28 06:41:53 9866534465 pytorch_model-00005-of-00007.bin\n",
      "2022-10-28 06:47:46 9866534465 pytorch_model-00006-of-00007.bin\n",
      "2022-10-28 06:47:54  822185815 pytorch_model-00007-of-00007.bin\n",
      "2022-10-28 06:47:58      62801 pytorch_model.bin.index.json\n",
      "2022-10-28 06:47:58        221 special_tokens_map.json\n",
      "2022-10-28 06:47:59      81232 tf_model.h5.index.json\n",
      "2022-10-28 06:47:59        685 tokenizer_config.json\n",
      "2022-10-28 06:47:59     898822 vocab.json\n"
     ]
    }
   ],
   "source": [
    "print(f's3://{bucket}/{s3_model_prefix}')\n",
    "!aws s3 ls s3://sagemaker-us-east-1-622343165275/hf-large-model-djl-opt30b/model/"
   ]
  },
  {
   "cell_type": "markdown",
   "id": "da8ec564",
   "metadata": {},
   "source": [
    "## Create SageMaker compatible Model artifact and Upload Model to S3\n",
    "\n",
    "SageMaker needs the model to be in a Tarball format. In this notebook we are going to create the model with the Inference code to shorten the end point creation time. In the Inference code we kick of a multi threaded approach to download the model weights into the container using awscli\n",
    "\n",
    "The tarball is in the following format\n",
    "\n",
    "```\n",
    "code_opt30\n",
    "├──── \n",
    "│   └── model.py\n",
    "│   └── requirements.txt\n",
    "│   └── serving.properties\n",
    "\n",
    "```\n",
    "\n",
    "The actual model is stored in S3 location and will be downloaded into the container directly when the endpoint is created. For that we will pass in 2 environment variables\n",
    "\n",
    "1.  \"MODEL_S3_BUCKET\" : Specify the S3 Bucket where the model artifact is\n",
    "2.  \"MODEL_S3_PREFIX\" : Specify the S3 prefix for where the model artifacts file are actually located\n",
    "\n",
    "This will be used in the model.py file to read in the actual model artifacts. \n",
    "\n",
    "- `model.py` is the key file which will handle any requests for serving. It is also responsible for loading the model from S3\n",
    "- `requirements.txt` has the awscli library needed to be installed when the container starts up.\n",
    "- `serving.properties` is the script that will have environment variables which can be used to customize model.py at run time.\n"
   ]
  },
  {
   "cell_type": "code",
   "execution_count": 32,
   "id": "d7844e9e",
   "metadata": {},
   "outputs": [],
   "source": [
    "import sagemaker\n",
    "from sagemaker import image_uris\n",
    "import boto3\n",
    "import os\n",
    "import time\n",
    "import json\n",
    "from pathlib import Path"
   ]
  },
  {
   "cell_type": "markdown",
   "id": "b71e258d",
   "metadata": {},
   "source": [
    "#### Create required variables and initialize them to create the endpoint, we leverage boto3 for this"
   ]
  },
  {
   "cell_type": "code",
   "execution_count": 33,
   "id": "cb1661d6",
   "metadata": {},
   "outputs": [],
   "source": [
    "role = sagemaker.get_execution_role()      # execution role for the endpoint\n",
    "sess = sagemaker.session.Session()         # sagemaker session for interacting with different AWS APIs\n",
    "bucket = sess.default_bucket()             # bucket to house artifacts\n",
    "s3_code_prefix = \"hf-large-model-djl-opt30b/code\"       # folder within bucket where code artifact will go\n",
    "s3_model_prefix = 'hf-large-model-djl-opt30b/model' # folder where model checkpoint will go\n",
    "\n",
    "region = sess._region_name\n",
    "account_id = sess.account_id()\n",
    "\n",
    "s3_client = boto3.client(\"s3\")\n",
    "sm_client = boto3.client(\"sagemaker\")\n",
    "smr_client = boto3.client(\"sagemaker-runtime\")"
   ]
  },
  {
   "cell_type": "code",
   "execution_count": 34,
   "id": "8d34c75b",
   "metadata": {},
   "outputs": [
    {
     "name": "stdout",
     "output_type": "stream",
     "text": [
      "Image going to be used is ---- > 622343165275.dkr.ecr.us-east-1.amazonaws.com/djl-ds:latest\n"
     ]
    }
   ],
   "source": [
    "inference_image_uri = f\"{account_id}.dkr.ecr.{region}.amazonaws.com/djl-ds:latest\"\n",
    "print(f\"Image going to be used is ---- > {inference_image_uri}\")\n",
    "# 622343165275.dkr.ecr.us-east-1.amazonaws.com/djl-ds:latest"
   ]
  },
  {
   "cell_type": "markdown",
   "id": "1f22af96",
   "metadata": {},
   "source": [
    "**Create the Tarball and then upload to S3 location**"
   ]
  },
  {
   "cell_type": "code",
   "execution_count": 35,
   "id": "48079986",
   "metadata": {},
   "outputs": [
    {
     "name": "stdout",
     "output_type": "stream",
     "text": [
      "code_opt30/\n",
      "code_opt30/serving.properties\n",
      "code_opt30/model.py\n",
      "code_opt30/.ipynb_checkpoints/\n",
      "code_opt30/.ipynb_checkpoints/model-checkpoint.py\n",
      "code_opt30/requirements.txt\n"
     ]
    }
   ],
   "source": [
    "!rm model.tar.gz\n",
    "!tar czvf model.tar.gz code_opt30 "
   ]
  },
  {
   "cell_type": "code",
   "execution_count": 36,
   "id": "476fc340",
   "metadata": {},
   "outputs": [
    {
     "name": "stdout",
     "output_type": "stream",
     "text": [
      "S3 Code or Model tar ball uploaded to --- > s3://sagemaker-us-east-1-622343165275/hf-large-model-djl-opt30b/code/model.tar.gz\n"
     ]
    }
   ],
   "source": [
    "s3_code_artifact = sess.upload_data(\"model.tar.gz\", bucket, s3_code_prefix)\n",
    "print(f\"S3 Code or Model tar ball uploaded to --- > {s3_code_artifact}\")"
   ]
  },
  {
   "cell_type": "code",
   "execution_count": 37,
   "id": "c8eff604",
   "metadata": {},
   "outputs": [
    {
     "name": "stdout",
     "output_type": "stream",
     "text": [
      "S3 Model Prefix where the model files are -- > hf-large-model-djl-opt30b/model\n",
      "S3 Model Bucket is -- > sagemaker-us-east-1-622343165275\n"
     ]
    }
   ],
   "source": [
    "\n",
    "print(f\"S3 Model Prefix where the model files are -- > {s3_model_prefix}\")\n",
    "print(f\"S3 Model Bucket is -- > {bucket}\")"
   ]
  },
  {
   "cell_type": "markdown",
   "id": "affebff4",
   "metadata": {},
   "source": [
    "### This is optional in case you want to use VpcConfig to specify when creating the end points\n",
    "\n",
    "For more details you can refer to this link https://docs.aws.amazon.com/sagemaker/latest/dg/host-vpc.html\n",
    "\n",
    "The below is just an example to extract information about Security Groups and Subnets needed to configure"
   ]
  },
  {
   "cell_type": "code",
   "execution_count": null,
   "id": "9513d1b2",
   "metadata": {},
   "outputs": [],
   "source": [
    "!aws ec2 describe-security-groups --filter Name=vpc-id,Values=<use vpcId> | python3 -c \"import sys, json; print(json.load(sys.stdin)['SecurityGroups'])\"\n"
   ]
  },
  {
   "cell_type": "code",
   "execution_count": null,
   "id": "f0f1e212",
   "metadata": {},
   "outputs": [],
   "source": [
    "# - provide networking configs if needed. \n",
    "security_group_ids = [] # add the security group id's\n",
    "subnets = [] # add the subnet id for this vpc\n",
    "privateVpcConfig={\n",
    "    'SecurityGroupIds': security_group_ids, \n",
    "    'Subnets': subnets\n",
    "}\n",
    "print(privateVpcConfig)\n"
   ]
  },
  {
   "cell_type": "markdown",
   "id": "ca9fa66e",
   "metadata": {},
   "source": [
    "### To create the end point the steps are:\n",
    "\n",
    "1. Create the Model using the Image container and the Model Tarball uploaded earlier\n",
    "2. Create the endpoint config using the following key parameters\n",
    "\n",
    "    a) Instance Type is ml.p4d.24xlarge \n",
    "    \n",
    "    b) ModelDataDownloadTimeoutInSeconds is 2400 which is needed to ensure the Model downloads from S3 successfully,\n",
    "    \n",
    "    c) ContainerStartupHealthCheckTimeoutInSeconds is 2400 to ensure health check starts after the model is ready\n",
    "    \n",
    "3. Create the end point using the endpoint config created    \n",
    "    "
   ]
  },
  {
   "cell_type": "code",
   "execution_count": 38,
   "id": "be5b3053",
   "metadata": {},
   "outputs": [
    {
     "name": "stdout",
     "output_type": "stream",
     "text": [
      "opt30-djl-ds-2022-10-28-19-41-23-882\n",
      "Created Model: arn:aws:sagemaker:us-east-1:622343165275:model/opt30-djl-ds-2022-10-28-19-41-23-882\n"
     ]
    }
   ],
   "source": [
    "from sagemaker.utils import name_from_base\n",
    "model_name = name_from_base(f\"opt30-djl-ds\")\n",
    "print(model_name)\n",
    "\n",
    "create_model_response = sm_client.create_model(\n",
    "    ModelName=model_name,\n",
    "    ExecutionRoleArn=role,\n",
    "    PrimaryContainer={\n",
    "        \"Image\": inference_image_uri,\n",
    "        \"ModelDataUrl\": s3_code_artifact,\n",
    "        \"Environment\": {\n",
    "            \"MODEL_S3_BUCKET\": bucket,\n",
    "            \"MODEL_S3_PREFIX\": s3_model_prefix,\n",
    "            \"TENSOR_PARALLEL_DEGREE\": \"8\"\n",
    "        },\n",
    "    },\n",
    "    # Uncomment if providing networking configs\n",
    "    #VpcConfig=privateVpcConfig\n",
    ")\n",
    "model_arn = create_model_response[\"ModelArn\"]\n",
    "\n",
    "print(f\"Created Model: {model_arn}\")"
   ]
  },
  {
   "cell_type": "code",
   "execution_count": 39,
   "id": "27f6f683",
   "metadata": {},
   "outputs": [
    {
     "data": {
      "text/plain": [
       "{'EndpointConfigArn': 'arn:aws:sagemaker:us-east-1:622343165275:endpoint-config/opt30-djl-ds-2022-10-28-19-41-23-882-config',\n",
       " 'ResponseMetadata': {'RequestId': '66b53937-07d4-4ec1-b019-d8147b36bbd4',\n",
       "  'HTTPStatusCode': 200,\n",
       "  'HTTPHeaders': {'x-amzn-requestid': '66b53937-07d4-4ec1-b019-d8147b36bbd4',\n",
       "   'content-type': 'application/x-amz-json-1.1',\n",
       "   'content-length': '124',\n",
       "   'date': 'Fri, 28 Oct 2022 19:41:36 GMT'},\n",
       "  'RetryAttempts': 0}}"
      ]
     },
     "execution_count": 39,
     "metadata": {},
     "output_type": "execute_result"
    }
   ],
   "source": [
    "endpoint_config_name = f\"{model_name}-config\"\n",
    "endpoint_name = f\"{model_name}-endpoint\"\n",
    "\n",
    "endpoint_config_response = sm_client.create_endpoint_config(\n",
    "    EndpointConfigName=endpoint_config_name,\n",
    "    ProductionVariants=[\n",
    "        {\n",
    "            \"VariantName\": \"variant1\",\n",
    "            \"ModelName\": model_name,\n",
    "            \"InstanceType\": \"ml.g5.48xlarge\", #\"ml.p4d.24xlarge\",\n",
    "            \"InitialInstanceCount\": 1,\n",
    "            # \"VolumeSizeInGB\" : 200\n",
    "            'ModelDataDownloadTimeoutInSeconds': 2400,\n",
    "            'ContainerStartupHealthCheckTimeoutInSeconds': 2400\n",
    "        },\n",
    "    ],\n",
    "     \n",
    ")\n",
    "endpoint_config_response"
   ]
  },
  {
   "cell_type": "code",
   "execution_count": 40,
   "id": "a3524b22",
   "metadata": {},
   "outputs": [
    {
     "name": "stdout",
     "output_type": "stream",
     "text": [
      "Created Endpoint: arn:aws:sagemaker:us-east-1:622343165275:endpoint/opt30-djl-ds-2022-10-28-19-41-23-882-endpoint\n"
     ]
    }
   ],
   "source": [
    "create_endpoint_response = sm_client.create_endpoint(\n",
    "    EndpointName=f\"{endpoint_name}\", EndpointConfigName=endpoint_config_name\n",
    ")\n",
    "print(f\"Created Endpoint: {create_endpoint_response['EndpointArn']}\")"
   ]
  },
  {
   "cell_type": "markdown",
   "id": "47f8f2f5",
   "metadata": {},
   "source": [
    "#### Wait for the end point to be created. This can be take couple of minutes or longer. Please be patient\n",
    "However while that happens, let us look at the critical areas of the helper files we are using to load the model\n",
    "1. We will look at the code snippets for model.py to see the model downloading mechanism\n",
    "2. Requirements.txt to see the required libraries to be loaded\n",
    "3. Serving.properties to see the environment related properties"
   ]
  },
  {
   "cell_type": "code",
   "execution_count": 27,
   "id": "ef81db1e",
   "metadata": {},
   "outputs": [
    {
     "name": "stdout",
     "output_type": "stream",
     "text": [
      "    if local_rank == 0: \n",
      "            \n",
      "        if f\"{model_dir}/DONE\" not in glob(f\"{model_dir}/*\"):\n",
      "            print(\"Starting Model downloading files\")\n",
      "            # download_files(s3_paths, model_dir)\n",
      "            subprocess.run([\"aws\", \"s3\", \"cp\", \"--recursive\", f\"s3://{bucket}/{key_prefix}\", model_dir])\n",
      "            print(\"Model downloading finished\")\n",
      "            \n",
      "            # write file when download complete. Could use dist.barrier() but this makes it easier to check if model is downloaded in case of retry \n"
     ]
    }
   ],
   "source": [
    "# This is the code snippet which is responsible to load the model from S3\n",
    "! sed -n '26,34p' code/model.py"
   ]
  },
  {
   "cell_type": "code",
   "execution_count": 28,
   "id": "a8307dcb",
   "metadata": {},
   "outputs": [
    {
     "name": "stdout",
     "output_type": "stream",
     "text": [
      "boto3\n",
      "awscli"
     ]
    }
   ],
   "source": [
    "# This is the code snippet which loads the libraries into the container needed for run\n",
    "! sed -n '1,3p' code/requirements.txt"
   ]
  },
  {
   "cell_type": "code",
   "execution_count": 29,
   "id": "82280269",
   "metadata": {},
   "outputs": [
    {
     "name": "stdout",
     "output_type": "stream",
     "text": [
      "engine=Rubikon"
     ]
    }
   ],
   "source": [
    "# This is the code snippet which shows the environment variables being used to customize runtime\n",
    "! sed -n '1,3p' code/serving.properties"
   ]
  },
  {
   "cell_type": "code",
   "execution_count": null,
   "id": "a5cbf1b6",
   "metadata": {},
   "outputs": [
    {
     "name": "stdout",
     "output_type": "stream",
     "text": [
      "Status: Creating\n",
      "Status: Creating\n",
      "Status: Creating\n",
      "Status: Creating\n",
      "Status: Creating\n",
      "Status: Creating\n",
      "Status: Creating\n",
      "Status: Creating\n",
      "Status: Creating\n",
      "Status: Creating\n",
      "Status: Creating\n",
      "Status: Creating\n",
      "Status: Creating\n",
      "Status: Creating\n",
      "Status: Creating\n",
      "Status: Creating\n",
      "Status: Creating\n",
      "Status: Creating\n",
      "Status: Creating\n",
      "Status: Creating\n",
      "Status: Creating\n",
      "Status: Creating\n",
      "Status: Creating\n",
      "Status: Creating\n",
      "Status: Creating\n",
      "Status: Creating\n",
      "Status: Creating\n"
     ]
    }
   ],
   "source": [
    "import time\n",
    "resp = sm_client.describe_endpoint(EndpointName=endpoint_name)\n",
    "status = resp['EndpointStatus']\n",
    "print(\"Status: \" + status)\n",
    "\n",
    "while status=='Creating':\n",
    "    time.sleep(60)\n",
    "    resp = sm_client.describe_endpoint(EndpointName=endpoint_name)\n",
    "    status = resp['EndpointStatus']\n",
    "    print(\"Status: \" + status)\n",
    "\n",
    "print(\"Arn: \" + resp['EndpointArn'])\n",
    "print(\"Status: \" + status)"
   ]
  },
  {
   "cell_type": "markdown",
   "id": "323f95d5",
   "metadata": {},
   "source": [
    "#### Leverage the Boto3 to invoke the endpoint. \n",
    "\n",
    "This is a generative model so we pass in a Text as a prompt and Model will complete the sentence and return the results\n"
   ]
  },
  {
   "cell_type": "code",
   "execution_count": 43,
   "id": "d0211b7f",
   "metadata": {},
   "outputs": [
    {
     "ename": "ValidationError",
     "evalue": "An error occurred (ValidationError) when calling the InvokeEndpoint operation: Endpoint opt30-djl-ds-2022-10-28-19-41-23-882-endpoint of account 622343165275 not found.",
     "output_type": "error",
     "traceback": [
      "\u001b[0;31m---------------------------------------------------------------------------\u001b[0m",
      "\u001b[0;31mValidationError\u001b[0m                           Traceback (most recent call last)",
      "\u001b[0;32m<timed eval>\u001b[0m in \u001b[0;36m<module>\u001b[0;34m\u001b[0m\n",
      "\u001b[0;32m~/anaconda3/envs/python3/lib/python3.8/site-packages/botocore/client.py\u001b[0m in \u001b[0;36m_api_call\u001b[0;34m(self, *args, **kwargs)\u001b[0m\n\u001b[1;32m    505\u001b[0m                 )\n\u001b[1;32m    506\u001b[0m             \u001b[0;31m# The \"self\" in this scope is referring to the BaseClient.\u001b[0m\u001b[0;34m\u001b[0m\u001b[0;34m\u001b[0m\u001b[0;34m\u001b[0m\u001b[0m\n\u001b[0;32m--> 507\u001b[0;31m             \u001b[0;32mreturn\u001b[0m \u001b[0mself\u001b[0m\u001b[0;34m.\u001b[0m\u001b[0m_make_api_call\u001b[0m\u001b[0;34m(\u001b[0m\u001b[0moperation_name\u001b[0m\u001b[0;34m,\u001b[0m \u001b[0mkwargs\u001b[0m\u001b[0;34m)\u001b[0m\u001b[0;34m\u001b[0m\u001b[0;34m\u001b[0m\u001b[0m\n\u001b[0m\u001b[1;32m    508\u001b[0m \u001b[0;34m\u001b[0m\u001b[0m\n\u001b[1;32m    509\u001b[0m         \u001b[0m_api_call\u001b[0m\u001b[0;34m.\u001b[0m\u001b[0m__name__\u001b[0m \u001b[0;34m=\u001b[0m \u001b[0mstr\u001b[0m\u001b[0;34m(\u001b[0m\u001b[0mpy_operation_name\u001b[0m\u001b[0;34m)\u001b[0m\u001b[0;34m\u001b[0m\u001b[0;34m\u001b[0m\u001b[0m\n",
      "\u001b[0;32m~/anaconda3/envs/python3/lib/python3.8/site-packages/botocore/client.py\u001b[0m in \u001b[0;36m_make_api_call\u001b[0;34m(self, operation_name, api_params)\u001b[0m\n\u001b[1;32m    941\u001b[0m             \u001b[0merror_code\u001b[0m \u001b[0;34m=\u001b[0m \u001b[0mparsed_response\u001b[0m\u001b[0;34m.\u001b[0m\u001b[0mget\u001b[0m\u001b[0;34m(\u001b[0m\u001b[0;34m\"Error\"\u001b[0m\u001b[0;34m,\u001b[0m \u001b[0;34m{\u001b[0m\u001b[0;34m}\u001b[0m\u001b[0;34m)\u001b[0m\u001b[0;34m.\u001b[0m\u001b[0mget\u001b[0m\u001b[0;34m(\u001b[0m\u001b[0;34m\"Code\"\u001b[0m\u001b[0;34m)\u001b[0m\u001b[0;34m\u001b[0m\u001b[0;34m\u001b[0m\u001b[0m\n\u001b[1;32m    942\u001b[0m             \u001b[0merror_class\u001b[0m \u001b[0;34m=\u001b[0m \u001b[0mself\u001b[0m\u001b[0;34m.\u001b[0m\u001b[0mexceptions\u001b[0m\u001b[0;34m.\u001b[0m\u001b[0mfrom_code\u001b[0m\u001b[0;34m(\u001b[0m\u001b[0merror_code\u001b[0m\u001b[0;34m)\u001b[0m\u001b[0;34m\u001b[0m\u001b[0;34m\u001b[0m\u001b[0m\n\u001b[0;32m--> 943\u001b[0;31m             \u001b[0;32mraise\u001b[0m \u001b[0merror_class\u001b[0m\u001b[0;34m(\u001b[0m\u001b[0mparsed_response\u001b[0m\u001b[0;34m,\u001b[0m \u001b[0moperation_name\u001b[0m\u001b[0;34m)\u001b[0m\u001b[0;34m\u001b[0m\u001b[0;34m\u001b[0m\u001b[0m\n\u001b[0m\u001b[1;32m    944\u001b[0m         \u001b[0;32melse\u001b[0m\u001b[0;34m:\u001b[0m\u001b[0;34m\u001b[0m\u001b[0;34m\u001b[0m\u001b[0m\n\u001b[1;32m    945\u001b[0m             \u001b[0;32mreturn\u001b[0m \u001b[0mparsed_response\u001b[0m\u001b[0;34m\u001b[0m\u001b[0;34m\u001b[0m\u001b[0m\n",
      "\u001b[0;31mValidationError\u001b[0m: An error occurred (ValidationError) when calling the InvokeEndpoint operation: Endpoint opt30-djl-ds-2022-10-28-19-41-23-882-endpoint of account 622343165275 not found."
     ]
    }
   ],
   "source": [
    "%%time\n",
    "smr_client.invoke_endpoint(\n",
    "    EndpointName=endpoint_name,\n",
    "    Body=json.dumps({\"input\": \"Amazon.com is the best \", \"gen_kwargs\": {\"min_length\":5, \"max_new_tokens\": 100, \"temperature\": 0.8, \"num_beams\": 5, \"no_repeat_ngram_size\": 2} }),\n",
    "    ContentType='application/json'\n",
    ")[\"Body\"].read().decode(\"utf8\")"
   ]
  },
  {
   "cell_type": "markdown",
   "id": "3e54e51c",
   "metadata": {},
   "source": [
    "## Clean Up"
   ]
  },
  {
   "cell_type": "code",
   "execution_count": null,
   "id": "f8a3ff05",
   "metadata": {},
   "outputs": [],
   "source": [
    "# - Delete the end point \n",
    "sm_client.delete_endpoint(EndpointName=endpoint_name)"
   ]
  },
  {
   "cell_type": "code",
   "execution_count": null,
   "id": "8eca1df3",
   "metadata": {},
   "outputs": [],
   "source": [
    "# - In case the end point failed we still want to delete the model \n",
    "sm_client.delete_endpoint_config(EndpointConfigName=endpoint_config_name)\n",
    "sm_client.delete_model(ModelName=model_name)"
   ]
  },
  {
   "cell_type": "markdown",
   "id": "900dcd9d",
   "metadata": {},
   "source": [
    "#### Optionally delete the model checkpoint from S3"
   ]
  },
  {
   "cell_type": "code",
   "execution_count": null,
   "id": "334905bd",
   "metadata": {},
   "outputs": [],
   "source": [
    "!aws s3 rm --recursive s3://{bucket}/{s3_model_prefix}"
   ]
  },
  {
   "cell_type": "code",
   "execution_count": null,
   "id": "743e3bf4",
   "metadata": {},
   "outputs": [],
   "source": [
    "s3_client = boto3.client(\"s3\")"
   ]
  },
  {
   "cell_type": "code",
   "execution_count": null,
   "id": "83428ee3",
   "metadata": {},
   "outputs": [],
   "source": [
    "len(s3_client.list_objects(Bucket=bucket, Prefix=f\"{s3_model_prefix}/\")[\"Contents\"])"
   ]
  },
  {
   "cell_type": "code",
   "execution_count": null,
   "id": "54707705",
   "metadata": {},
   "outputs": [],
   "source": []
  }
 ],
 "metadata": {
  "kernelspec": {
   "display_name": "conda_python3",
   "language": "python",
   "name": "conda_python3"
  },
  "language_info": {
   "codemirror_mode": {
    "name": "ipython",
    "version": 3
   },
   "file_extension": ".py",
   "mimetype": "text/x-python",
   "name": "python",
   "nbconvert_exporter": "python",
   "pygments_lexer": "ipython3",
   "version": "3.8.12"
  },
  "vscode": {
   "interpreter": {
    "hash": "916dbcbb3f70747c44a77c7bcd40155683ae19c65e1c03b4aa3499c5328201f1"
   }
  }
 },
 "nbformat": 4,
 "nbformat_minor": 5
}
